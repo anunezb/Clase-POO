{
 "cells": [
  {
   "cell_type": "markdown",
   "metadata": {},
   "source": [
    "## Pregunta 1"
   ]
  },
  {
   "cell_type": "markdown",
   "metadata": {},
   "source": [
    "Emilio\n",
    "\n",
    "Escribe una función que reciba una frase del usuario y regrese la primera palabra en mayúsculas y en minúsculas. OJO la función debe regresar dos cadenas separadas."
   ]
  },
  {
   "cell_type": "code",
   "execution_count": null,
   "metadata": {},
   "outputs": [],
   "source": [
    "def MayuMinu(frase):\n",
    "# Caso base  1!=1\n",
    "        palabra = frase.split()\n",
    "        Minus = palabra[0]\n",
    "        Mayus = palabra[0]\n",
    "        Minus = Minus.lower()\n",
    "        Mayus = Mayus.upper()\n",
    "        return Minus , Mayus\n",
    "frase = input()\n",
    "print(MayuMinu(frase))"
   ]
  },
  {
   "cell_type": "markdown",
   "metadata": {},
   "source": [
    "\n",
    "\n",
    "Escribe un programa que lea  el género  y los segundos de tiempo en que la realizó cada uno de los 7 corredores de la prueba de 100 metros planos y despliegue si rompieron el récord mundial. Valida la entrada del dato del género (hombre o mujer).\n",
    "\n",
    "Record mundial (seg.)\n",
    " \tMujeres\tHombres\n",
    "100 metros\t10.49\t9.58"
   ]
  },
  {
   "cell_type": "code",
   "execution_count": null,
   "metadata": {},
   "outputs": [],
   "source": [
    "record=\"\"\n",
    "i=1\n",
    "while (i<=7):\n",
    "    while True:\n",
    "        gen=int(input(\"Indique su genero (1 para hombre/2 para mujer)\"))\n",
    "        if (gen==1 or gen==2):\n",
    "            break\n",
    "        else:\n",
    "            print(\"Solo puede indicar '1' o '2'\")\n",
    "    \n",
    "    \n",
    "    tiempo=float(input(\"indique los segundos que tardó en los 100 metros planos\"))\n",
    "    if (gen==1):\n",
    "        if(tiempo<9.58):\n",
    "            record+=\"Ha roto el record mundial el participante \", i\n",
    "        else: \n",
    "            record+=\"no ha roto el record el participante \",str(i)\n",
    "    if (gen==2):\n",
    "        if(tiempo<10.49):\n",
    "            record+=\"Ha roto el record mundialel participante \",str(i)\n",
    "        else: \n",
    "            record+=\"no ha roto el record el participante \", i\n",
    "    i=i+1\n",
    "print(record)"
   ]
  },
  {
   "cell_type": "code",
   "execution_count": 2,
   "metadata": {},
   "outputs": [
    {
     "name": "stdout",
     "output_type": "stream",
     "text": [
      "Indique su genero h o md\n",
      "Solo puede indicar '1' o '2'\n",
      "Indique su genero h o mg\n",
      "Solo puede indicar '1' o '2'\n",
      "Indique su genero h o mh\n",
      "salio\n"
     ]
    }
   ],
   "source": [
    " while True:\n",
    "    gen=input(\"Indique su genero h o m\")\n",
    "    if (gen=='h' or gen=='m'):\n",
    "        break\n",
    "    else:\n",
    "        print(\"Solo puede indicar '1' o '2'\")\n",
    "print(\"salio\")  \n"
   ]
  },
  {
   "cell_type": "markdown",
   "metadata": {},
   "source": [
    "Armando\n",
    "\n",
    "Se tira un dado 100 veces y es necesario hacer un programa para reportar cuantas veces salió cada uno de los números posibles. Valida que la entrada del tiro sea entre 1 y 6."
   ]
  },
  {
   "cell_type": "code",
   "execution_count": null,
   "metadata": {},
   "outputs": [],
   "source": [
    "cont1, cont2, cont3, cont4, cont5, cont6 = 0, 0, 0, 0, 0, 0\n",
    "for x in range(10):\n",
    "    while True:\n",
    "        tiro = int(input(\"Tiro: \"))\n",
    "        if (tiro>0 and tiro<7) :\n",
    "            break #sale del ciclo\n",
    "        else:\n",
    "            print(\"Número inválido\")\n",
    "    if tiro == 1:\n",
    "        cont1 = cont1 + 1\n",
    "    elif tiro == 2:\n",
    "        cont2 = cont2 +1\n",
    "    elif tiro == 3:\n",
    "        cont3 = cont3 +1\n",
    "    elif tiro == 4:\n",
    "        cont4 = cont4 +1\n",
    "    elif tiro == 5:\n",
    "        cont5 = cont5 +1\n",
    "    elif tiro == 6:\n",
    "        cont6 = cont6 +1\n",
    "\n",
    "print(\"El 1 salió\", cont1, \"veces\")\n",
    "print(\"El 2 salió\", cont2, \"veces\")\n",
    "print(\"El 3 salió\", cont3, \"veces\")\n",
    "print(\"El 4 salió\", cont4, \"veces\")\n",
    "print(\"El 5 salió\", cont5, \"veces\")\n",
    "print(\"El 6 salió\", cont6, \"veces\")"
   ]
  },
  {
   "cell_type": "markdown",
   "metadata": {},
   "source": []
  },
  {
   "cell_type": "code",
   "execution_count": null,
   "metadata": {},
   "outputs": [],
   "source": [
    "palabra=input(\"Ingresa una frase: \")\n",
    "palabra = oracion.split\n",
    "#                                                                                                                                                                                                                                                 y luego palabra[0]\n",
    "print (palabra.upper())\n",
    "print (palabra.lower())"
   ]
  },
  {
   "cell_type": "markdown",
   "metadata": {},
   "source": [
    "## Pregunta 2"
   ]
  },
  {
   "cell_type": "markdown",
   "metadata": {},
   "source": [
    "#Álvaro\n",
    "\n",
    "Escribe un función que reciba una lista con 10 IDs  de 7 dígitos ( como en la UP), lea un dominio ( Ej, up.edu.mx) y regrese la lista de todos los correos correspondientes"
   ]
  },
  {
   "cell_type": "code",
   "execution_count": null,
   "metadata": {},
   "outputs": [],
   "source": [
    "def correos(x):    \n",
    "\n",
    "    for c in x:\n",
    "\n",
    "        dominio=input(\"Dime el dominio del correo: \")\n",
    "\n",
    "        correo= c+\"@\"+dominio\n",
    "\n",
    "        IDC=[]\n",
    "\n",
    "        IDC.append(correo)\n",
    "\n",
    "        print(IDC)\n",
    "\n",
    "\n",
    "\n",
    "ID= [\"1234742\", \"1234743\", \"1234744\", \"1234745\", \"1234746\", \"1234747\", \"1234748\", \"1234749\", \"1234750\", \"1234751\" ]\n",
    "\n",
    "print(correos(ID))\n"
   ]
  },
  {
   "cell_type": "markdown",
   "metadata": {},
   "source": [
    "Escribe una función que reciba una lista de palabras y devuelva la longitud de la más larga."
   ]
  },
  {
   "cell_type": "code",
   "execution_count": null,
   "metadata": {},
   "outputs": [],
   "source": [
    "def longitud(lista):\n",
    "    may=0\n",
    "    for l in lista:\n",
    "        x=len(l)\n",
    "        if x>may:\n",
    "            may=x\n",
    "    return may\n",
    "\n",
    "lista=['holaaaaaaaaaa', 'adios', 'jslsdfljsdfl']\n",
    "print(longitud(lista))"
   ]
  },
  {
   "cell_type": "code",
   "execution_count": null,
   "metadata": {},
   "outputs": [],
   "source": [
    "#Rodrigo Barros\n",
    "def listapal(palabras):\n",
    "    palab=[]\n",
    "    for i in palabras:\n",
    "        palab.append((len(i),i))\n",
    "    palab.sort()\n",
    "    print(palab)\n",
    "    return palab[-1][0]\n",
    "lista=['Rodrigo','Barros','Basketball','Examen','unoooooooooooo']\n",
    "print(listapal(lista))"
   ]
  },
  {
   "cell_type": "code",
   "execution_count": null,
   "metadata": {},
   "outputs": [],
   "source": [
    "\"\"\"\n",
    "Created on Thu Feb 25 09:34:36 2021\n",
    "\n",
    "Escribe una función que reciba una lista de palabras \n",
    "y devuelva la longitud de la más larga.\n",
    "\n",
    "@author: Chino\n",
    "\"\"\"\n",
    "\n",
    "def maslarga (lista):\n",
    "    \n",
    "    largo = []\n",
    "    \n",
    "    for x in lista:\n",
    "        dato = len(x)\n",
    "        largo.append(dato)\n",
    "        \n",
    "    maximo = max(largo) \n",
    "\n",
    "    return maximo                 \n",
    "\n",
    "\n",
    "lista =[\"ojoooooooooooo\",\"perro\", \"elefante\",\" papaya\"]\n",
    "\n",
    "print(maslarga(lista))"
   ]
  },
  {
   "cell_type": "markdown",
   "metadata": {},
   "source": [
    "Genera una lista con 20 números dados e imprime una nueva lista que contenga solo los números múltiples de tres de la primera lista."
   ]
  },
  {
   "cell_type": "code",
   "execution_count": null,
   "metadata": {},
   "outputs": [],
   "source": [
    "# Emilio Gómez\n",
    "lista = []\n",
    "nlista = []\n",
    "print(\"Ingresa 20 valores enteros:\")\n",
    "for x in range (3):\n",
    "    numero = int(input())\n",
    "    lista.append(numero)\n",
    "    \n",
    "print(\"\\nTus numeros son:\")\n",
    "print(lista)\n",
    "\n",
    "for x in lista:\n",
    "    if (x%3)==0:\n",
    "        nlista.append(x)\n",
    "print(\"\\nLos valores que son multiplo de 3 son:\")        \n",
    "print(nlista)"
   ]
  },
  {
   "cell_type": "markdown",
   "metadata": {},
   "source": [
    "Escribe una función que reciba una lista de 10 palabras e imprima solo las últimas tres"
   ]
  },
  {
   "cell_type": "code",
   "execution_count": null,
   "metadata": {},
   "outputs": [],
   "source": [
    "#Luis Eduardo Sosa\n",
    "def Funcion(lista):\n",
    "    print(lista[7:10])\n",
    "        \n",
    "lista=[]\n",
    "\n",
    "nombre=\"\"\n",
    "for x in range(10):\n",
    "    nombre=input(\"Escribe una palabra: \")\n",
    "    lista.append(nombre)\n",
    "\n",
    "Funcion(lista)"
   ]
  },
  {
   "cell_type": "code",
   "execution_count": null,
   "metadata": {},
   "outputs": [],
   "source": [
    "#Marinee\n",
    "lista1=[\"azul\",\"verde\",\"1\",\"2\",\"3\",\"4\",\"5\",\"6\",\"7\",\"8\"]\n",
    "def Notas(hi):\n",
    "    for n in range(len(hi)):\n",
    "        if n>=7:\n",
    "            print(hi[n])\n",
    "            \n",
    "Notas(lista1)"
   ]
  },
  {
   "cell_type": "code",
   "execution_count": null,
   "metadata": {},
   "outputs": [],
   "source": [
    "#Enrique\n",
    "def ulttres(lista):\n",
    "    listainv=[]\n",
    "    listainv.append(lista[-3])\n",
    "    listainv.append(lista[-2])\n",
    "    listainv.append(lista[-1])\n",
    "    print(listainv)\n",
    "lista=[]\n",
    "for i in range(4):\n",
    "    palabra=input(\"Deme una palabra \")\n",
    "    lista.append(palabra)\n",
    "while True:\n",
    "    respuesta=input(\"¿Desea agregar otra palabra? (s/n)\")\n",
    "    if respuesta==\"n\":\n",
    "        break\n",
    "    palabra=input(\"Deme una palabra \")\n",
    "    lista.append(palabra)\n",
    "ulttres(lista)"
   ]
  },
  {
   "cell_type": "code",
   "execution_count": null,
   "metadata": {},
   "outputs": [],
   "source": [
    "#Pedro\n",
    "def list(x):\n",
    "   for i in range(7,10):\n",
    "        print(x[i])\n",
    "\n",
    "x=[]\n",
    "for i in range(10):\n",
    "   palabra=input(\"ingrese la palabra\")\n",
    "   x=x+[palabra]\n",
    "list(x)"
   ]
  },
  {
   "cell_type": "markdown",
   "metadata": {},
   "source": [
    "Escribe una función que reciba una lista de palabras, imprima la lista ordenada y regrese la lista al revés."
   ]
  },
  {
   "cell_type": "code",
   "execution_count": null,
   "metadata": {},
   "outputs": [],
   "source": [
    "#Carlos .. falta ordenar\n",
    "def lista(coleccion):\n",
    "    print(coleccion)\n",
    "    #reverso=list()\n",
    "    reverso=[]\n",
    "    for i in range(len(coleccion)): \n",
    "        reverso.append(coleccion[len(coleccion)-1-i])\n",
    "    print(reverso)    \n",
    "coleccion=['Carlos','azul','grande','bimbo']\n",
    "lista(coleccion)"
   ]
  },
  {
   "cell_type": "code",
   "execution_count": null,
   "metadata": {},
   "outputs": [],
   "source": []
  }
 ],
 "metadata": {
  "kernelspec": {
   "display_name": "Python 3",
   "language": "python",
   "name": "python3"
  },
  "language_info": {
   "codemirror_mode": {
    "name": "ipython",
    "version": 3
   },
   "file_extension": ".py",
   "mimetype": "text/x-python",
   "name": "python",
   "nbconvert_exporter": "python",
   "pygments_lexer": "ipython3",
   "version": "3.8.5"
  }
 },
 "nbformat": 4,
 "nbformat_minor": 4
}
