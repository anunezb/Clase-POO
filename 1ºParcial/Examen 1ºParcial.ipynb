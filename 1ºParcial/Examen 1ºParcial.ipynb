{
 "cells": [
  {
   "cell_type": "markdown",
   "metadata": {},
   "source": [
    "# Examen 1ºParcial \"Programación Orientada a Objetos\""
   ]
  },
  {
   "cell_type": "markdown",
   "metadata": {},
   "source": [
    "##### Armando Núñez Bautista"
   ]
  },
  {
   "cell_type": "markdown",
   "metadata": {},
   "source": [
    "1. Se tira un dado 100 veces y es necesario hacer un programa para reportar cuantas veces salió cada uno de los números posibles. Valida que la entrada del tiro sea entre 1 y 6."
   ]
  },
  {
   "cell_type": "code",
   "execution_count": 3,
   "metadata": {},
   "outputs": [
    {
     "name": "stdout",
     "output_type": "stream",
     "text": [
      "Tiro: 1\n",
      "Tiro: 1\n",
      "Tiro: 1\n",
      "Tiro: 1\n",
      "Tiro: 7\n",
      "Número inválido\n",
      "Tiro: 4\n",
      "Tiro: 4\n",
      "Tiro: 2\n",
      "Tiro: 8\n",
      "Número inválido\n",
      "Tiro: 4\n",
      "Tiro: 3\n",
      "Tiro: 3\n",
      "El 1 salió 4 veces\n",
      "El 2 salió 1 veces\n",
      "El 3 salió 2 veces\n",
      "El 4 salió 3 veces\n",
      "El 5 salió 0 veces\n",
      "El 6 salió 0 veces\n"
     ]
    }
   ],
   "source": [
    "cont1, cont2, cont3, cont4, cont5, cont6 = 0, 0, 0, 0, 0, 0\n",
    "for x in range(10): # Cambiar a 100\n",
    "    while True:\n",
    "        tiro = int(input(\"Tiro: \"))\n",
    "        if (tiro>0 and tiro<7) :\n",
    "            break #sale del ciclo\n",
    "        else:\n",
    "            print(\"Número inválido\")\n",
    "    if tiro == 1:\n",
    "        cont1 = cont1 + 1\n",
    "    elif tiro == 2:\n",
    "        cont2 = cont2 +1\n",
    "    elif tiro == 3:\n",
    "        cont3 = cont3 +1\n",
    "    elif tiro == 4:\n",
    "        cont4 = cont4 +1\n",
    "    elif tiro == 5:\n",
    "        cont5 = cont5 +1\n",
    "    elif tiro == 6:\n",
    "        cont6 = cont6 +1\n",
    "\n",
    "print(\"El 1 salió\", cont1, \"veces\")\n",
    "print(\"El 2 salió\", cont2, \"veces\")\n",
    "print(\"El 3 salió\", cont3, \"veces\")\n",
    "print(\"El 4 salió\", cont4, \"veces\")\n",
    "print(\"El 5 salió\", cont5, \"veces\")\n",
    "print(\"El 6 salió\", cont6, \"veces\")"
   ]
  },
  {
   "cell_type": "markdown",
   "metadata": {},
   "source": [
    "2. Escribe un función que reciba una lista con 10 IDs  de 7 dígitos ( como en la UP), lea un dominio ( Ej, up.edu.mx) y regrese la lista de todos los correos correspondientes"
   ]
  },
  {
   "cell_type": "code",
   "execution_count": 22,
   "metadata": {},
   "outputs": [
    {
     "name": "stdout",
     "output_type": "stream",
     "text": [
      "ID: 92892\n",
      "ID: 838373\n",
      "ID: 8939393\n",
      "[92892, 838373, 8939393, '@up.edu.mx', '@up.edu.mx', '@up.edu.mx']\n"
     ]
    }
   ],
   "source": [
    "def Dominio(lista):\n",
    "    for x in range(3):\n",
    "        dom = \"@up.edu.mx\"\n",
    "        lista.append(dom)\n",
    "    return lista\n",
    "\n",
    "lista = []\n",
    "for n in range(3):           \n",
    "    ids = int(input(\"ID: \"))\n",
    "    lista.append(ids)\n",
    "\n",
    "print(Dominio(lista))"
   ]
  },
  {
   "cell_type": "code",
   "execution_count": 19,
   "metadata": {},
   "outputs": [
    {
     "name": "stdout",
     "output_type": "stream",
     "text": [
      "ID: 93456\n",
      "ID: 8753\n",
      "ID: 72812\n",
      "['93456@up.edu.mx', '8753@up.edu.mx', '72812@up.edu.mx']\n"
     ]
    }
   ],
   "source": [
    "def Dominio(lista):\n",
    "    lista_corr = []\n",
    "    for x in lista:\n",
    "        correo = x + \"@up.edu.mx\"\n",
    "        lista_corr.append(correo)\n",
    "    return lista_corr\n",
    "\n",
    "lista = []\n",
    "for n in range(3):           \n",
    "    ids = int(input(\"ID: \"))\n",
    "    ids = str(ids) # Convierto a str para que se pueda sumar\n",
    "    lista.append(ids)\n",
    "\n",
    "print(Dominio(lista))"
   ]
  },
  {
   "cell_type": "markdown",
   "metadata": {},
   "source": [
    "3. Escribe una función que reciba una lista de n palabras e imprima solo las últimas tres"
   ]
  },
  {
   "cell_type": "code",
   "execution_count": 24,
   "metadata": {},
   "outputs": [
    {
     "name": "stdout",
     "output_type": "stream",
     "text": [
      "Tamaño de la lista: 4\n",
      "Palabra: hola\n",
      "Palabra: adios\n",
      "Palabra: baso\n",
      "Palabra: hoja\n",
      "['hola']\n"
     ]
    }
   ],
   "source": [
    "# Falta por corregir\n",
    "def Separacion(lista_p):\n",
    "    print(lista_p[-1:-3])\n",
    "    \n",
    "    \n",
    "lista_p = []\n",
    "tam_lista = int(input(\"Tamaño de la lista: \"))\n",
    "for x in range(tam_lista):\n",
    "    palabras = input(\"Palabra: \")\n",
    "    lista_p.append(palabras)\n",
    "    \n",
    "Separacion(lista_p)"
   ]
  }
 ],
 "metadata": {
  "kernelspec": {
   "display_name": "Python 3",
   "language": "python",
   "name": "python3"
  },
  "language_info": {
   "codemirror_mode": {
    "name": "ipython",
    "version": 3
   },
   "file_extension": ".py",
   "mimetype": "text/x-python",
   "name": "python",
   "nbconvert_exporter": "python",
   "pygments_lexer": "ipython3",
   "version": "3.7.6"
  }
 },
 "nbformat": 4,
 "nbformat_minor": 4
}
