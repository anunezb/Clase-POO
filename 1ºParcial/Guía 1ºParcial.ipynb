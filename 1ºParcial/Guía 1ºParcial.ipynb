{
 "cells": [
  {
   "cell_type": "markdown",
   "metadata": {},
   "source": [
    "# Guía 1ºParcial"
   ]
  },
  {
   "cell_type": "markdown",
   "metadata": {},
   "source": [
    "### Estructuras de control"
   ]
  },
  {
   "cell_type": "markdown",
   "metadata": {},
   "source": [
    "#### \"If\" Sintaxis"
   ]
  },
  {
   "cell_type": "markdown",
   "metadata": {},
   "source": [
    "if condicion :\n",
    "   instuccion(es)\n",
    "elif condicion2 :\n",
    "  instuccion(es)\n",
    "  ....\n",
    "else:\n",
    "   instuccion(es)"
   ]
  },
  {
   "cell_type": "markdown",
   "metadata": {},
   "source": [
    "#### \"Operadores Lógicos"
   ]
  },
  {
   "cell_type": "markdown",
   "metadata": {},
   "source": [
    "- And: and\n",
    "- Ord: or\n",
    "- Not: not\n",
    "- In:  in"
   ]
  },
  {
   "cell_type": "markdown",
   "metadata": {},
   "source": [
    "______________________________________________________________________________________________________________________"
   ]
  },
  {
   "cell_type": "markdown",
   "metadata": {},
   "source": [
    "### Estructuras de repetición"
   ]
  },
  {
   "cell_type": "markdown",
   "metadata": {},
   "source": [
    "#### \"While\""
   ]
  },
  {
   "cell_type": "markdown",
   "metadata": {},
   "source": [
    "- Sencillo:\n",
    "\n",
    "while condicion:\n",
    "     instruccion(es)  #se ejecuta si se cumple la condicion"
   ]
  },
  {
   "cell_type": "markdown",
   "metadata": {},
   "source": [
    "- While completo\n",
    "\n",
    "while condicion:\n",
    "     instruccion(es)  #se ejecuta si se cumple la condicion\n",
    "else: \n",
    "     instruccion(es)  #se ejecuta una vez que la condicion no es verdadera"
   ]
  },
  {
   "cell_type": "code",
   "execution_count": 2,
   "metadata": {},
   "outputs": [
    {
     "name": "stdout",
     "output_type": "stream",
     "text": [
      "1\n",
      "0\n"
     ]
    }
   ],
   "source": [
    "# Swap\n",
    "a,b=0,1  #asigna simultaneamente a=0 y b=1\n",
    "a,b=b,a  #intercambia\n",
    "print(a)\n",
    "print(b)"
   ]
  },
  {
   "cell_type": "markdown",
   "metadata": {},
   "source": [
    "#### \"Validación\""
   ]
  },
  {
   "cell_type": "code",
   "execution_count": 4,
   "metadata": {},
   "outputs": [
    {
     "name": "stdout",
     "output_type": "stream",
     "text": [
      "Numero: -6\n",
      "numero invalido\n",
      "Numero: 5\n"
     ]
    }
   ],
   "source": [
    "#validacion de una entrada entre 1 y 10 inclusive\n",
    "while True:\n",
    "    num=int(input(\"Numero: \"))\n",
    "    if num>=1 and num<=10:\n",
    "        break #sale del ciclo\n",
    "    else:\n",
    "        print(\"numero invalido\")"
   ]
  },
  {
   "cell_type": "code",
   "execution_count": 5,
   "metadata": {},
   "outputs": [
    {
     "name": "stdout",
     "output_type": "stream",
     "text": [
      "Letra y\n",
      "Letra invalido\n",
      "Letra A\n"
     ]
    }
   ],
   "source": [
    "# Validación con letras\n",
    "while True:\n",
    "    letra=input(\"Letra \")\n",
    "    if (letra == \"A\" or letra == \"N\" or letra == \"B\"):\n",
    "        break #sale del ciclo\n",
    "    else:\n",
    "        print(\"Letra invalido\")"
   ]
  },
  {
   "cell_type": "markdown",
   "metadata": {},
   "source": [
    "#### \"For\""
   ]
  },
  {
   "cell_type": "markdown",
   "metadata": {},
   "source": [
    "for variable in secuencia:\n",
    "\tinstruccion(es) "
   ]
  },
  {
   "cell_type": "code",
   "execution_count": 6,
   "metadata": {},
   "outputs": [
    {
     "name": "stdout",
     "output_type": "stream",
     "text": [
      "Vuelta  0\n",
      "Vuelta  1\n",
      "Vuelta  2\n"
     ]
    }
   ],
   "source": [
    "for x in range(3):            #prueba range(inicia,termina,cambio)\n",
    "    print(\"Vuelta \", x)"
   ]
  },
  {
   "cell_type": "markdown",
   "metadata": {},
   "source": [
    "______________________________________________________________________________________________________________________"
   ]
  },
  {
   "cell_type": "markdown",
   "metadata": {},
   "source": [
    "### Secuencias y Contenedores"
   ]
  },
  {
   "cell_type": "markdown",
   "metadata": {},
   "source": [
    "#### \"Listas\""
   ]
  },
  {
   "cell_type": "code",
   "execution_count": 13,
   "metadata": {},
   "outputs": [
    {
     "name": "stdout",
     "output_type": "stream",
     "text": [
      "pan\n",
      "30.5\n",
      "2\n",
      "bimbo\n",
      "\n",
      "primer elemento: pan\n",
      "ultimo elemento 2\n"
     ]
    }
   ],
   "source": [
    "lista =['pan',30.5, 2,'bimbo']  #puede tener elementos de tipos de diferentes \n",
    "for i in lista:\n",
    "    print(i)\n",
    "\n",
    "print(\"\\nprimer elemento:\",lista[0])\n",
    "print(\"ultimo elemento\",lista[-2]) # Leer al reves, al reves inicia en -1 "
   ]
  },
  {
   "cell_type": "code",
   "execution_count": 14,
   "metadata": {},
   "outputs": [
    {
     "name": "stdout",
     "output_type": "stream",
     "text": [
      "numero  2\n",
      "numero  4\n",
      "numero  6\n",
      "numero  8\n"
     ]
    }
   ],
   "source": [
    "numero=[2,4,6,8]\n",
    "for n in numero:           \n",
    "    print(\"numero \", n)"
   ]
  },
  {
   "cell_type": "markdown",
   "metadata": {},
   "source": [
    "Algunas funciones útiles :\n",
    "- append(): añade un elemento al final. Su sintaxis es lista.append()\n",
    "- count(): Es un método que cuenta el número de veces que aparece un ítem. Su sintaxis es lista.count()\n",
    "- extend(): Añade elementos extendiendo la lista uno por uno. Su sintaxis es lista.extend\n",
    "- insert(): Inserta el elemento x en la lista, en el índice i. Su sintaxis es lista.insert(2,\"Algo\")\n",
    "- reverse(): Coloca los elementos de la lsita al revés, i.e. el último se convierte en el primero. Su sintaxix es: lista.reverse()\n",
    "- pop(): Se utiliza para eliminar un elemento de la lista (por defecto el último elemento), y devuelve el valor de dicho elemento. Sintaxis: lista.pop(), o para eliminar el indice que se quiera lista.pop(1) donde 1 es = i\n",
    "- remove(): El método remove () elimina la primera aparición del elemento con el valor especificado. Su sistaxis es: lista.remove(\"hola\")\n",
    "- sort(): Es un método que orden automáticamente los ítems por su valor de menor a mayor (orden ascendente). Su sintaxis es lista.sort(). Para ordenar al revés se puede utilizar lista.sort(reverse = true)\n",
    "- count(): Es un método que cuenta el número de veces que aparece un ítem. Su sintaxis es lista.count(indice)"
   ]
  },
  {
   "cell_type": "markdown",
   "metadata": {},
   "source": [
    "Slice es la representación de una parte de una secuencia\n",
    "a[inicio:fin]  # elementos desde inicio hasta fin-1\n",
    "a[inicio:]     # elementos desde inicio hasta el final de la secuencia\n",
    "a[:fin]        # elementos desde el principio hasta fin-1\n",
    "a[:]           # una copia de todo la secuencia\n",
    "\n",
    "\n",
    "Ej;\n",
    "\n",
    "print(paises[-1])    # último elemento\n",
    "print(paises[-2:])  # los dos últimos elementos\n",
    "print(paises[:-3])  #todo menos los dos últimos elementos"
   ]
  },
  {
   "cell_type": "markdown",
   "metadata": {},
   "source": [
    "#### \"Listas Anidadas\""
   ]
  },
  {
   "cell_type": "code",
   "execution_count": 15,
   "metadata": {},
   "outputs": [
    {
     "name": "stdout",
     "output_type": "stream",
     "text": [
      "['Alemania', 'Berlín']\n",
      "['Brasil', 'Brasilia']\n",
      "['Francia', 'Paris']\n"
     ]
    }
   ],
   "source": [
    "pais_capital=[['Alemania', 'Berlín'], ['Brasil','Brasilia'], ['Francia','Paris']]\n",
    "for p in pais_capital:\n",
    "    print(p)"
   ]
  },
  {
   "cell_type": "code",
   "execution_count": 16,
   "metadata": {},
   "outputs": [
    {
     "name": "stdout",
     "output_type": "stream",
     "text": [
      "Alemania\n",
      "Berlín\n",
      "Brasil\n",
      "Brasilia\n",
      "Francia\n",
      "Paris\n"
     ]
    }
   ],
   "source": [
    "for p in pais_capital:\n",
    "    for c in p:\n",
    "        print(c)"
   ]
  },
  {
   "cell_type": "markdown",
   "metadata": {},
   "source": [
    "#### \"Asociar las listas por índice\""
   ]
  },
  {
   "cell_type": "code",
   "execution_count": 17,
   "metadata": {},
   "outputs": [
    {
     "name": "stdout",
     "output_type": "stream",
     "text": [
      "Juan 25000 gerente\n",
      "Maria 35000 director\n",
      "Ana 30000 analista\n"
     ]
    }
   ],
   "source": [
    "#Asocia las listas por índice\n",
    "nombre = ['Juan', 'Maria', 'Ana']\n",
    "sueldo = [25000, 35000, 30000]\n",
    "puesto=['gerente','director','analista']\n",
    "for n, s,p in zip(nombre, sueldo,puesto): # Se utiliza zip()\n",
    "    print(n, s,p)"
   ]
  },
  {
   "cell_type": "markdown",
   "metadata": {},
   "source": [
    "#### \"Tuplas\""
   ]
  },
  {
   "cell_type": "code",
   "execution_count": 19,
   "metadata": {},
   "outputs": [
    {
     "name": "stdout",
     "output_type": "stream",
     "text": [
      "('jugar', 'correr', 'nadar', 'programar')\n"
     ]
    }
   ],
   "source": [
    "verbos=('jugar','correr','nadar','programar')\n",
    "#verbos[2] = 'nuevo'  # marca error por que no se puede cambiar (son inmutables)\n",
    "#dir(verbos)\n",
    "print(verbos)"
   ]
  },
  {
   "cell_type": "markdown",
   "metadata": {},
   "source": [
    "#### \"Tuplas Anidadas (Matrices)\""
   ]
  },
  {
   "cell_type": "code",
   "execution_count": 20,
   "metadata": {},
   "outputs": [
    {
     "name": "stdout",
     "output_type": "stream",
     "text": [
      "H?Cuantas personas: 5\n",
      "M?Cuantas personas: 4\n",
      "H?Cuantas personas: 7\n",
      "M?Cuantas personas: 3\n",
      "H?Cuantas personas: 1\n",
      "M?Cuantas personas: 9\n",
      "H?Cuantas personas: 5\n",
      "M?Cuantas personas: 6\n",
      "[[5, 4], [7, 3], [1, 9], [5, 6]]\n"
     ]
    }
   ],
   "source": [
    "#Solución \n",
    "meses=(\"ene\",\"feb\",\"mar\",\"dic\")\n",
    "genero=(\"H\",\"M\")\n",
    "listaAño=[]\n",
    "for m in meses:\n",
    "    listaMes=[]\n",
    "    for g in genero:\n",
    "        print(g,end=\"?\")\n",
    "        elemento=int(input(\"Cuantas personas: \"))\n",
    "        listaMes.append(elemento)\n",
    "    listaAño.append(listaMes)\n",
    "print(listaAño)"
   ]
  },
  {
   "cell_type": "code",
   "execution_count": 21,
   "metadata": {},
   "outputs": [
    {
     "name": "stdout",
     "output_type": "stream",
     "text": [
      "Cuantas personas: 4\n",
      "Cuantas personas: 5\n",
      "Cuantas personas: 6\n",
      "Cuantas personas: 3\n",
      "Cuantas personas: 7\n",
      "Cuantas personas: 8\n",
      "Cuantas personas: 9\n",
      "Cuantas personas: 4\n",
      "Cuantas personas: 4\n",
      "Cuantas personas: 5\n",
      "Cuantas personas: 6\n",
      "Cuantas personas: 8\n",
      "[[4, 5], [6, 3], [7, 8], [9, 4], [4, 5], [6, 8]]\n"
     ]
    }
   ],
   "source": [
    "#otra solución sin tuplas que genera una matriz\n",
    "listaAño=[]\n",
    "for m in range(6):\n",
    "    listaMes=[]\n",
    "    for g in range(2):\n",
    "        elemento=int(input(\"Cuantas personas: \"))\n",
    "        listaMes.append(elemento)\n",
    "    else:    \n",
    "        listaAño.append(listaMes)\n",
    "print(listaAño)  "
   ]
  },
  {
   "cell_type": "markdown",
   "metadata": {},
   "source": [
    "#### \"Diccionarios\""
   ]
  },
  {
   "cell_type": "code",
   "execution_count": 23,
   "metadata": {},
   "outputs": [
    {
     "name": "stdout",
     "output_type": "stream",
     "text": [
      "pluma\n",
      "Pedro\n",
      "[2, 4, 3]\n"
     ]
    }
   ],
   "source": [
    "# diccionario vacío\n",
    "dicc = {}\n",
    "# diccionario con llaves enteras\n",
    "articulos = {1: 'pluma', 2: 'goma',3:'lapiz'}\n",
    "# diccionario con llaves mixtas\n",
    "reg = {'nombre': 'Pedro', 5: [2, 4, 3]}\n",
    "\n",
    "print(articulos[1])\n",
    "print(reg['nombre'])\n",
    "print(reg[5])"
   ]
  },
  {
   "cell_type": "code",
   "execution_count": 24,
   "metadata": {},
   "outputs": [
    {
     "data": {
      "text/plain": [
       "'Ana'"
      ]
     },
     "execution_count": 24,
     "metadata": {},
     "output_type": "execute_result"
    }
   ],
   "source": [
    "reg['nombre']='Ana'    #cambia el valor\n",
    "reg['nombre']"
   ]
  },
  {
   "cell_type": "code",
   "execution_count": 25,
   "metadata": {},
   "outputs": [
    {
     "name": "stdout",
     "output_type": "stream",
     "text": [
      "{'nombre': 'Ana', 5: [2, 4, 3], 'talla': 1.7}\n"
     ]
    }
   ],
   "source": [
    "reg['talla']=1.70   #añade un par llave:valor\n",
    "print(reg)"
   ]
  },
  {
   "cell_type": "code",
   "execution_count": 26,
   "metadata": {},
   "outputs": [
    {
     "name": "stdout",
     "output_type": "stream",
     "text": [
      "1.7\n",
      "{'nombre': 'Ana', 5: [2, 4, 3]}\n"
     ]
    }
   ],
   "source": [
    "#para eliminar elementos\n",
    "valor=reg.pop('talla')\n",
    "print(valor)\n",
    "print(reg)"
   ]
  },
  {
   "cell_type": "markdown",
   "metadata": {},
   "source": [
    "#### \"Conjuntos\"\n",
    "Colección desordenada, no indizada y no acepta duplicados, no permite cambios pero si adiciones."
   ]
  },
  {
   "cell_type": "code",
   "execution_count": 27,
   "metadata": {},
   "outputs": [
    {
     "name": "stdout",
     "output_type": "stream",
     "text": [
      "{'peso', 2, 'euro', 'dolar'}\n"
     ]
    }
   ],
   "source": [
    "monedas = {\"peso\", 2, \"euro\"}\n",
    "monedas.add(\"dolar\")\n",
    "print(monedas)"
   ]
  },
  {
   "cell_type": "code",
   "execution_count": 28,
   "metadata": {},
   "outputs": [
    {
     "data": {
      "text/plain": [
       "False"
      ]
     },
     "execution_count": 28,
     "metadata": {},
     "output_type": "execute_result"
    }
   ],
   "source": [
    "'pera' in monedas"
   ]
  },
  {
   "cell_type": "code",
   "execution_count": 29,
   "metadata": {},
   "outputs": [
    {
     "name": "stdout",
     "output_type": "stream",
     "text": [
      "{'libra', 2, 'cad', 'peso', 'dolar', 'yen', 'euro'}\n"
     ]
    }
   ],
   "source": [
    "monedas.update([\"yen\", \"libra\", \"cad\"])\n",
    "print(monedas)"
   ]
  },
  {
   "cell_type": "markdown",
   "metadata": {},
   "source": [
    "#### \"Funciones\""
   ]
  },
  {
   "cell_type": "code",
   "execution_count": null,
   "metadata": {},
   "outputs": [],
   "source": [
    "def imprime():  #encabezado dice nombre de la función y que parámetros recibe\n",
    "    print('instruccion en la definición de la funcion ')"
   ]
  },
  {
   "cell_type": "markdown",
   "metadata": {},
   "source": [
    "#### \"Cadenas\""
   ]
  },
  {
   "cell_type": "code",
   "execution_count": null,
   "metadata": {},
   "outputs": [],
   "source": []
  }
 ],
 "metadata": {
  "kernelspec": {
   "display_name": "Python 3",
   "language": "python",
   "name": "python3"
  },
  "language_info": {
   "codemirror_mode": {
    "name": "ipython",
    "version": 3
   },
   "file_extension": ".py",
   "mimetype": "text/x-python",
   "name": "python",
   "nbconvert_exporter": "python",
   "pygments_lexer": "ipython3",
   "version": "3.7.6"
  }
 },
 "nbformat": 4,
 "nbformat_minor": 4
}
