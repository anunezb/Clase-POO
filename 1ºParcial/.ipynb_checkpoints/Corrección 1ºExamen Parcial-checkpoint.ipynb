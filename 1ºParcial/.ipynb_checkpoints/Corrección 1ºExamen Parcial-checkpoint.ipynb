{
 "cells": [
  {
   "cell_type": "markdown",
   "metadata": {},
   "source": [
    "# Corección 1ºExamen Parcial"
   ]
  },
  {
   "cell_type": "markdown",
   "metadata": {},
   "source": [
    "##### Armando Núñez Bautista"
   ]
  },
  {
   "cell_type": "markdown",
   "metadata": {},
   "source": [
    "2. Escribe un función que reciba una lista con 10 IDs  de 7 dígitos ( como en la UP), lea un dominio ( Ej, up.edu.mx) y regrese la lista de todos los correos correspondientes"
   ]
  },
  {
   "cell_type": "code",
   "execution_count": 1,
   "metadata": {},
   "outputs": [
    {
     "name": "stdout",
     "output_type": "stream",
     "text": [
      "ID: 23456\n",
      "ID: 45674\n",
      "ID: 98097\n",
      "['23456@up.edu.mx', '45674@up.edu.mx', '98097@up.edu.mx']\n"
     ]
    }
   ],
   "source": [
    "def Dominio(lista):\n",
    "    lista_corr = []\n",
    "    for x in lista:\n",
    "        correo = x + \"@up.edu.mx\"\n",
    "        lista_corr.append(correo)\n",
    "    return lista_corr\n",
    "\n",
    "lista = []\n",
    "for n in range(3): # Cambiar a 10          \n",
    "    ids = int(input(\"ID: \"))\n",
    "    ids = str(ids) # Convierto a str para que se pueda sumar\n",
    "    lista.append(ids)\n",
    "\n",
    "print(Dominio(lista))"
   ]
  },
  {
   "cell_type": "markdown",
   "metadata": {},
   "source": [
    "3. Escribe una función que reciba una lista de n palabras e imprima solo las últimas tres"
   ]
  },
  {
   "cell_type": "code",
   "execution_count": 3,
   "metadata": {},
   "outputs": [
    {
     "name": "stdout",
     "output_type": "stream",
     "text": [
      "Número de palabras que desea ingresar: 6\n",
      "Palabra: hola\n",
      "Palabra: adios\n",
      "Palabra: perro\n",
      "Palabra: gato\n",
      "Palabra: maria\n",
      "Palabra: telefono\n",
      "['gato', 'maria', 'telefono']\n"
     ]
    }
   ],
   "source": [
    "def pal(lista_p):\n",
    "    lista_inv = []\n",
    "    lista_inv.append(lista_p[-3])\n",
    "    lista_inv.append(lista_p[-2])\n",
    "    lista_inv.append(lista_p[-1])\n",
    "    print(lista_inv)\n",
    "\n",
    "\n",
    "lista_p = []\n",
    "num = int(input(\"Número de palabras que desea ingresar: \"))\n",
    "for x in range(num):\n",
    "    palabra = input(\"Palabra: \")\n",
    "    lista_p.append(palabra)\n",
    "\n",
    "pal(lista_p)"
   ]
  }
 ],
 "metadata": {
  "kernelspec": {
   "display_name": "Python 3",
   "language": "python",
   "name": "python3"
  },
  "language_info": {
   "codemirror_mode": {
    "name": "ipython",
    "version": 3
   },
   "file_extension": ".py",
   "mimetype": "text/x-python",
   "name": "python",
   "nbconvert_exporter": "python",
   "pygments_lexer": "ipython3",
   "version": "3.7.6"
  }
 },
 "nbformat": 4,
 "nbformat_minor": 4
}
