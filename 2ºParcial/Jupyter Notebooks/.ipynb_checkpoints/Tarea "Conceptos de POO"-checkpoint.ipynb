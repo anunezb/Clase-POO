{
 "cells": [
  {
   "cell_type": "markdown",
   "metadata": {},
   "source": [
    "# Tarea \"Conceptos de POO\""
   ]
  },
  {
   "cell_type": "markdown",
   "metadata": {},
   "source": [
    "##### Armando Núñez Bautista"
   ]
  },
  {
   "cell_type": "markdown",
   "metadata": {},
   "source": [
    "______________________________________________________________________________________________________________________"
   ]
  },
  {
   "cell_type": "markdown",
   "metadata": {},
   "source": [
    "1. Problema BMV (Bolsa Mexicana de Valores)"
   ]
  },
  {
   "cell_type": "code",
   "execution_count": 1,
   "metadata": {},
   "outputs": [
    {
     "name": "stdout",
     "output_type": "stream",
     "text": [
      "Número de títulos: 13\n",
      "Precio de venta: 92\n",
      "Precio de compra: 93\n",
      "Invalido\n",
      "Precio de compra: 88.4\n",
      "\n",
      "- La ganancia fue de: $ 46.799999999999926\n",
      "- El monto de compra fue de: $ 1264.1200000000001\n",
      "- El monto de venta fue de: $ 1315.6\n"
     ]
    }
   ],
   "source": [
    "class Instrumento:\n",
    "    porc_comision = 10 # Atributo de clase\n",
    "    def __init__(self, num_tit, p_venta, p_compra): # Atributos de instancia\n",
    "        self.num_tit = num_tit\n",
    "        self.p_venta = p_venta\n",
    "        self.p_compra = p_compra\n",
    "        # Iniciar variables\n",
    "        self.__ganancia, self.sub_monto_c, self.com, self.monto_total = 0, 0, 0, 0\n",
    "        self.sub_monto_v, self.com_v, self.monto_total_v = 0, 0, 0\n",
    "    def ganancia(self):\n",
    "        self.__ganancia = self.num_tit*(p_venta-p_compra)\n",
    "        return self.__ganancia\n",
    "    def compra(self):\n",
    "        self.sub_monto_c = self.num_tit*self.p_compra\n",
    "        self.com = self.sub_monto_c*(Instrumento.porc_comision/100)\n",
    "        self.monto_total = self.sub_monto_c + self.com \n",
    "        return self.monto_total \n",
    "    def venta(self):\n",
    "        self.sub_monto_v = self.num_tit*self.p_venta\n",
    "        self.com_v = self.sub_monto_v*(Instrumento.porc_comision/100)\n",
    "        self.monto_total_v = self.sub_monto_v + self.com_v\n",
    "        return self.monto_total_v\n",
    "\n",
    "\n",
    "# Main %%%%%%%%%%%%%%%%%%%%%%%%%%%%%%%%%%%%%%%%%%%%%%%%%%%\n",
    "\n",
    "num_tit = int(input(\"Número de títulos: \"))\n",
    "p_venta = float(input(\"Precio de venta: \"))\n",
    "while True:\n",
    "    p_compra = float(input(\"Precio de compra: \"))\n",
    "    if p_compra < p_venta:\n",
    "        break #sale del ciclo\n",
    "    else:\n",
    "        print(\"Invalido\")\n",
    "\n",
    "factura = Instrumento(num_tit, p_venta, p_compra)\n",
    "print(\"\\n- La ganancia fue de: $\",factura.ganancia())\n",
    "print(\"- El monto de compra fue de: $\",factura.compra())\n",
    "print(\"- El monto de venta fue de: $\",factura.venta())"
   ]
  },
  {
   "cell_type": "markdown",
   "metadata": {},
   "source": [
    "______________________________________________________________________________________________________________________"
   ]
  },
  {
   "cell_type": "markdown",
   "metadata": {},
   "source": [
    "2. Problema proveedor de juegos"
   ]
  },
  {
   "cell_type": "code",
   "execution_count": 3,
   "metadata": {},
   "outputs": [
    {
     "name": "stdout",
     "output_type": "stream",
     "text": [
      "Tiempo comprado: 20\n",
      "Tipo de cliente (VIP / Normal): normal\n",
      "Tiempo aire de sesión: 10\n",
      "Tiempo aire de sesión: 3\n",
      "Tiempo aire de sesión: 7\n",
      "\n",
      "Game Over\n",
      "Monto a pagar: $ 400\n"
     ]
    }
   ],
   "source": [
    "class Juego:\n",
    "    def __init__(self, t_comprado, tipo_cliente):\n",
    "        self.t_comprado = t_comprado\n",
    "        self.tipo_cliente = tipo_cliente\n",
    "        # Iniciar variables\n",
    "        self.t_aire, self.acum_t_aire, self.ex, self.cuota = 0, 0, \"\", 0\n",
    "    def monto(self):\n",
    "        # Actualizar tiempo\n",
    "        while self.t_comprado > 0:\n",
    "            self.t_aire = int(input(\"Tiempo aire de sesión: \"))\n",
    "            self.t_comprado = self.t_comprado - self.t_aire\n",
    "            self.acum_t_aire = self.acum_t_aire + self.t_aire\n",
    "        # Monto\n",
    "        if self.tipo_cliente == \"VIP\":\n",
    "            self.ex = input(\"Extender (si/no): \")\n",
    "            if self.ex == \"si\":\n",
    "                self.acum_t_aire = self.acum_t_aire + 60\n",
    "                self.cuota = (self.acum_t_aire*18) + 10\n",
    "            else:\n",
    "                print(\"\\nGame Over\")\n",
    "                self.cuota = self.acum_t_aire*18\n",
    "        elif self.tipo_cliente == \"NORMAL\":\n",
    "            print(\"\\nGame Over\")\n",
    "            self.cuota = self.acum_t_aire*20\n",
    "        return self.cuota\n",
    "            \n",
    "        \n",
    "# Main %%%%%%%%%%%%%%%%%%%%%%%%%%%%%%%%%%%%%%%%%%%%%%%%%%%\n",
    "\n",
    "t_comprado = int(input(\"Tiempo comprado: \"))\n",
    "tipo_cliente = input(\"Tipo de cliente (VIP / Normal): \")\n",
    "tipo_cliente = tipo_cliente.upper()\n",
    "\n",
    "usuario = Juego(t_comprado, tipo_cliente)\n",
    "\n",
    "print(\"Monto a pagar: $\", usuario.monto())"
   ]
  },
  {
   "cell_type": "code",
   "execution_count": null,
   "metadata": {},
   "outputs": [],
   "source": []
  }
 ],
 "metadata": {
  "kernelspec": {
   "display_name": "Python 3",
   "language": "python",
   "name": "python3"
  },
  "language_info": {
   "codemirror_mode": {
    "name": "ipython",
    "version": 3
   },
   "file_extension": ".py",
   "mimetype": "text/x-python",
   "name": "python",
   "nbconvert_exporter": "python",
   "pygments_lexer": "ipython3",
   "version": "3.7.6"
  }
 },
 "nbformat": 4,
 "nbformat_minor": 4
}
