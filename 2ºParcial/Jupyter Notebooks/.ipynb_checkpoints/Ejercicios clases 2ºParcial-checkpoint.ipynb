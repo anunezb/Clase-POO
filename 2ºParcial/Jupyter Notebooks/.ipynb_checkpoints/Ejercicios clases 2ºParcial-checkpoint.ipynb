{
 "cells": [
  {
   "cell_type": "markdown",
   "metadata": {},
   "source": [
    "# Ejercicios clase 18/02/21"
   ]
  },
  {
   "cell_type": "markdown",
   "metadata": {},
   "source": [
    "1. Crear una clase llamada Triangulo. Crear un objeto de esta clase. El objeto tendrá tres atributos a,b, y c representando los lados del triángulo. La clase Triángulo debe tener dos métodos. un método initialize para inicializar los lados. un método para sacar el perímetro de la clase. Imprime el perímetro en el programa principal"
   ]
  },
  {
   "cell_type": "code",
   "execution_count": 6,
   "metadata": {},
   "outputs": [
    {
     "data": {
      "text/plain": [
       "12"
      ]
     },
     "execution_count": 6,
     "metadata": {},
     "output_type": "execute_result"
    }
   ],
   "source": [
    "class Triangulo:\n",
    "    def __init__(self,a,b,c):\n",
    "        self.a=a\n",
    "        self.b=b\n",
    "        self.c=c\n",
    "    def perimetro(self):\n",
    "        peri=self.a+self.b+self.c\n",
    "        return peri\n",
    "    \n",
    "tri=Triangulo(3,4,5)\n",
    "tri.perimetro()      "
   ]
  },
  {
   "cell_type": "code",
   "execution_count": 7,
   "metadata": {},
   "outputs": [
    {
     "name": "stdout",
     "output_type": "stream",
     "text": [
      "Lado a: 4\n",
      "Lado b: 5\n",
      "Lado c: 6\n",
      "15\n"
     ]
    }
   ],
   "source": [
    "class Triángulo:\n",
    "    def __init__(self,a,b,c):\n",
    "        self.a = a\n",
    "        self.b = b\n",
    "        self.c = c\n",
    "    def peri(self):\n",
    "        p = self.a + self.b + self.c\n",
    "        return p\n",
    "\n",
    "a = int(input(\"Lado a: \"))\n",
    "b = int(input(\"Lado b: \"))\n",
    "c = int(input(\"Lado c: \"))\n",
    "obj1 = Triángulo(a, b, c)\n",
    "\n",
    "print(obj1.peri())"
   ]
  },
  {
   "cell_type": "markdown",
   "metadata": {},
   "source": [
    "# Ejercicios clase 23/02/21"
   ]
  },
  {
   "cell_type": "markdown",
   "metadata": {},
   "source": [
    "1. Escribe una clase de una entidad de tu preferencia (coche, figura, animal etc.) que contenga campos para tres datos, un constructor para la clase y un método que despliegue la información."
   ]
  },
  {
   "cell_type": "code",
   "execution_count": 6,
   "metadata": {},
   "outputs": [
    {
     "name": "stdout",
     "output_type": "stream",
     "text": [
      "Da la marca: Audi\n",
      "Da el año: 2020\n",
      "Da el color: Rojo\n",
      "Da el número puertas: 5\n",
      "Da el número de asientos 6\n",
      "- Marca: Audi\n",
      "- Año: 2020\n",
      "- Color: Rojo\n",
      "- Número de puertas: 5\n",
      "- Número de asientos: 6\n",
      "Audi\n"
     ]
    }
   ],
   "source": [
    "class Coche:\n",
    "    def __init__(self, m, a, c, num_p, num_a):\n",
    "        self.marca = m\n",
    "        self.año = a\n",
    "        self.color = c\n",
    "        self.num_puertas = num_p\n",
    "        self.num_asientos = num_a\n",
    "    def datos(self):\n",
    "        print(\"- Marca:\", self.marca)\n",
    "        print(\"- Año:\", self.año)\n",
    "        print(\"- Color:\", self.color)\n",
    "        print(\"- Número de puertas:\", self.num_puertas)\n",
    "        print(\"- Número de asientos:\", self.num_asientos)\n",
    "        \n",
    "\n",
    "marca = input(\"Da la marca: \")\n",
    "año = int(input(\"Da el año: \"))\n",
    "color = input(\"Da el color: \")\n",
    "num_puertas = int(input(\"Da el número puertas: \"))\n",
    "num_asientos = int(input(\"Da el número de asientos \"))\n",
    "\n",
    "coche1 = Coche(marca, año, color, num_puertas, num_asientos)\n",
    "\n",
    "coche1.datos()\n",
    "print(coche1.marca) # Imprime solo un atributo"
   ]
  },
  {
   "cell_type": "markdown",
   "metadata": {},
   "source": [
    "# Ejercicios clase 02/03/21"
   ]
  },
  {
   "cell_type": "markdown",
   "metadata": {},
   "source": [
    "Ejercicio 1:\n",
    "- Añade una variable de instancia a la clase Persona de CURP y otra que tu inventes\n",
    "- Modifica el método imprime para que despliegue toda la información de la persona\n",
    "- Modifica los constructores para que acepten todos los parametros con la información nueva\n",
    "- Añade código para crear una lista de 5 Persona e imprimir su información."
   ]
  },
  {
   "cell_type": "code",
   "execution_count": 5,
   "metadata": {},
   "outputs": [
    {
     "name": "stdout",
     "output_type": "stream",
     "text": [
      "Nombre: Armando\n",
      "Edad: 19\n",
      "CURP: NUBA011027\n",
      "Dirección: Las Flores\n",
      "- Nombre: Armando\n",
      "- Edad: 19\n",
      "- CURP NUBA011027\n",
      "- Dirección Las Flores\n",
      "- Nombre: Armando\n",
      "- Edad: 19\n",
      "- CURP NUBA011027\n",
      "- Dirección Las Flores\n"
     ]
    }
   ],
   "source": [
    "class Persona:\n",
    "    def __init__(self, nom, ed, curp, direc):\n",
    "        self.nombre = nom\n",
    "        self.edad = ed\n",
    "        self.CURP = curp\n",
    "        self.direc = direc\n",
    "    def info_per(self):\n",
    "        print(\"- Nombre:\", self.nombre)\n",
    "        print(\"- Edad:\", self.edad)\n",
    "        print(\"- CURP\", self.CURP)\n",
    "        print(\"- Dirección\", self.direc)\n",
    "\n",
    "nombre = input(\"Nombre: \")\n",
    "edad = int(input(\"Edad: \"))\n",
    "CURP = input(\"CURP: \")\n",
    "direc = input(\"Dirección: \")\n",
    "\n",
    "persona1 = Persona(nombre, edad, CURP, direc)\n",
    "persona2 = Persona(nombre, edad, CURP, direc)\n",
    "\n",
    "persona1.info_per()\n",
    "persona2.info_per()"
   ]
  },
  {
   "cell_type": "code",
   "execution_count": 12,
   "metadata": {},
   "outputs": [
    {
     "name": "stdout",
     "output_type": "stream",
     "text": [
      "Número de personas: 1\n",
      "Nombre: Ar\n",
      "Edad: 10\n",
      "CURP: ll\n",
      "Dirección: lll\n",
      "\n",
      "Persona <__main__.Persona object at 0x7fd3ca3f9d90>\n",
      "- Nombre: Ar\n",
      "- Edad: 10\n",
      "- CURP: ll\n",
      "- Dirección: lll\n"
     ]
    }
   ],
   "source": [
    "class Persona:\n",
    "    def __init__(self, nom, ed, curp, direc):\n",
    "        self.nombre = nom\n",
    "        self.edad = ed\n",
    "        self.CURP = curp\n",
    "        self.direc = direc\n",
    "\n",
    "personas = []\n",
    "num_pers = int(input(\"Número de personas: \"))\n",
    "for i in range(num_pers):\n",
    "    nombre = input(\"Nombre: \")\n",
    "    edad = int(input(\"Edad: \"))\n",
    "    CURP = input(\"CURP: \")\n",
    "    direc = input(\"Dirección: \")\n",
    "    obj = Persona(nombre, edad, CURP, direc) # Agrupo el objeto de persona\n",
    "    personas.append(obj)\n",
    "\n",
    "for j in personas:\n",
    "    print(\"\\nPersona\")\n",
    "    print(\"- Nombre:\", j.nombre)\n",
    "    print(\"- Edad:\", j.edad)\n",
    "    print(\"- CURP:\", j.CURP)\n",
    "    print(\"- Dirección:\", j.direc)"
   ]
  },
  {
   "cell_type": "code",
   "execution_count": null,
   "metadata": {},
   "outputs": [],
   "source": []
  }
 ],
 "metadata": {
  "kernelspec": {
   "display_name": "Python 3",
   "language": "python",
   "name": "python3"
  },
  "language_info": {
   "codemirror_mode": {
    "name": "ipython",
    "version": 3
   },
   "file_extension": ".py",
   "mimetype": "text/x-python",
   "name": "python",
   "nbconvert_exporter": "python",
   "pygments_lexer": "ipython3",
   "version": "3.7.6"
  }
 },
 "nbformat": 4,
 "nbformat_minor": 4
}
