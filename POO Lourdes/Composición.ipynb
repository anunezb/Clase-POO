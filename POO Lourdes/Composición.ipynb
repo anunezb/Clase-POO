{
 "cells": [
  {
   "cell_type": "markdown",
   "metadata": {},
   "source": [
    "#  Composición"
   ]
  },
  {
   "cell_type": "markdown",
   "metadata": {},
   "source": [
    "Composición es un concepto que nos permite modelar la relación ***has-a*** (tiene un..) entre clases. Significa que el compuesto tiene un componente. Esto es un compuesto tiene partes. Desde el punto de vista del programador implica insertar objetos en otro objeto.\n",
    "-  Permite construir objetos reusando otras partes\n",
    "-  Es definido a nivel objeto\n",
    "-  La cardinalidad es el número de objetos que tiene un compuesto ( Ej Carro tiene 4 llantas)"
   ]
  },
  {
   "cell_type": "markdown",
   "metadata": {},
   "source": [
    "Diferencia con Herencia.- La herencia o generalización denota una relación ***is-a*** (es un tipo de ) por ejemplo Coche es un tipo de Vehículo. Indica que una clase pertenece a otra."
   ]
  },
  {
   "cell_type": "markdown",
   "metadata": {},
   "source": [
    "####  *Herencia extiende una clase mientras la composición usa una instancia de otra clase*"
   ]
  },
  {
   "cell_type": "code",
   "execution_count": 2,
   "metadata": {},
   "outputs": [
    {
     "name": "stdout",
     "output_type": "stream",
     "text": [
      "En total la casa tiene 103 metros cuadrados\n",
      "\n",
      "Direccion: \n",
      "A Rodin 498\n",
      "Insurgentes-Mixcoac,Mexico\n",
      "\n"
     ]
    }
   ],
   "source": [
    "#Ejemplo de composición\n",
    "\n",
    "class Casa :\n",
    "    def __init__(self, call, num, col,p):\n",
    "        self.calle=call\n",
    "        self.numero=num\n",
    "        self.colonia=col\n",
    "        self.pais=p\n",
    "        self.recamara=Cuarto('recamara',5,5)  #la casa esta compuesta por cuartos\n",
    "        self.cocina=Cuarto('cocina',6,4)\n",
    "        self.baño=Cuarto('baño',3,4)\n",
    "        self.sala=Cuarto('baño',7,6)\n",
    "        \n",
    "    def mtstotales(self):\n",
    "        total=0\n",
    "        for c in (self.recamara,self.cocina,self.baño, self.sala):\n",
    "            total=total+c.tamaño() \n",
    "        return total\n",
    "           \n",
    "    def direccion(self):\n",
    "        print('\\nDireccion: ')\n",
    "        print(self.calle+' '+self.numero)\n",
    "        print(self.colonia+','+self.pais+'\\n')\n",
    "        \n",
    "        \n",
    "class Cuarto:\n",
    "    def __init__(self, d,l,a):\n",
    "        self.descripcion=d\n",
    "        self.largo=l\n",
    "        self.ancho=a\n",
    "        \n",
    "    def tamaño(self):\n",
    "        return self.largo*self.ancho\n",
    "    \n",
    "micasa=Casa('A Rodin','498','Insurgentes-Mixcoac','Mexico' )  \n",
    "print('En total la casa tiene '+str(micasa.mtstotales())+' metros cuadrados')\n",
    "micasa.direccion() "
   ]
  },
  {
   "cell_type": "markdown",
   "metadata": {},
   "source": [
    "<img src=\"Hotel.png\" style=\"width:500px;height:500px\" />"
   ]
  },
  {
   "cell_type": "code",
   "execution_count": 10,
   "metadata": {},
   "outputs": [],
   "source": [
    "#Ejemplo de composición  ( o agregación para algunos autores)\n",
    "class Hotel:\n",
    "    def __init__(self, dire,ncuartos):\n",
    "        self.direccion=dire\n",
    "        self.numeroCuartos=ncuartos\n",
    "        self.cuartos=[]   #lista de cuartos\n",
    "        self.creaCuartos(ncuartos)\n",
    "        \n",
    "    def checaOcupacion(self):\n",
    "        for c in self.cuartos:\n",
    "            print(str(c.numero)+','+c.estado+' '+str(c.precio)) \n",
    "        \n",
    "    def creaCuartos(self,ncuartos):\n",
    "        for i in range(ncuartos):\n",
    "            t=input('Tipo: ')\n",
    "            if t=='sencillo':\n",
    "                p=2000\n",
    "                cap=2\n",
    "            elif t=='doble':\n",
    "                p=2500\n",
    "                cap=4\n",
    "            else:\n",
    "                p=4000\n",
    "                cap=6\n",
    "            c=Cuarto(t,p,cap,'disponible')\n",
    "            self.cuartos.append(c) #agregación o composición \n",
    "\n",
    "    def reserva(self,num):\n",
    "        if  self.cuartos[num].estado=='disponible':\n",
    "            #self.cuartos[num].estado='reservado'     no se puede por ser privado     \n",
    "            self.cuartos[num].cambiaEdo('r')\n",
    "        else:\n",
    "            print('el cuarto no está disponible')\n",
    "          \n",
    "    def ocupa(self,num):\n",
    "        if  self.cuartos[num].estado!='ocupado':\n",
    "            self.cuartos[num].cambiaEdo('o')\n",
    "        else:\n",
    "            print('el cuarto ya está ocupado')\n",
    "            \n",
    "    def desocupa(self,num):  \n",
    "        if  self.cuartos[num].estado=='ocupado':\n",
    "            self.cuartos[num].cambiaEdo('d')\n",
    "        else:\n",
    "            print('el cuarto no está ocupado')      "
   ]
  },
  {
   "cell_type": "code",
   "execution_count": 11,
   "metadata": {},
   "outputs": [],
   "source": [
    "#Clase cuyos objetos serán una parte de otra clase\n",
    "class Cuarto:\n",
    "    num=0\n",
    "    def __init__(self, t,p,cap,edo):\n",
    "        self.numero=Cuarto.num\n",
    "        self.tipo=t\n",
    "        self.precio=p\n",
    "        self.capacidad=cap\n",
    "        self.estado=edo\n",
    "        Cuarto.num+=1\n",
    "        \n",
    "    def cambiaEdo(self,mov):\n",
    "        if mov=='r':\n",
    "            self.estado='reservado'\n",
    "        elif mov=='o':\n",
    "            self.estado='ocupado'\n",
    "        else: \n",
    "            self.estado='disponible'"
   ]
  },
  {
   "cell_type": "code",
   "execution_count": 12,
   "metadata": {},
   "outputs": [
    {
     "name": "stdout",
     "output_type": "stream",
     "text": [
      "Tipo: sencillo\n",
      "Tipo: doble\n",
      "Tipo: suite\n",
      "\n",
      "1. Checa ocupación del hotel\n",
      "2. Reserva un cuarto\n",
      "3. Ocupa un cuarto\n",
      "4. Desocupa un cuarto\n",
      "5. Terminar\n",
      "da la opcion1\n",
      "0,disponible 2000\n",
      "1,disponible 2500\n",
      "2,disponible 4000\n",
      "\n",
      "1. Checa ocupación del hotel\n",
      "2. Reserva un cuarto\n",
      "3. Ocupa un cuarto\n",
      "4. Desocupa un cuarto\n",
      "5. Terminar\n",
      "da la opcion2\n",
      "0,disponible 2000\n",
      "1,disponible 2500\n",
      "2,disponible 4000\n",
      "Cual quieres reservar (da el numero)?1\n",
      "\n",
      "1. Checa ocupación del hotel\n",
      "2. Reserva un cuarto\n",
      "3. Ocupa un cuarto\n",
      "4. Desocupa un cuarto\n",
      "5. Terminar\n",
      "da la opcion1\n",
      "0,disponible 2000\n",
      "1,reservado 2500\n",
      "2,disponible 4000\n",
      "\n",
      "1. Checa ocupación del hotel\n",
      "2. Reserva un cuarto\n",
      "3. Ocupa un cuarto\n",
      "4. Desocupa un cuarto\n",
      "5. Terminar\n",
      "da la opcion3\n",
      "Cual quieres ocupar (da el numero)?0\n",
      "\n",
      "1. Checa ocupación del hotel\n",
      "2. Reserva un cuarto\n",
      "3. Ocupa un cuarto\n",
      "4. Desocupa un cuarto\n",
      "5. Terminar\n",
      "da la opcion1\n",
      "0,ocupado 2000\n",
      "1,reservado 2500\n",
      "2,disponible 4000\n",
      "\n",
      "1. Checa ocupación del hotel\n",
      "2. Reserva un cuarto\n",
      "3. Ocupa un cuarto\n",
      "4. Desocupa un cuarto\n",
      "5. Terminar\n",
      "da la opcion4\n",
      "Cual quieres desocupar (da el numero)?1\n",
      "el cuarto no está ocupado\n",
      "\n",
      "1. Checa ocupación del hotel\n",
      "2. Reserva un cuarto\n",
      "3. Ocupa un cuarto\n",
      "4. Desocupa un cuarto\n",
      "5. Terminar\n",
      "da la opcion5\n"
     ]
    }
   ],
   "source": [
    "#Aquí inicia el programa\n",
    "miHotel=Hotel('Donatello 21, Insurgentes-Mixcoac',3 ) \n",
    "opcion=1\n",
    "while opcion!=5:\n",
    "    print('\\n1. Checa ocupación del hotel')\n",
    "    print('2. Reserva un cuarto')\n",
    "    print('3. Ocupa un cuarto')\n",
    "    print('4. Desocupa un cuarto')\n",
    "    print('5. Terminar')\n",
    "    opcion=int(input('da la opcion: '))\n",
    "    if opcion==1:\n",
    "        miHotel.checaOcupacion() \n",
    "    elif opcion==2:\n",
    "        miHotel.checaOcupacion()\n",
    "        n=int(input('Cual quieres reservar (da el numero)?'))\n",
    "        miHotel.reserva(n)\n",
    "    elif opcion==3:\n",
    "        n=int(input('Cual quieres ocupar (da el numero)?')) \n",
    "        miHotel.ocupa(n)\n",
    "    elif opcion==4:\n",
    "        n=int(input('Cual quieres desocupar (da el numero)?')) \n",
    "        miHotel.desocupa(n)"
   ]
  },
  {
   "cell_type": "code",
   "execution_count": null,
   "metadata": {},
   "outputs": [],
   "source": []
  }
 ],
 "metadata": {
  "kernelspec": {
   "display_name": "Python 3",
   "language": "python",
   "name": "python3"
  },
  "language_info": {
   "codemirror_mode": {
    "name": "ipython",
    "version": 3
   },
   "file_extension": ".py",
   "mimetype": "text/x-python",
   "name": "python",
   "nbconvert_exporter": "python",
   "pygments_lexer": "ipython3",
   "version": "3.7.3"
  }
 },
 "nbformat": 4,
 "nbformat_minor": 2
}
