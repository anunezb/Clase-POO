{
 "cells": [
  {
   "cell_type": "markdown",
   "metadata": {},
   "source": [
    "## Ejercicio 1"
   ]
  },
  {
   "cell_type": "code",
   "execution_count": null,
   "metadata": {},
   "outputs": [],
   "source": [
    "class Instrumento:\n",
    "    def __init__(self,n,pc,pv):\n",
    "        self.numTit=n\n",
    "        self.pcompra=pc\n",
    "        self.pvta=pv\n",
    "        self.__ganancia=0\n",
    "        \n",
    "    def calculaGanancia(self):\n",
    "        ganancia=self.numTit*(self.pvta-self.pcompra)\n",
    "        self.__ganancia=ganancia\n",
    "        return ganancia\n",
    "    \n",
    "    def compra(self):\n",
    "        self.calculaGanancia()\n",
    "        return self.numTit*self.pcompra\n",
    "\n",
    "n=int(input('Numero de titulos: '))\n",
    "while True:\n",
    "     pc=int(input('Precio de compra: '))\n",
    "     pv=int(input('Precio de venta'))\n",
    "     if pc<pv:\n",
    "            break\n",
    "     else:\n",
    "        print('precio de compra debe ser menor al precio de venta')\n",
    "ins=Instrumento(n,pc,pv)\n",
    "print(ins.calculaGanancia())\n",
    "print(ins.compra())\n",
    "ins.pvta=100"
   ]
  },
  {
   "cell_type": "markdown",
   "metadata": {},
   "source": [
    "## Ejercicio 2"
   ]
  },
  {
   "cell_type": "code",
   "execution_count": null,
   "metadata": {},
   "outputs": [],
   "source": [
    "from abc import ABC,  abstractmethod\n",
    "from datetime import date\n",
    "from datetime import timedelta\n",
    "\n",
    "class Publicaciones(ABC):\n",
    "    def __init__(self,a,e,f):\n",
    "        self.autor=a\n",
    "        self.email=e\n",
    "        self.fecha=f\n",
    "        self.__cuota=0\n",
    "        \n",
    "    @abstractmethod     \n",
    "    def despliega(self):\n",
    "        pass\n",
    "    \n",
    "    def calculaCosto(self,cuota):\n",
    "        self.__cuota=cuota\n",
    "    \n",
    "class ArticuloRevista(Publicaciones):\n",
    "    def __init__(self,a,e,f,r,fac):\n",
    "        super().__init__(a,e,f) \n",
    "        self.__nomRevista=r\n",
    "        self.__factor=fac\n",
    "     \n",
    "    def despliega(self):\n",
    "        print(self.autor)\n",
    "        print(self.fecha)\n",
    "        print(self.__nomRevista)\n",
    "        print(self.__factor)\n",
    "    \n",
    "    def calculaCosto(self,cuota):\n",
    "        super().calculaCosto(cuota) \n",
    "        return cuota*22.2\n",
    "    \n",
    "\n",
    "class ArticuloConferencia(Publicaciones):\n",
    "    def __init__(self):\n",
    "        self.setDatos()\n",
    "        self.__viaticos=350  #ojo faltan datos...\n",
    "     \n",
    "    def setDatos(self):\n",
    "        a=input('Autor: ')\n",
    "        e=input('Email: ')\n",
    "        fp=date(2020,4,1)\n",
    "        self.__fechaInicio=date.today()  #ojo faltan datos...solo son ejemplo de como puede hacerse\n",
    "        self.__fechaFin=date.today()+timedelta(weeks=3)\n",
    "        super().__init__(a,e,fp) \n",
    "    \n",
    "    def despliega(self):\n",
    "        print(self.autor)\n",
    "        print(self.fecha)\n",
    "        print(self.__fechaInicio)\n",
    "        print(self.__fechaFin)\n",
    "    \n",
    "    def calculaCosto(self,cuota):\n",
    "        super().calculaCosto(cuota)\n",
    "        monto=1000+cuota\n",
    "        return monto*22.2\n",
    " \n",
    "\n",
    "\n",
    "opcion=0\n",
    "lista=[]\n",
    "while opcion!=5:\n",
    "    print('1. Articulo de revista')\n",
    "    print('2. Articulo de conferencia')\n",
    "    print('3. Despliega todo')\n",
    "    print('4. Calcula costo todas')\n",
    "    print('5. Terminar')\n",
    "    opcion=int(input('Opcion: '))\n",
    "    if opcion==1:\n",
    "        a=input('Autor: ')\n",
    "        e=input('Email: ')\n",
    "        fp=date(2020,4,1)\n",
    "        r=input('Revista: ')\n",
    "        fac=float(input('Factor: '))\n",
    "        ar=ArticuloRevista(a,e,fp,r,fac)\n",
    "        lista.append(ar)      \n",
    "    elif opcion==2:\n",
    "        ac=ArticuloConferencia()\n",
    "        lista.append(ac) \n",
    "    elif opcion==3:\n",
    "        for x in lista:\n",
    "            x.despliega()\n",
    "    elif opcion==4:\n",
    "        suma=0\n",
    "        for x in lista:\n",
    "            x.despliega()\n",
    "            cuota=float(input('Cuota de publicación en dolares: '))\n",
    "            suma=suma+x.calculaCosto(cuota)\n",
    "        print('Costo todas las publicaciones en pesos: ',suma)   \n",
    "    else:\n",
    "        print('opcion invalida')"
   ]
  },
  {
   "cell_type": "code",
   "execution_count": 18,
   "metadata": {},
   "outputs": [
    {
     "name": "stdout",
     "output_type": "stream",
     "text": [
      "Fecha (aaaa-mm-dd) 2020-12-11\n",
      "11\n",
      "5\n",
      "2020-03-17\n"
     ]
    }
   ],
   "source": [
    "# Ver para más detalles de uso de fechas en Python https://docs.python.org/3/library/datetime.html\n",
    "\n",
    "from datetime import date\n",
    "\n",
    "#leer una fecha y convertirla en tipo datetime\n",
    "fecha_str=input('Fecha (aaaa-mm-dd) ')\n",
    "fecha=date.fromisoformat(fecha_str)\n",
    "print(fecha.day)\n",
    "\n",
    "#Incializar una fecha\n",
    "fecha2=date(2009,5,15)\n",
    "print(fecha2.month)\n",
    "\n",
    "fechaHoy=date.today()  #inicia con la fecha de hoy\n",
    "print(fechaHoy)"
   ]
  },
  {
   "cell_type": "code",
   "execution_count": 2,
   "metadata": {},
   "outputs": [
    {
     "name": "stdout",
     "output_type": "stream",
     "text": [
      "2020-03-17\n",
      "2020-04-01\n"
     ]
    }
   ],
   "source": [
    "from datetime import timedelta\n",
    "from datetime import date\n",
    "\n",
    "fechaHoy=date.today()\n",
    "print(fechaHoy)\n",
    "\n",
    "#Sumar o restar periodos de tiempo\n",
    "fechaDespues=fechaHoy+timedelta(days=15) #una fecha 15 dias después\n",
    "print(fechaDespues)"
   ]
  },
  {
   "cell_type": "code",
   "execution_count": null,
   "metadata": {},
   "outputs": [],
   "source": []
  }
 ],
 "metadata": {
  "kernelspec": {
   "display_name": "Python 3",
   "language": "python",
   "name": "python3"
  },
  "language_info": {
   "codemirror_mode": {
    "name": "ipython",
    "version": 3
   },
   "file_extension": ".py",
   "mimetype": "text/x-python",
   "name": "python",
   "nbconvert_exporter": "python",
   "pygments_lexer": "ipython3",
   "version": "3.7.3"
  }
 },
 "nbformat": 4,
 "nbformat_minor": 2
}
