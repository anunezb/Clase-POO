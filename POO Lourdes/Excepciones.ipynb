{
 "cells": [
  {
   "cell_type": "markdown",
   "metadata": {},
   "source": [
    "# Manejo de Excepciones"
   ]
  },
  {
   "cell_type": "markdown",
   "metadata": {},
   "source": [
    " **Excepciones** son eventos que pueden modificar el flujo de control de un programa.Las excepciones se lanzan cuando se genera un error en Python pero pueden ser interceptadas por el código.\n",
    "Python tiene muchas excepciones incorporadas que obligan a su programa a generar un error cuando algo falla.\n",
    "\n",
    "Cuando se producen estas excepciones, hace que el proceso actual se detenga y lo pasa al proceso de llamada hasta que se maneje. Si no se maneja, nuestro programa se bloqueará.\n",
    "\n",
    "Hay instrucciones que ayudan a detectar errores y cacharlos para evitar que el programa termine."
   ]
  },
  {
   "cell_type": "raw",
   "metadata": {},
   "source": [
    "try:\n",
    "     #corre este código\n",
    "except:\n",
    "     #ejecuta esto si se da una excepción\n",
    "else:\n",
    "     #¿no hay excepciones? corre esto\n",
    "finally: \n",
    "     #siempre corre esto al final     "
   ]
  },
  {
   "cell_type": "markdown",
   "metadata": {},
   "source": [
    "*try/catch* combinación para cachar y recobrarse de una excepción"
   ]
  },
  {
   "cell_type": "code",
   "execution_count": 11,
   "metadata": {},
   "outputs": [
    {
     "name": "stdout",
     "output_type": "stream",
     "text": [
      "divisor:0\n",
      "error\n"
     ]
    }
   ],
   "source": [
    "try:\n",
    "    entero=int(input(\"divisor:\"))\n",
    "    div=100/entero\n",
    "except :  #cacha cualquier error\n",
    "    print('error')"
   ]
  },
  {
   "cell_type": "code",
   "execution_count": 15,
   "metadata": {},
   "outputs": [
    {
     "name": "stdout",
     "output_type": "stream",
     "text": [
      "divisor:0\n",
      "no se puede divisor que sea 0\n"
     ]
    }
   ],
   "source": [
    "try:\n",
    "    entero=int(input(\"divisor:\"))\n",
    "    div=100/entero\n",
    "except ValueError:  #cacha un tipo de error en particular\n",
    "    print('error no capturaste un entero válido')\n",
    "except ZeroDivisionError:\n",
    "    print('no se puede divisor que sea 0')"
   ]
  },
  {
   "cell_type": "code",
   "execution_count": 16,
   "metadata": {},
   "outputs": [
    {
     "name": "stdout",
     "output_type": "stream",
     "text": [
      "divisor:dakñldk\n",
      "invalid literal for int() with base 10: 'dakñldk'\n",
      "si continua\n"
     ]
    }
   ],
   "source": [
    "try:\n",
    "    entero=int(input(\"divisor:\"))\n",
    "    div=100/entero\n",
    "except Exception as e:\n",
    "    print(e)\n",
    "print('si continua')    "
   ]
  },
  {
   "cell_type": "code",
   "execution_count": 7,
   "metadata": {},
   "outputs": [
    {
     "name": "stdout",
     "output_type": "stream",
     "text": [
      "Entero:adfdf\n",
      "error\n",
      "Entero:3\n"
     ]
    }
   ],
   "source": [
    "# para una validación\n",
    "while True:  \n",
    "    try:\n",
    "        entero=int(input(\"Entero:\"))\n",
    "        break\n",
    "    except ValueError:  #cacha un tipo de error en particular\n",
    "        print('error')"
   ]
  },
  {
   "cell_type": "code",
   "execution_count": 20,
   "metadata": {},
   "outputs": [
    {
     "name": "stdout",
     "output_type": "stream",
     "text": [
      "algo paso\n"
     ]
    }
   ],
   "source": [
    "#otro ejemplo:\n",
    "def unElemento(lista, indice):\n",
    "    return lista[indice]\n",
    "\n",
    "try:\n",
    "    unElemento([2,3,1,4,5],5)\n",
    "except:\n",
    "    print('algo paso')"
   ]
  },
  {
   "cell_type": "code",
   "execution_count": 6,
   "metadata": {},
   "outputs": [
    {
     "name": "stdout",
     "output_type": "stream",
     "text": [
      "indice a extraer:10\n",
      "Indice no valido, prueba otra vez\n"
     ]
    }
   ],
   "source": [
    "def unElemento(lista, indice):\n",
    "    return lista[indice]\n",
    "\n",
    "try:\n",
    "    indice=int(input('indice a extraer:'))\n",
    "    print(unElemento([2,3,1,4,5],indice))\n",
    "except IndexError :\n",
    "    print('Indice no valido, prueba otra vez')"
   ]
  },
  {
   "cell_type": "markdown",
   "metadata": {},
   "source": [
    "### Acciones de terminación"
   ]
  },
  {
   "cell_type": "markdown",
   "metadata": {},
   "source": [
    "*try/finally* combinación para garantizar que se realicen ciertas acciones de terminación a pesar de que se dispare una excepción"
   ]
  },
  {
   "cell_type": "code",
   "execution_count": 5,
   "metadata": {},
   "outputs": [
    {
     "name": "stdout",
     "output_type": "stream",
     "text": [
      "Entero:sñldfksñldf\n",
      "error\n",
      "sale\n"
     ]
    }
   ],
   "source": [
    "try:\n",
    "    entero=int(input(\"Entero:\"))\n",
    "except ValueError:  #cacha un tipo de error en particular\n",
    "    print('error')\n",
    "finally:\n",
    "     print('sale')"
   ]
  },
  {
   "cell_type": "markdown",
   "metadata": {},
   "source": [
    "## En el contexto de archivos"
   ]
  },
  {
   "cell_type": "markdown",
   "metadata": {},
   "source": [
    "*with/as* es una alternativa de *try/finally* y realiza actividades de \"limpia\" y es muy utilizado con objetos archivo.\n",
    "\n",
    "Cierra el archivo independientemente de haber ocurrido una excepción o no."
   ]
  },
  {
   "cell_type": "code",
   "execution_count": 19,
   "metadata": {},
   "outputs": [
    {
     "name": "stdout",
     "output_type": "stream",
     "text": [
      "Juan\n",
      "Pedro\n",
      "MariaBrendaErnestoBrendaErnesto\n",
      "Antonio"
     ]
    }
   ],
   "source": [
    "with open('nombres.txt') as archivo:  # es igual que archivo= open('nombres.txt')\n",
    "    for linea in archivo:\n",
    "        print(linea,end='')"
   ]
  },
  {
   "cell_type": "code",
   "execution_count": null,
   "metadata": {},
   "outputs": [],
   "source": []
  }
 ],
 "metadata": {
  "kernelspec": {
   "display_name": "Python 3",
   "language": "python",
   "name": "python3"
  },
  "language_info": {
   "codemirror_mode": {
    "name": "ipython",
    "version": 3
   },
   "file_extension": ".py",
   "mimetype": "text/x-python",
   "name": "python",
   "nbconvert_exporter": "python",
   "pygments_lexer": "ipython3",
   "version": "3.7.3"
  }
 },
 "nbformat": 4,
 "nbformat_minor": 2
}
