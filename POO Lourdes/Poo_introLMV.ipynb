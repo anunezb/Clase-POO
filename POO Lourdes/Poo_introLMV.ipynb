{
 "cells": [
  {
   "cell_type": "markdown",
   "metadata": {},
   "source": [
    "# Bienvenido a Python"
   ]
  },
  {
   "cell_type": "markdown",
   "metadata": {},
   "source": [
    "## Jupiter Notebook.-\n",
    "Es un entorno web interactivo que permite desarrollar y ejecutar código en Python"
   ]
  },
  {
   "cell_type": "code",
   "execution_count": 0,
   "metadata": {
    "colab": {
     "base_uri": "https://localhost:8080/",
     "height": 35
    },
    "colab_type": "code",
    "id": "1B_9zUeqeRWk",
    "outputId": "4a924fac-5b2a-4664-b7ca-012d5b7add82"
   },
   "outputs": [
    {
     "name": "stdout",
     "output_type": "stream",
     "text": [
      "hola mundo!\n"
     ]
    }
   ],
   "source": [
    "# Esto es un comentario\n",
    "print(\"hola mundo!\")"
   ]
  },
  {
   "cell_type": "markdown",
   "metadata": {
    "colab_type": "text",
    "id": "8j46JbJRhsoP"
   },
   "source": [
    "**Sitios de interés para la materia de POO**\n",
    "\n",
    "*colaboratory*\n",
    "\n",
    "*anaconda*\n",
    "\n",
    "*github*\n",
    "\n",
    "*google*"
   ]
  },
  {
   "cell_type": "markdown",
   "metadata": {
    "colab_type": "text",
    "id": "9j1tPR-9i2Qn"
   },
   "source": [
    "## Esto es un subtítulo"
   ]
  },
  {
   "cell_type": "markdown",
   "metadata": {
    "colab_type": "text",
    "id": "ZViV0AFoiO5Z"
   },
   "source": [
    "# Esto es un título"
   ]
  },
  {
   "cell_type": "markdown",
   "metadata": {
    "colab_type": "text",
    "id": "OJsHztYxi8Vd"
   },
   "source": []
  },
  {
   "cell_type": "markdown",
   "metadata": {
    "colab_type": "text",
    "id": "pmrEo83-n6-g"
   },
   "source": [
    "Esta es una celda de **markdown**"
   ]
  },
  {
   "cell_type": "code",
   "execution_count": 12,
   "metadata": {
    "colab": {
     "base_uri": "https://localhost:8080/",
     "height": 35
    },
    "colab_type": "code",
    "id": "swff0q8ajAlM",
    "outputId": "d52c3ce3-e60c-4fc5-d381-8797612f242f"
   },
   "outputs": [
    {
     "data": {
      "text/plain": [
       "9"
      ]
     },
     "execution_count": 12,
     "metadata": {},
     "output_type": "execute_result"
    }
   ],
   "source": [
    "5+4"
   ]
  },
  {
   "cell_type": "code",
   "execution_count": 0,
   "metadata": {
    "colab": {
     "base_uri": "https://localhost:8080/",
     "height": 35
    },
    "colab_type": "code",
    "id": "k05BBpSlh3iE",
    "outputId": "40722dfa-4b47-44d0-94ea-6a33d8ee667b"
   },
   "outputs": [
    {
     "data": {
      "text/plain": [
       "1"
      ]
     },
     "execution_count": 4,
     "metadata": {
      "tags": []
     },
     "output_type": "execute_result"
    }
   ],
   "source": [
    "5-4"
   ]
  },
  {
   "cell_type": "markdown",
   "metadata": {
    "colab_type": "text",
    "id": "W24AV2bZpOcd"
   },
   "source": [
    "# Operadores básicos"
   ]
  },
  {
   "cell_type": "markdown",
   "metadata": {},
   "source": [
    "### Operadores aritméticos"
   ]
  },
  {
   "cell_type": "code",
   "execution_count": 0,
   "metadata": {
    "colab": {
     "base_uri": "https://localhost:8080/",
     "height": 35
    },
    "colab_type": "code",
    "id": "XSG7HYlYpScb",
    "outputId": "325c4a30-3dfc-4ac9-e59f-6033a0ff1580"
   },
   "outputs": [
    {
     "data": {
      "text/plain": [
       "15"
      ]
     },
     "execution_count": 6,
     "metadata": {
      "tags": []
     },
     "output_type": "execute_result"
    }
   ],
   "source": [
    "# Suma\n",
    "10+5"
   ]
  },
  {
   "cell_type": "code",
   "execution_count": 0,
   "metadata": {
    "colab": {
     "base_uri": "https://localhost:8080/",
     "height": 35
    },
    "colab_type": "code",
    "id": "DAcs7k32o60E",
    "outputId": "6c2bee16-2850-442e-dd53-cf23a3e9d10a"
   },
   "outputs": [
    {
     "data": {
      "text/plain": [
       "4"
      ]
     },
     "execution_count": 7,
     "metadata": {
      "tags": []
     },
     "output_type": "execute_result"
    }
   ],
   "source": [
    "# Resta\n",
    "10-6"
   ]
  },
  {
   "cell_type": "code",
   "execution_count": 0,
   "metadata": {
    "colab": {
     "base_uri": "https://localhost:8080/",
     "height": 35
    },
    "colab_type": "code",
    "id": "DZiY45cVpzj8",
    "outputId": "344a2a70-8b25-4888-921d-a0a12585f879"
   },
   "outputs": [
    {
     "data": {
      "text/plain": [
       "6"
      ]
     },
     "execution_count": 8,
     "metadata": {
      "tags": []
     },
     "output_type": "execute_result"
    }
   ],
   "source": [
    "#Multiplicación\n",
    "3*2"
   ]
  },
  {
   "cell_type": "code",
   "execution_count": 0,
   "metadata": {
    "colab": {
     "base_uri": "https://localhost:8080/",
     "height": 35
    },
    "colab_type": "code",
    "id": "v_eZVK3ep4fk",
    "outputId": "294faed2-a268-42e3-d54f-e847dae12887"
   },
   "outputs": [
    {
     "data": {
      "text/plain": [
       "2.6666666666666665"
      ]
     },
     "execution_count": 10,
     "metadata": {
      "tags": []
     },
     "output_type": "execute_result"
    }
   ],
   "source": [
    "# División\n",
    "8/3"
   ]
  },
  {
   "cell_type": "code",
   "execution_count": 0,
   "metadata": {
    "colab": {
     "base_uri": "https://localhost:8080/",
     "height": 35
    },
    "colab_type": "code",
    "id": "JODz958Dp8ie",
    "outputId": "b4616532-7bcf-4795-a141-1e08484b9f4b"
   },
   "outputs": [
    {
     "data": {
      "text/plain": [
       "2"
      ]
     },
     "execution_count": 11,
     "metadata": {
      "tags": []
     },
     "output_type": "execute_result"
    }
   ],
   "source": [
    "# División entera\n",
    "8//3"
   ]
  },
  {
   "cell_type": "code",
   "execution_count": 0,
   "metadata": {
    "colab": {
     "base_uri": "https://localhost:8080/",
     "height": 35
    },
    "colab_type": "code",
    "id": "7-T0zPkUqMeG",
    "outputId": "42d1e769-b85a-4683-ee7f-abc8a797d345"
   },
   "outputs": [
    {
     "data": {
      "text/plain": [
       "2"
      ]
     },
     "execution_count": 12,
     "metadata": {
      "tags": []
     },
     "output_type": "execute_result"
    }
   ],
   "source": [
    "# Módulo de la división\n",
    "8%3"
   ]
  },
  {
   "cell_type": "code",
   "execution_count": 0,
   "metadata": {
    "colab": {
     "base_uri": "https://localhost:8080/",
     "height": 35
    },
    "colab_type": "code",
    "id": "LOUS_OdNqURe",
    "outputId": "9146b7ba-68e8-41c1-9ed0-66262c4ba46c"
   },
   "outputs": [
    {
     "data": {
      "text/plain": [
       "8"
      ]
     },
     "execution_count": 15,
     "metadata": {
      "tags": []
     },
     "output_type": "execute_result"
    }
   ],
   "source": [
    "# Potencia\n",
    "2**3"
   ]
  },
  {
   "cell_type": "code",
   "execution_count": 0,
   "metadata": {
    "colab": {},
    "colab_type": "code",
    "id": "ctsrMRS9qbN-"
   },
   "outputs": [],
   "source": [
    "# Raíz\n",
    "64**0.5"
   ]
  },
  {
   "cell_type": "markdown",
   "metadata": {
    "colab_type": "text",
    "id": "bx0lzRoKqzkI"
   },
   "source": [
    "# Tipos y variables\n",
    "En Python no necesitas declarar variables o el tipo antes de usarlas. "
   ]
  },
  {
   "cell_type": "code",
   "execution_count": 2,
   "metadata": {
    "colab": {},
    "colab_type": "code",
    "id": "mlU8kkgPqpQi"
   },
   "outputs": [],
   "source": [
    "# Declaración de 2 tipos diferentes de variables\n",
    "texto1=\"Hola mundo!\"\n",
    "texto2=10"
   ]
  },
  {
   "cell_type": "code",
   "execution_count": 0,
   "metadata": {
    "colab": {
     "base_uri": "https://localhost:8080/",
     "height": 35
    },
    "colab_type": "code",
    "id": "9Q_63bmxrVbX",
    "outputId": "7895f229-3cc0-4534-e9b9-39e5f96d8aad"
   },
   "outputs": [
    {
     "data": {
      "text/plain": [
       "str"
      ]
     },
     "execution_count": 21,
     "metadata": {
      "tags": []
     },
     "output_type": "execute_result"
    }
   ],
   "source": [
    "# Usamos la función type\n",
    "type(texto1)"
   ]
  },
  {
   "cell_type": "code",
   "execution_count": 0,
   "metadata": {
    "colab": {
     "base_uri": "https://localhost:8080/",
     "height": 35
    },
    "colab_type": "code",
    "id": "jyuKl5HHrg3U",
    "outputId": "0650d781-584d-4a3c-ab98-b6e1c6a36252"
   },
   "outputs": [
    {
     "data": {
      "text/plain": [
       "int"
      ]
     },
     "execution_count": 20,
     "metadata": {
      "tags": []
     },
     "output_type": "execute_result"
    }
   ],
   "source": [
    "type(texto2)"
   ]
  },
  {
   "cell_type": "code",
   "execution_count": 0,
   "metadata": {
    "colab": {
     "base_uri": "https://localhost:8080/",
     "height": 35
    },
    "colab_type": "code",
    "id": "lK994FW1rk6t",
    "outputId": "dfbaadf1-dc49-4455-cbcb-53f61099e9e4"
   },
   "outputs": [
    {
     "data": {
      "text/plain": [
       "type"
      ]
     },
     "execution_count": 22,
     "metadata": {
      "tags": []
     },
     "output_type": "execute_result"
    }
   ],
   "source": [
    "type(int)"
   ]
  },
  {
   "cell_type": "code",
   "execution_count": 0,
   "metadata": {
    "colab": {
     "base_uri": "https://localhost:8080/",
     "height": 35
    },
    "colab_type": "code",
    "id": "u0nxwtVcr7p0",
    "outputId": "8d506f77-3f11-4a40-bb0e-084947a44907"
   },
   "outputs": [
    {
     "data": {
      "text/plain": [
       "builtin_function_or_method"
      ]
     },
     "execution_count": 30,
     "metadata": {
      "tags": []
     },
     "output_type": "execute_result"
    }
   ],
   "source": [
    "type(dir)"
   ]
  },
  {
   "cell_type": "code",
   "execution_count": 0,
   "metadata": {
    "colab": {
     "base_uri": "https://localhost:8080/",
     "height": 55
    },
    "colab_type": "code",
    "id": "cs56WJGfsAX8",
    "outputId": "98cf4d1a-58b4-462d-c5e8-0bb2d01c4f70"
   },
   "outputs": [
    {
     "data": {
      "text/plain": [
       "'Hola mundo!Hola mundo!Hola mundo!Hola mundo!Hola mundo!Hola mundo!Hola mundo!Hola mundo!Hola mundo!Hola mundo!'"
      ]
     },
     "execution_count": 27,
     "metadata": {
      "tags": []
     },
     "output_type": "execute_result"
    }
   ],
   "source": [
    "texto1*texto2"
   ]
  },
  {
   "cell_type": "code",
   "execution_count": 3,
   "metadata": {
    "colab": {
     "base_uri": "https://localhost:8080/",
     "height": 187
    },
    "colab_type": "code",
    "id": "IdRa4StOsQ_0",
    "outputId": "245f24a4-e40a-454e-896d-432ba9286d60"
   },
   "outputs": [
    {
     "data": {
      "text/plain": [
       "'Hola mundo!10'"
      ]
     },
     "execution_count": 3,
     "metadata": {},
     "output_type": "execute_result"
    }
   ],
   "source": [
    "texto1+texto2 #no se puede concatenar tipos diferentes"
   ]
  },
  {
   "cell_type": "code",
   "execution_count": 0,
   "metadata": {
    "colab": {
     "base_uri": "https://localhost:8080/",
     "height": 35
    },
    "colab_type": "code",
    "id": "lwwVGKtnsWzs",
    "outputId": "8b126882-7ee6-41fc-be57-8ed3e2d63dae"
   },
   "outputs": [
    {
     "data": {
      "text/plain": [
       "'Hola mundo!10'"
      ]
     },
     "execution_count": 29,
     "metadata": {
      "tags": []
     },
     "output_type": "execute_result"
    }
   ],
   "source": [
    "texto1+str(texto2)"
   ]
  },
  {
   "cell_type": "code",
   "execution_count": 0,
   "metadata": {
    "colab": {},
    "colab_type": "code",
    "id": "rHCrSjN6shQ7"
   },
   "outputs": [],
   "source": [
    "a=3"
   ]
  },
  {
   "cell_type": "code",
   "execution_count": 0,
   "metadata": {
    "colab": {},
    "colab_type": "code",
    "id": "2KBAoCdqs-x6"
   },
   "outputs": [],
   "source": [
    "b=4"
   ]
  },
  {
   "cell_type": "code",
   "execution_count": 0,
   "metadata": {
    "colab": {},
    "colab_type": "code",
    "id": "IcSSVhBjtAHq"
   },
   "outputs": [],
   "source": [
    "c=(a**2+b**2)**0.5"
   ]
  },
  {
   "cell_type": "code",
   "execution_count": 0,
   "metadata": {
    "colab": {
     "base_uri": "https://localhost:8080/",
     "height": 35
    },
    "colab_type": "code",
    "id": "OtWp5lHItEaC",
    "outputId": "c9de388c-3c30-4265-ac5b-96d0bae448ea"
   },
   "outputs": [
    {
     "data": {
      "text/plain": [
       "5.0"
      ]
     },
     "execution_count": 44,
     "metadata": {
      "tags": []
     },
     "output_type": "execute_result"
    }
   ],
   "source": [
    "c"
   ]
  },
  {
   "cell_type": "code",
   "execution_count": 1,
   "metadata": {
    "colab": {
     "base_uri": "https://localhost:8080/",
     "height": 35
    },
    "colab_type": "code",
    "id": "QbxIsPMUtFGq",
    "outputId": "1f3fea40-8d19-4da1-9cdf-25fde71183cf"
   },
   "outputs": [
    {
     "name": "stdout",
     "output_type": "stream",
     "text": [
      "Ingresa tu nombre:Lourdes\n"
     ]
    }
   ],
   "source": [
    "texto3=input(\"Ingresa tu nombre:\")"
   ]
  },
  {
   "cell_type": "code",
   "execution_count": 2,
   "metadata": {
    "colab": {
     "base_uri": "https://localhost:8080/",
     "height": 35
    },
    "colab_type": "code",
    "id": "O3PDRaeSvdWb",
    "outputId": "4863059e-28ba-4418-9604-9116e30834e8"
   },
   "outputs": [
    {
     "data": {
      "text/plain": [
       "'Lourdes'"
      ]
     },
     "execution_count": 2,
     "metadata": {},
     "output_type": "execute_result"
    }
   ],
   "source": [
    "texto3"
   ]
  },
  {
   "cell_type": "code",
   "execution_count": 0,
   "metadata": {
    "colab": {
     "base_uri": "https://localhost:8080/",
     "height": 35
    },
    "colab_type": "code",
    "id": "6wGkEaLOwCXJ",
    "outputId": "e941acdf-167f-4bed-976a-67e6d9ae6e60"
   },
   "outputs": [
    {
     "data": {
      "text/plain": [
       "str"
      ]
     },
     "execution_count": 48,
     "metadata": {
      "tags": []
     },
     "output_type": "execute_result"
    }
   ],
   "source": [
    "type(texto3)"
   ]
  },
  {
   "cell_type": "code",
   "execution_count": 10,
   "metadata": {
    "colab": {
     "base_uri": "https://localhost:8080/",
     "height": 87
    },
    "colab_type": "code",
    "id": "Q84q3xO-wP4H",
    "outputId": "73f6435d-132f-42c1-f34c-c8db18420289"
   },
   "outputs": [
    {
     "name": "stdout",
     "output_type": "stream",
     "text": [
      "Escribe tu nombre:a\n",
      "Escribe tu apellido paterno:a\n",
      "Escribe tu apellido materno:a\n",
      "Indica tu edad:a\n"
     ]
    }
   ],
   "source": [
    "nombre=input(\"Escribe tu nombre:\")\n",
    "apellido1=input(\"Escribe tu apellido paterno:\")\n",
    "apellido2=input(\"Escribe tu apellido materno:\")\n",
    "edad=input(\"Indica tu edad:\")"
   ]
  },
  {
   "cell_type": "code",
   "execution_count": 11,
   "metadata": {
    "colab": {
     "base_uri": "https://localhost:8080/",
     "height": 35
    },
    "colab_type": "code",
    "id": "7szbaffswitw",
    "outputId": "7e88a078-b141-415b-93af-46f2314c583a"
   },
   "outputs": [
    {
     "data": {
      "text/plain": [
       "'a a a'"
      ]
     },
     "execution_count": 11,
     "metadata": {},
     "output_type": "execute_result"
    }
   ],
   "source": [
    "nombre_completo=nombre+\" \"+apellido1+\" \"+apellido2\n",
    "nombre_completo"
   ]
  },
  {
   "cell_type": "code",
   "execution_count": 6,
   "metadata": {
    "colab": {},
    "colab_type": "code",
    "id": "8RQl5ye6w-A3"
   },
   "outputs": [],
   "source": [
    "# nombre completo y edad\n",
    "nombre_edad=nombre_completo+\" \"+str(edad)"
   ]
  },
  {
   "cell_type": "code",
   "execution_count": 7,
   "metadata": {
    "colab": {
     "base_uri": "https://localhost:8080/",
     "height": 35
    },
    "colab_type": "code",
    "id": "1jCR_4bMyB8M",
    "outputId": "9a77b4b9-8070-46d7-97ac-cef395938755"
   },
   "outputs": [
    {
     "data": {
      "text/plain": [
       "'Guido van Rossum Pérez 25'"
      ]
     },
     "execution_count": 7,
     "metadata": {},
     "output_type": "execute_result"
    }
   ],
   "source": [
    "nombre_edad"
   ]
  },
  {
   "cell_type": "markdown",
   "metadata": {
    "colab": {},
    "colab_type": "code",
    "id": "rfm5QETCyC9c"
   },
   "source": [
    "Ejercicio:\n",
    "    \n",
    "    Escribe un programa que lea un monto en pesos y lo convierta a dólares"
   ]
  },
  {
   "cell_type": "code",
   "execution_count": 5,
   "metadata": {},
   "outputs": [
    {
     "name": "stdout",
     "output_type": "stream",
     "text": [
      "Pesos: 1000\n",
      "Son  54.054054054054056  dolares\n"
     ]
    }
   ],
   "source": [
    "pesos=float(input(\"Pesos: \"))\n",
    "dolares=pesos/18.50\n",
    "print(\"Son \",dolares,\" dolares\")"
   ]
  },
  {
   "cell_type": "code",
   "execution_count": null,
   "metadata": {},
   "outputs": [],
   "source": []
  }
 ],
 "metadata": {
  "colab": {
   "collapsed_sections": [],
   "name": "Poo_introduccion.ipynb",
   "provenance": []
  },
  "kernelspec": {
   "display_name": "Python 3",
   "language": "python",
   "name": "python3"
  },
  "language_info": {
   "codemirror_mode": {
    "name": "ipython",
    "version": 3
   },
   "file_extension": ".py",
   "mimetype": "text/x-python",
   "name": "python",
   "nbconvert_exporter": "python",
   "pygments_lexer": "ipython3",
   "version": "3.7.6"
  }
 },
 "nbformat": 4,
 "nbformat_minor": 1
}
