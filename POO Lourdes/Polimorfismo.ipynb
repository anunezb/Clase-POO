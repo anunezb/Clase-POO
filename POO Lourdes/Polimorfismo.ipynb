{
 "cells": [
  {
   "cell_type": "markdown",
   "metadata": {},
   "source": [
    "#  Polimorfismo"
   ]
  },
  {
   "cell_type": "markdown",
   "metadata": {},
   "source": [
    "-  Usar un tipo de entidad (método, operador , objeto ) para representar diferentes tipos en diversos escenarios.\n",
    "-  Provee flexibilidad y it provides flexibility y acoplamiento bajo para que el código se pueda extender y mantener fácilmente."
   ]
  },
  {
   "cell_type": "markdown",
   "metadata": {},
   "source": [
    "### Polimormisfmo en operadores"
   ]
  },
  {
   "cell_type": "code",
   "execution_count": 1,
   "metadata": {},
   "outputs": [
    {
     "name": "stdout",
     "output_type": "stream",
     "text": [
      "30\n"
     ]
    }
   ],
   "source": [
    "# operador + usado para realizar una suma\n",
    "a=10\n",
    "b=20\n",
    "print(a+b)"
   ]
  },
  {
   "cell_type": "code",
   "execution_count": 3,
   "metadata": {},
   "outputs": [
    {
     "name": "stdout",
     "output_type": "stream",
     "text": [
      "Programacion orientada a objetos\n"
     ]
    }
   ],
   "source": [
    "# operador + usado para realizar una concatenación\n",
    "p='Programacion'\n",
    "o='orientada'\n",
    "ob='objetos'\n",
    "print(p+' '+o+' a '+ob)"
   ]
  },
  {
   "cell_type": "markdown",
   "metadata": {},
   "source": [
    "### Polimormisfmo en funciones"
   ]
  },
  {
   "cell_type": "code",
   "execution_count": 5,
   "metadata": {},
   "outputs": [
    {
     "name": "stdout",
     "output_type": "stream",
     "text": [
      "9\n",
      "3\n",
      "2\n"
     ]
    }
   ],
   "source": [
    "#la función len puede tener diferentes tipos de datos en el argumento y funciona\n",
    "print(len(\"Programas\"))\n",
    "print(len([\"Python\", \"Java\", \"C\"]))\n",
    "print(len({\"Nombre\": \"Juan\", \"Direccion\": \"Augusto Rodin\"}))"
   ]
  },
  {
   "cell_type": "code",
   "execution_count": 8,
   "metadata": {},
   "outputs": [
    {
     "name": "stdout",
     "output_type": "stream",
     "text": [
      "9\n",
      "3\n",
      "2\n"
     ]
    }
   ],
   "source": [
    "def longitud(secuencia):  #la flexibilidad de Python lo permite de manera natural\n",
    "    cont=0\n",
    "    for x in secuencia:\n",
    "        cont=cont+1\n",
    "    return cont\n",
    "\n",
    "print(longitud(\"Programas\"))\n",
    "print(longitud([\"Python\", \"Java\", \"C\"]))\n",
    "print(longitud({\"Nombre\": \"Juan\", \"Direccion\": \"Augusto Rodin\"}))"
   ]
  },
  {
   "cell_type": "markdown",
   "metadata": {},
   "source": [
    "### Clases Polimórficas\n",
    "Dos clases diferentes que tienen interfaces comunes para poder ser usadas con polimorfismo"
   ]
  },
  {
   "cell_type": "code",
   "execution_count": 4,
   "metadata": {},
   "outputs": [
    {
     "name": "stdout",
     "output_type": "stream",
     "text": [
      "Miau\n",
      "Woof woof\n"
     ]
    }
   ],
   "source": [
    "# habilidad de ejecutar una acción sobre un objeto independientemente de su tipo\n",
    "class Gato(object):\n",
    "    def ruido(self):\n",
    "        print(\"Miau\")\n",
    "    \n",
    "class Perro(object):\n",
    "    def ruido(self):\n",
    "        print(\"Woof woof\")\n",
    "        \n",
    "        \n",
    "def emiteSonido(animalType):\n",
    "        animalType.ruido() #dos instancias diferentes llaman a la acción usando el mismo método\n",
    "   \n",
    "\n",
    "gatoObj = Gato()\n",
    "perroObj = Perro()\n",
    "    \n",
    "emiteSonido(gatoObj)\n",
    "emiteSonido(perroObj)"
   ]
  },
  {
   "cell_type": "code",
   "execution_count": 5,
   "metadata": {},
   "outputs": [],
   "source": [
    "#https://www.digitalocean.com/community/tutorials/how-to-apply-polymorphism-to-classes-in-python-3\n",
    "class Shark():\n",
    "    def swim(self):\n",
    "        print(\"The shark is swimming.\")\n",
    "\n",
    "    def swim_backwards(self):\n",
    "        print(\"The shark cannot swim backwards, but can sink backwards.\")\n",
    "\n",
    "    def skeleton(self):\n",
    "        print(\"The shark's skeleton is made of cartilage.\")\n",
    "\n",
    "\n",
    "class Clownfish():\n",
    "    def swim(self):\n",
    "        print(\"The clownfish is swimming.\")\n",
    "\n",
    "    def swim_backwards(self):\n",
    "        print(\"The clownfish can swim backwards.\")\n",
    "\n",
    "    def skeleton(self):\n",
    "        print(\"The clownfish's skeleton is made of bone.\")"
   ]
  },
  {
   "cell_type": "code",
   "execution_count": 6,
   "metadata": {},
   "outputs": [
    {
     "name": "stdout",
     "output_type": "stream",
     "text": [
      "The shark's skeleton is made of cartilage.\n",
      "The clownfish's skeleton is made of bone.\n"
     ]
    }
   ],
   "source": [
    "sammy = Shark()\n",
    "sammy.skeleton()  #Sabe cual usar según el objeto que lo llama\n",
    "\n",
    "casey = Clownfish()\n",
    "casey.skeleton()"
   ]
  },
  {
   "cell_type": "code",
   "execution_count": 7,
   "metadata": {},
   "outputs": [
    {
     "name": "stdout",
     "output_type": "stream",
     "text": [
      "The shark is swimming.\n",
      "The shark cannot swim backwards, but can sink backwards.\n",
      "The shark's skeleton is made of cartilage.\n",
      "The clownfish is swimming.\n",
      "The clownfish can swim backwards.\n",
      "The clownfish's skeleton is made of bone.\n"
     ]
    }
   ],
   "source": [
    "sammy = Shark()\n",
    "casey = Clownfish()\n",
    "\n",
    "#Lo interesante es llamar a los métodos sin importar que tipo de objeto es\n",
    "for fish in (sammy, casey):\n",
    "    fish.swim()\n",
    "    fish.swim_backwards()\n",
    "    fish.skeleton()"
   ]
  },
  {
   "cell_type": "markdown",
   "metadata": {},
   "source": [
    "###  Métodos sobreescritos  (override)"
   ]
  },
  {
   "cell_type": "markdown",
   "metadata": {},
   "source": [
    "Usando métodos con el mismo nombre en una clase derivada estos se sobreescriben sustituyendo los métodos heredados de una clase base.El método debe tener el mismo nombre pero puede o no tener el mismo número de parámetros."
   ]
  },
  {
   "cell_type": "code",
   "execution_count": 12,
   "metadata": {},
   "outputs": [
    {
     "name": "stdout",
     "output_type": "stream",
     "text": [
      "Tamaño 1920x1080\n",
      "Max filas 1048576y Max columnas16384\n",
      "2\n"
     ]
    }
   ],
   "source": [
    "class Ventana:\n",
    "    def __init__(self):\n",
    "        self.largo=1920\n",
    "        self.ancho=1080\n",
    "    def despliega(self):\n",
    "        print('Tamaño '+str(self.largo)+'x'+str(self.ancho))\n",
    "        \n",
    "class Excel(Ventana):\n",
    "    def __init__(self):\n",
    "        self.maxfilas=1048576\n",
    "        self.maxcolumnas=16384       \n",
    "    def despliega(self,a):  \n",
    "        print('Max filas '+str(self.maxfilas)+'y Max columnas'+str(self.maxcolumnas))\n",
    "        print(a)\n",
    "        \n",
    "ventWindows=Ventana()\n",
    "ventWindows.despliega()\n",
    "\n",
    "ventExcel=Excel()\n",
    "ventExcel.despliega(2)  "
   ]
  },
  {
   "cell_type": "code",
   "execution_count": 3,
   "metadata": {},
   "outputs": [
    {
     "ename": "TypeError",
     "evalue": "fun() missing 1 required positional argument: 'b'",
     "output_type": "error",
     "traceback": [
      "\u001b[1;31m---------------------------------------------------------------------------\u001b[0m",
      "\u001b[1;31mTypeError\u001b[0m                                 Traceback (most recent call last)",
      "\u001b[1;32m<ipython-input-3-2a1f744798ff>\u001b[0m in \u001b[0;36m<module>\u001b[1;34m\u001b[0m\n\u001b[0;32m      5\u001b[0m     \u001b[0mprint\u001b[0m\u001b[1;33m(\u001b[0m\u001b[0ma\u001b[0m\u001b[1;33m,\u001b[0m\u001b[0mb\u001b[0m\u001b[1;33m)\u001b[0m\u001b[1;33m\u001b[0m\u001b[1;33m\u001b[0m\u001b[0m\n\u001b[0;32m      6\u001b[0m \u001b[1;33m\u001b[0m\u001b[0m\n\u001b[1;32m----> 7\u001b[1;33m \u001b[0mfun\u001b[0m\u001b[1;33m(\u001b[0m\u001b[1;36m2\u001b[0m\u001b[1;33m)\u001b[0m\u001b[1;33m\u001b[0m\u001b[1;33m\u001b[0m\u001b[0m\n\u001b[0m\u001b[0;32m      8\u001b[0m \u001b[1;31m#fun(2,3)\u001b[0m\u001b[1;33m\u001b[0m\u001b[1;33m\u001b[0m\u001b[1;33m\u001b[0m\u001b[0m\n",
      "\u001b[1;31mTypeError\u001b[0m: fun() missing 1 required positional argument: 'b'"
     ]
    }
   ],
   "source": [
    "#la sobrecarga de métodos tan común en otros lenguajes no se puede en Python\n",
    "\n",
    "def fun(a):\n",
    "    print(a)\n",
    "    \n",
    "def fun(a,b):\n",
    "    print(a,b)\n",
    "    \n",
    "fun(2)\n",
    "#fun(2,3)"
   ]
  }
 ],
 "metadata": {
  "kernelspec": {
   "display_name": "Python 3",
   "language": "python",
   "name": "python3"
  },
  "language_info": {
   "codemirror_mode": {
    "name": "ipython",
    "version": 3
   },
   "file_extension": ".py",
   "mimetype": "text/x-python",
   "name": "python",
   "nbconvert_exporter": "python",
   "pygments_lexer": "ipython3",
   "version": "3.7.3"
  }
 },
 "nbformat": 4,
 "nbformat_minor": 2
}
