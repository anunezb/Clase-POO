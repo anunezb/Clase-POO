{
 "cells": [
  {
   "cell_type": "markdown",
   "metadata": {
    "colab_type": "text",
    "id": "53PE7mWJt_d8"
   },
   "source": [
    "# Cadenas de texto"
   ]
  },
  {
   "cell_type": "markdown",
   "metadata": {
    "colab_type": "text",
    "id": "q77wpitBt_eB"
   },
   "source": [
    "Las cadenas de texto en python estan rodeadas por comillas simples o dobles. Se pueden mostrar utilizando la función <font color='green'> print()</font>:"
   ]
  },
  {
   "cell_type": "code",
   "execution_count": 0,
   "metadata": {
    "colab": {},
    "colab_type": "code",
    "id": "zuZtflJht_eE",
    "outputId": "9f623ef2-1da9-4960-833b-e57d0660e880"
   },
   "outputs": [
    {
     "name": "stdout",
     "output_type": "stream",
     "text": [
      "Hola\n"
     ]
    }
   ],
   "source": [
    "print(\"Hola\")"
   ]
  },
  {
   "cell_type": "markdown",
   "metadata": {
    "colab_type": "text",
    "id": "hNQ5Mcw9t_eV"
   },
   "source": [
    "## Cadenas de multiples lineas"
   ]
  },
  {
   "cell_type": "markdown",
   "metadata": {
    "colab_type": "text",
    "id": "TuvAinCqt_eY"
   },
   "source": [
    "Puedes asignar una cadena de texto a una variable utilizando tres comillas."
   ]
  },
  {
   "cell_type": "code",
   "execution_count": 0,
   "metadata": {
    "colab": {},
    "colab_type": "code",
    "id": "u6bhv0TIt_eb",
    "outputId": "77dbbd6f-1981-45e7-8cdf-320223a2db68"
   },
   "outputs": [
    {
     "name": "stdout",
     "output_type": "stream",
     "text": [
      "Por el campo tranquilo de septiembre,\n",
      "del álamo amarillo alguna hoja,\n",
      "como una estrella rota,\n",
      "girando al suelo viene.\n"
     ]
    }
   ],
   "source": [
    "verso = \"\"\"Por el campo tranquilo de septiembre,\n",
    "del álamo amarillo alguna hoja,\n",
    "como una estrella rota,\n",
    "girando al suelo viene.\"\"\"\"\"\n",
    "print(verso)"
   ]
  },
  {
   "cell_type": "markdown",
   "metadata": {
    "colab_type": "text",
    "id": "FsFHJV9jt_el"
   },
   "source": [
    "## Cadenas como arreglos"
   ]
  },
  {
   "cell_type": "markdown",
   "metadata": {
    "colab_type": "text",
    "id": "bHvKVINPt_en"
   },
   "source": [
    "Los strings en Python son arreglos de bytes representando caracteres.\n",
    "\n",
    "Sin embargo, Python no tiempo un tipo de dato para un solo caracter, como en C# el tipo 'char', un solo caracter en un string con tamaño 1.\n",
    "\n",
    "Se pueden utilizar corchetes para acceder elementos de la cadena de texto."
   ]
  },
  {
   "cell_type": "code",
   "execution_count": 0,
   "metadata": {
    "colab": {},
    "colab_type": "code",
    "id": "yS7SiZnHt_eq",
    "outputId": "24c0d99e-a0f2-4110-e8b1-600f5619f95a"
   },
   "outputs": [
    {
     "name": "stdout",
     "output_type": "stream",
     "text": [
      "e\n"
     ]
    }
   ],
   "source": [
    "# Recuerda que los arreglos empiezan en 0\n",
    "a = \"¡Buenas tardes!\"\n",
    "print(a[3])"
   ]
  },
  {
   "cell_type": "markdown",
   "metadata": {
    "colab_type": "text",
    "id": "6Ic0eic9t_ez"
   },
   "source": [
    "## Slicing"
   ]
  },
  {
   "cell_type": "markdown",
   "metadata": {
    "colab_type": "text",
    "id": "082zwwrTt_e2"
   },
   "source": [
    "De igual forma se puede obtener un rango especifico de la cadeata utilizando la siguiente sintaxis:<font color='green'> nombre_variable[indice_inicial:indice_final]</font> \n",
    "\n",
    "Es importante notar que el caracter del último indice no se incluye."
   ]
  },
  {
   "cell_type": "code",
   "execution_count": 0,
   "metadata": {
    "colab": {},
    "colab_type": "code",
    "id": "xEICJrzSt_e5",
    "outputId": "9a94393b-c2bd-4b27-def6-ff9aad21a60b"
   },
   "outputs": [
    {
     "name": "stdout",
     "output_type": "stream",
     "text": [
      "ena\n"
     ]
    }
   ],
   "source": [
    "saludo = \"Buenas tardes\"\n",
    "print(saludo[2:5])\n",
    "#Se imprime el los caracteres de las posiciones 2, 3 y 4 pero NO el de la 5"
   ]
  },
  {
   "cell_type": "markdown",
   "metadata": {
    "colab_type": "text",
    "id": "MrqOmwUmt_fC"
   },
   "source": [
    "También se pueden utilizar indices negativos para empezar desde el final"
   ]
  },
  {
   "cell_type": "code",
   "execution_count": 0,
   "metadata": {
    "colab": {},
    "colab_type": "code",
    "id": "qTzGATWet_fF",
    "outputId": "c6efd124-2e82-437f-f3d5-8c0b28336192"
   },
   "outputs": [
    {
     "name": "stdout",
     "output_type": "stream",
     "text": [
      "tarde\n"
     ]
    }
   ],
   "source": [
    "saludo = \"Buenas tardes\"\n",
    "print(saludo[-6: -1])"
   ]
  },
  {
   "cell_type": "markdown",
   "metadata": {
    "colab_type": "text",
    "id": "o72SlODSt_fN"
   },
   "source": [
    "## Tamaño"
   ]
  },
  {
   "cell_type": "markdown",
   "metadata": {
    "colab_type": "text",
    "id": "O4MeF4iqt_fP"
   },
   "source": [
    "Para obtener el tamaño de un string se puede usar la función <font color='green'>len()</font>:"
   ]
  },
  {
   "cell_type": "code",
   "execution_count": 2,
   "metadata": {
    "colab": {},
    "colab_type": "code",
    "id": "l19_vDDvt_fS",
    "outputId": "93e1eb21-0da7-4fcb-80e5-75f557aa3317"
   },
   "outputs": [
    {
     "name": "stdout",
     "output_type": "stream",
     "text": [
      "13\n"
     ]
    }
   ],
   "source": [
    "saludo = \"Buenas tardes\"\n",
    "print(len(saludo))"
   ]
  },
  {
   "cell_type": "code",
   "execution_count": 3,
   "metadata": {},
   "outputs": [
    {
     "name": "stdout",
     "output_type": "stream",
     "text": [
      "B\n",
      "u\n",
      "e\n",
      "n\n",
      "a\n",
      "s\n",
      " \n",
      "t\n",
      "a\n",
      "r\n",
      "d\n",
      "e\n",
      "s\n"
     ]
    }
   ],
   "source": [
    "for x in saludo: ## Revisa cada uno de los elementos de saludo, x es el índice.\n",
    "    print(x)"
   ]
  },
  {
   "cell_type": "markdown",
   "metadata": {
    "colab_type": "text",
    "id": "DCxdAJVDt_fZ"
   },
   "source": [
    "## Métodos "
   ]
  },
  {
   "cell_type": "markdown",
   "metadata": {
    "colab_type": "text",
    "id": "TkMvzubet_fd"
   },
   "source": [
    "El método <font color='green'>strip()</font> quita cualquier espacio blanco al inicio o al final:"
   ]
  },
  {
   "cell_type": "code",
   "execution_count": 0,
   "metadata": {
    "colab": {},
    "colab_type": "code",
    "id": "CHwT9mY6t_ff",
    "outputId": "4036ac93-d6c7-46d3-c99c-021b21e5aa91"
   },
   "outputs": [
    {
     "name": "stdout",
     "output_type": "stream",
     "text": [
      "Hola\n"
     ]
    }
   ],
   "source": [
    "saludo = \"  Hola  \"\n",
    "print(saludo.strip())"
   ]
  },
  {
   "cell_type": "markdown",
   "metadata": {
    "colab_type": "text",
    "id": "Ip_4DpK5t_fn"
   },
   "source": [
    "Los métodos <font color='green'>lower()</font> y <font color='green'>upper()</font> regresan la cadena en minúsculas y mayusculas respectivamente"
   ]
  },
  {
   "cell_type": "code",
   "execution_count": 4,
   "metadata": {
    "colab": {},
    "colab_type": "code",
    "id": "A0tkRP6wt_fp",
    "outputId": "a5d24625-33fc-4d37-bcf1-14a833aba3b5"
   },
   "outputs": [
    {
     "name": "stdout",
     "output_type": "stream",
     "text": [
      "hola\n",
      "FERNANDO\n"
     ]
    }
   ],
   "source": [
    "a = \"Hola\"\n",
    "print(a.lower())\n",
    "b = \"Fernando\"\n",
    "print(b.upper())"
   ]
  },
  {
   "cell_type": "code",
   "execution_count": 6,
   "metadata": {},
   "outputs": [
    {
     "data": {
      "text/plain": [
       "'HolaHolaHolaHola'"
      ]
     },
     "execution_count": 6,
     "metadata": {},
     "output_type": "execute_result"
    }
   ],
   "source": [
    "a*4"
   ]
  },
  {
   "cell_type": "code",
   "execution_count": 7,
   "metadata": {},
   "outputs": [
    {
     "data": {
      "text/plain": [
       "'FernandoFernandoFernandoFernando'"
      ]
     },
     "execution_count": 7,
     "metadata": {},
     "output_type": "execute_result"
    }
   ],
   "source": [
    "b*4"
   ]
  },
  {
   "cell_type": "markdown",
   "metadata": {
    "colab_type": "text",
    "id": "nRfCCSDnt_fz"
   },
   "source": [
    "## Concatenación de strings"
   ]
  },
  {
   "cell_type": "markdown",
   "metadata": {
    "colab_type": "text",
    "id": "8z6VjQxkt_f1"
   },
   "source": [
    "Para concatenar o combinar dos cadenas de texto, se puede utilizar el operador '+'"
   ]
  },
  {
   "cell_type": "code",
   "execution_count": 0,
   "metadata": {
    "colab": {},
    "colab_type": "code",
    "id": "T6OvoXg-t_f4",
    "outputId": "bbd83536-d6c9-40a8-f959-072b5bf507eb"
   },
   "outputs": [
    {
     "name": "stdout",
     "output_type": "stream",
     "text": [
      "Hola a todos\n"
     ]
    }
   ],
   "source": [
    "a = \"Hola\"\n",
    "b = \"a todos\"\n",
    "c = a + \" \" + b\n",
    "print(c)"
   ]
  },
  {
   "cell_type": "markdown",
   "metadata": {
    "colab_type": "text",
    "id": "PdV5zyMit_gJ"
   },
   "source": [
    "## Método 'format()'"
   ]
  },
  {
   "cell_type": "markdown",
   "metadata": {
    "colab_type": "text",
    "id": "F57zi2Oct_gL"
   },
   "source": [
    "El método format() toma los argumentos pasados, los formatea y los coloca en la cadena donde están los marcadores de posición {}.\n",
    "\n",
    "El método format() toma un número ilimitado de argumentos y se coloca en los respectivos marcadores de posición."
   ]
  },
  {
   "cell_type": "code",
   "execution_count": 8,
   "metadata": {
    "colab": {},
    "colab_type": "code",
    "id": "aM6yjGxit_gO",
    "outputId": "54d684b1-9e5b-4271-8e63-584a86cbc7cf"
   },
   "outputs": [
    {
     "name": "stdout",
     "output_type": "stream",
     "text": [
      "Quiero 5 kilos de manzanas por $44.99.\n"
     ]
    }
   ],
   "source": [
    "cantidad = 5\n",
    "producto = \"manzanas\"\n",
    "precio = 44.99\n",
    "orden = \"Quiero {} kilos de {} por ${}.\"\n",
    "print(orden.format(cantidad, producto, precio))"
   ]
  },
  {
   "cell_type": "markdown",
   "metadata": {
    "colab_type": "text",
    "id": "R73LkVFwt_gY"
   },
   "source": [
    "También se pueden utilizar números como indices para asegurarse de que los argumentos se colocan en las posiciones correctas."
   ]
  },
  {
   "cell_type": "code",
   "execution_count": 0,
   "metadata": {
    "colab": {},
    "colab_type": "code",
    "id": "CLl9s6lIt_ga",
    "outputId": "cb3f21af-d7dd-46cf-a3bc-a06daca317e9"
   },
   "outputs": [
    {
     "name": "stdout",
     "output_type": "stream",
     "text": [
      "Obtuvo 9.5 de promedio el alumno Juan de 19 años de edad.\n"
     ]
    }
   ],
   "source": [
    "alumno = \"Juan\"\n",
    "edad = 19\n",
    "promedio = 9.5\n",
    "informe = \"Obtuvo {2} de promedio el alumno {0} de {1} años de edad.\"\n",
    "# El primer valor que se de a la función se colocará\n",
    "# en la posición {0} y así sucesivamente\n",
    "print(informe.format(alumno, edad, promedio))"
   ]
  },
  {
   "cell_type": "markdown",
   "metadata": {
    "colab_type": "text",
    "id": "qhycYlHst_gh"
   },
   "source": [
    "También se puede utilizar format() para especificar el formato del texto que ocupe esa posición, colocando ':' dentro de las llaves y especificando el formato deseado."
   ]
  },
  {
   "cell_type": "code",
   "execution_count": 0,
   "metadata": {
    "colab": {},
    "colab_type": "code",
    "id": "mZ5bNXA-t_gk",
    "outputId": "cb564807-fe77-433f-bc42-8f5f9ea5d7e2"
   },
   "outputs": [
    {
     "name": "stdout",
     "output_type": "stream",
     "text": [
      "La temperatura es  35.99 grados centigrados.\n"
     ]
    }
   ],
   "source": [
    "temperatura = 35.98723633\n",
    "reporte = \"La temperatura es {:6.2f} grados centigrados.\"\n",
    "# En el caso '6.2f' el '6' indica que el largo debe ser de 6 caracteres\n",
    "# el '.2' especifica que haya 2 decimales y la 'f' es porque se le quiere dar formato a un float\n",
    "print(reporte.format(temperatura))"
   ]
  },
  {
   "cell_type": "markdown",
   "metadata": {
    "colab_type": "text",
    "id": "hGEkq0Dqt_gr"
   },
   "source": [
    "Si se desea que se colquen ceros para ocupar las posiciones indicadas, se escribe un '0' antes del número que indica la cantidad de caractéres, si no se hace entonces se utilizaran espacios vacios."
   ]
  },
  {
   "cell_type": "code",
   "execution_count": 0,
   "metadata": {
    "colab": {},
    "colab_type": "code",
    "id": "jvaEUZvCt_gt",
    "outputId": "743a4f7e-9a86-4954-f644-6ebb683446c5"
   },
   "outputs": [
    {
     "name": "stdout",
     "output_type": "stream",
     "text": [
      "La temperatura es 000036 grados centigrados.\n"
     ]
    }
   ],
   "source": [
    "temperatura = 35.98723633\n",
    "reporte = \"La temperatura es {:06.0f} grados centigrados.\"\n",
    "print(reporte.format(temperatura))"
   ]
  },
  {
   "cell_type": "code",
   "execution_count": 0,
   "metadata": {
    "colab": {},
    "colab_type": "code",
    "id": "OUfX5KERt_g2",
    "outputId": "bdf0f97f-3c43-41aa-d00f-318449569ad4"
   },
   "outputs": [
    {
     "name": "stdout",
     "output_type": "stream",
     "text": [
      "La temperatura es     36 grados centigrados.\n"
     ]
    }
   ],
   "source": [
    "temperatura = 35.98723633\n",
    "reporte = \"La temperatura es {:6.0f} grados centigrados.\"\n",
    "print(reporte.format(temperatura))"
   ]
  },
  {
   "cell_type": "markdown",
   "metadata": {
    "colab_type": "text",
    "id": "fjNH1snZt_g9"
   },
   "source": [
    "Si se desea trabajar con enteros se utiliza la letra 'd':"
   ]
  },
  {
   "cell_type": "code",
   "execution_count": 0,
   "metadata": {
    "colab": {},
    "colab_type": "code",
    "id": "FN94P4F5t_g_",
    "outputId": "582581ec-7ebb-492e-eb26-9380983698a4"
   },
   "outputs": [
    {
     "name": "stdout",
     "output_type": "stream",
     "text": [
      "La cantidad de alumnos que aprobaron es 008\n"
     ]
    }
   ],
   "source": [
    "alumnos = 8\n",
    "cadena = \"La cantidad de alumnos que aprobaron es {:03d}\"\n",
    "print(cadena.format(alumnos))"
   ]
  },
  {
   "cell_type": "markdown",
   "metadata": {
    "colab_type": "text",
    "id": "6rMDLsV1t_hG"
   },
   "source": [
    "## Caracteres de escape"
   ]
  },
  {
   "cell_type": "markdown",
   "metadata": {
    "colab_type": "text",
    "id": "361GHLGwt_hI"
   },
   "source": [
    "Para insertar caracteres que son ilegales en una cadena, use un carácter de escape.\n",
    "\n",
    "Un carácter de escape es una barra invertida <font color='red'> \\ </font> seguido del carácter que desea insertar.\n",
    "\n",
    "Un ejemplo de un carácter ilegal es una comilla doble dentro de una cadena que está rodeada por comillas dobles.\n",
    "\n",
    "| Código | Resultado |\n",
    "| --- | --- |\n",
    "| \\' | Comilla sencilla |\n",
    "| \\\\ | Diagonal |\n",
    "| \\n | Salto de linea |\n",
    "| \\t | Tabulación |"
   ]
  }
 ],
 "metadata": {
  "colab": {
   "name": "Cadenas.ipynb",
   "provenance": []
  },
  "kernelspec": {
   "display_name": "Python 3",
   "language": "python",
   "name": "python3"
  },
  "language_info": {
   "codemirror_mode": {
    "name": "ipython",
    "version": 3
   },
   "file_extension": ".py",
   "mimetype": "text/x-python",
   "name": "python",
   "nbconvert_exporter": "python",
   "pygments_lexer": "ipython3",
   "version": "3.7.6"
  }
 },
 "nbformat": 4,
 "nbformat_minor": 1
}
