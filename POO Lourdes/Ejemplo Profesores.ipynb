{
 "cells": [
  {
   "cell_type": "markdown",
   "metadata": {},
   "source": [
    "## Ejemplo de práctica que usa las características de programación orientada a objetos"
   ]
  },
  {
   "cell_type": "markdown",
   "metadata": {},
   "source": [
    "En una universidad se requiere un programa para gestionar la información de los profesores. El programa debe permitir:\n",
    "a)\tIngresar información de tantos profesores como quiera el usuario\n",
    "b)\tCalcular el pago total de toda la nómina de profesores de asignatura\n",
    "c)\tImprimir los datos de todos los profesores\n",
    "\n",
    "Existen dos categorías de profesores: de asignatura(A) y de planta(P). A los dos tipos de profesores se les debe asignar un id y capturar su nombre, grado y categoría. Esta información deberá registrarse en un archivo de texto validando la entrada del grado (LIC/MAE/DOC) y de la categoría (A/P).\n",
    "\n",
    "Para los profesores de asignatura se debe también capturar el área en donde dan clase y el máximo de horas que se le puede asignar por ciclo. Hay cuatro funciones que deben poder realizarse a los profesores de asignatura por ciclo: \n",
    "\n",
    "\n",
    "1.\tPagar lo de un ciclo\n",
    "2.\tAsignarle una materia en un ciclo\n",
    "3.\tCalcular las horas totales que actualmente tiene asignadas en un ciclo\n",
    "4.\tImprimir todos sus datos\n",
    "\n",
    "Tanto los pagos como las materias asignadas deben de registrarse en los archivos de texto respectivos.\n",
    "Para los profesores de planta, a su vez, se debe capturar la facultad donde trabaja y su salario base. Las funciones que se deben permitir para los profesores de planta son:\n",
    "\n",
    "\n",
    "1.\tPagar a un profesor tomando en cuenta posibles gratificaciones\n",
    "2.\tImprimir todos sus datos\n"
   ]
  },
  {
   "cell_type": "markdown",
   "metadata": {},
   "source": [
    "<img src=\"Clases Profesor.png\" style=\"width:500px;height:500px\" />"
   ]
  },
  {
   "cell_type": "markdown",
   "metadata": {},
   "source": [
    "### Clase abstracta de Profesor"
   ]
  },
  {
   "cell_type": "code",
   "execution_count": 20,
   "metadata": {},
   "outputs": [],
   "source": [
    "from abc import ABC,  abstractmethod\n",
    "\n",
    "class Profesor(ABC):   #ejemplo abstracción\n",
    "    def __init__(self,idP,nom,gr,cat):\n",
    "        self.idP=idP\n",
    "        self.nombre=nom\n",
    "        self.grado=gr\n",
    "        self.categoria=cat #solo asignatura o planta\n",
    "        self.guardaProf(idP,nom,gr,cat) #guarda un profesor en archivo profesores\n",
    "        \n",
    "    def guardaProf(self,idP,nom,gr,cat):\n",
    "        with open('profesores.txt','a') as archprofs:\n",
    "            linea=idP+','+nom+','+gr+','+cat+'\\n'\n",
    "            archprofs.write(linea)  \n",
    "    \n",
    "    @abstractmethod \n",
    "    def pago():\n",
    "        pass\n",
    "    \n",
    "    def imprime(self): #Ejemplo de Polimorfismo\n",
    "         #imprime datos generales del profesor \n",
    "        print('ID: ',self.idP)\n",
    "        print('Nombre:',self.nombre)\n",
    "        print('Grado: ',self.grado) \n",
    "        print('Categoria: ',self.categoria)"
   ]
  },
  {
   "cell_type": "markdown",
   "metadata": {},
   "source": [
    "### Clase Asignatura \n",
    "Clase derivada de Profesor"
   ]
  },
  {
   "cell_type": "code",
   "execution_count": 23,
   "metadata": {},
   "outputs": [],
   "source": [
    "class Asignatura(Profesor):     #ejemplo de herencia\n",
    "    def __init__(self,idP,nom,gr,cat):\n",
    "        super().__init__(idP,nom,gr,cat)\n",
    "        #Ejemplo de encapsulamiento\n",
    "        self.__area=input(\"En que area trabaja: \")\n",
    "        self.__maxHrs=int(input(\"Max de hrs que puede impartir: \"))\n",
    "         \n",
    "    def pago(self,ciclo):\n",
    "        hrsaPagar=self.horasxCiclo(ciclo)\n",
    "        if self.grado=='lic':\n",
    "            tarifa=50\n",
    "        elif self.grado=='mae':\n",
    "            tarifa=80\n",
    "        else:\n",
    "            tarifa=100\n",
    "        apagar=tarifa*hrsaPagar   \n",
    "        #escribe el pago en un archivo\n",
    "        with open('pagos.txt','a') as archpagos:  \n",
    "            linea=idP+','+ciclo+','+str(apagar)+'\\n'\n",
    "            archpagos.write(linea) \n",
    "        return apagar\n",
    "        \n",
    "    def asignaClase(self):\n",
    "        ciclo=input(\"Ciclo: \")\n",
    "        materia=input(\"Materia: \")\n",
    "        numHoras=int(input(\"Numero de horas de la clase: \"))\n",
    "        total=self.horasxCiclo(ciclo)   #revisa en el archivo cuantas horas tiene programadas para un ciclo\n",
    "        if total+numHoras<=self.__maxHrs:\n",
    "            #asigna una clase para un ciclo\n",
    "            with open('materias.txt','a') as archmaterias:   \n",
    "                linea=idP+','+ciclo+','+materia+','+str(numHoras)+'\\n'\n",
    "                archmaterias.write(linea) \n",
    "        else:\n",
    "            print('Ya tiene '+str(total)+' asignadas')\n",
    "            print('Imposible asignarle '+str(numHoras)+' mas')\n",
    "      \n",
    "    def horasxCiclo(self,ciclo):\n",
    "        total=0\n",
    "        try:\n",
    "            #calcula cuantas horas tiene programadas\n",
    "            with open('materias.txt') as archmaterias:\n",
    "                while True:\n",
    "                    linea = archmaterias.readline()\n",
    "                    if not linea: break\n",
    "                    lista=linea.strip().split(sep=',')\n",
    "                    if lista[0]==self.idP and lista[1]==ciclo :\n",
    "                         total=int(lista[3])+total\n",
    "        except FileNotFoundError:\n",
    "            print('no hay materias aun')\n",
    "        return total\n",
    "     \n",
    "    def imprime(self):   #Ejemplo de polimorfismo\n",
    "        #imprime datos generales del profesor \n",
    "        super().imprime()\n",
    "        #imprime los datos de profesor de asignatura que faltan\n",
    "        print('Area: ',self.__area)\n",
    "        print('Sueldo base: ',self.__maxHrs)\n",
    "        #extrae del archivo materias cuales tiene programadas el profesor y las imprime\n",
    "        tiene=False\n",
    "        try:\n",
    "            print(\"Materias programadas \")\n",
    "            with open('materias.txt') as archmaterias:\n",
    "                 while True:\n",
    "                    linea = archmaterias.readline()\n",
    "                    if not linea: break\n",
    "                    lista=linea.strip().split(sep=',')\n",
    "                    if lista[0]==self.idP:\n",
    "                        tiene=True\n",
    "                        print(linea,end='')\n",
    "        except:\n",
    "             print('no hay materias programadas')    \n",
    "        finally:\n",
    "             if not tiene:\n",
    "                print('El profesor no tiene materias programadas')   "
   ]
  },
  {
   "cell_type": "markdown",
   "metadata": {},
   "source": [
    "### Clase Planta\n",
    "Clase derivada de Profesor"
   ]
  },
  {
   "cell_type": "code",
   "execution_count": 24,
   "metadata": {},
   "outputs": [],
   "source": [
    "class Planta(Profesor):   #ejemplo de herencia\n",
    "    def __init__(self,idP,nom,gr,cat):\n",
    "        super().__init__(idP,nom,gr,cat)\n",
    "        #Ejemplo de encapsulamiento\n",
    "        self.__facultad=input(\"En que facultad trabaja: \")\n",
    "        self.__sueldo=float(input(\"Sueldo base: \"))\n",
    "         \n",
    "    def pago(self):\n",
    "        gratificacion=0\n",
    "        tieneGrat=input('¿El profesor tiene gratificaciones (s/n)?')\n",
    "        if tieneGrat=='s':\n",
    "            gratificacion=float(input('Gratificacion: '))     \n",
    "        return self.__sueldo+gratificacion\n",
    "    \n",
    "    def imprime(self):   #Ejemplo de polimorfismo\n",
    "        #imprime datos generales del profesor \n",
    "        super().imprime() \n",
    "        #imprime los datos de profesor de planta que faltan\n",
    "        print('Facultad: ',self.__facultad)\n",
    "        print('Sueldo base: ',self.__sueldo)"
   ]
  },
  {
   "cell_type": "markdown",
   "metadata": {},
   "source": [
    "### Menú para funciones de profesores de asignatura"
   ]
  },
  {
   "cell_type": "code",
   "execution_count": 25,
   "metadata": {},
   "outputs": [],
   "source": [
    "def menuAsignatura(profAsig):\n",
    "    opcion=1       \n",
    "    while opcion!=5:\n",
    "        print('\\n1. Asigna una clase')\n",
    "        print('2. Calcula cuantas horas tiene programadas')\n",
    "        print('3. Imprime información del profesor')\n",
    "        print('4. Calula pago del profesor' )\n",
    "        print('5. Terminar\\n')\n",
    "        opcion=int(input('Da la opcion: '))\n",
    "        if opcion==1: #Asigna una clase\n",
    "            profAsig.asignaClase() \n",
    "        elif opcion==2:\n",
    "            ciclo=input(\"Ciclo: \")\n",
    "            print('Tiene '+str(profAsig.horasxCiclo(ciclo))+' programadas')\n",
    "        elif opcion==3: \n",
    "            profAsig.imprime()\n",
    "        elif opcion==4: \n",
    "            ciclo=input(\"Ciclo: \")\n",
    "            print('Pago total: ',profAsig.pago(ciclo))\n",
    "        elif opcion==5:\n",
    "            print('Adios')\n",
    "        else:\n",
    "            print('Opcion invalida ')"
   ]
  },
  {
   "cell_type": "markdown",
   "metadata": {},
   "source": [
    "### Menú para funciones de profesores de planta"
   ]
  },
  {
   "cell_type": "code",
   "execution_count": 26,
   "metadata": {},
   "outputs": [],
   "source": [
    "def menuPlanta(profPlanta):\n",
    "    opcion=1       \n",
    "    while opcion!=3:\n",
    "        print('\\n1. Imprime información del profesor')\n",
    "        print('2. Calula pago del profesor' )\n",
    "        print('3. Terminar\\n')\n",
    "        opcion=int(input('Da la opcion: '))\n",
    "        if opcion==1: #Imprime información del profesor\n",
    "            profPlanta.imprime()\n",
    "        elif opcion==2:\n",
    "            print('Pago: ',profPlanta.pago())\n",
    "        elif opcion==3:\n",
    "            print('Adios')\n",
    "        else:\n",
    "            print('Opcion invalida ')   "
   ]
  },
  {
   "cell_type": "markdown",
   "metadata": {},
   "source": [
    "### Aquí inicia el programa "
   ]
  },
  {
   "cell_type": "code",
   "execution_count": 27,
   "metadata": {},
   "outputs": [
    {
     "name": "stdout",
     "output_type": "stream",
     "text": [
      "ID: 15\n",
      "Nombre: Bill Gates\n",
      "Grado (LIC/MAE/DOC) : lic\n",
      "Categoria (A asignatura P planta): a\n",
      "En que area trabaja: ing\n",
      "Max de hrs que puede impartir: 15\n",
      "\n",
      "1. Asigna una clase\n",
      "2. Calcula cuantas horas tiene programadas\n",
      "3. Imprime información del profesor\n",
      "4. Calula pago del profesor\n",
      "5. Terminar\n",
      "\n",
      "Da la opcion: 1\n",
      "Ciclo: 1198\n",
      "Materia: ada\n",
      "Numero de horas de la clase: 10\n",
      "no hay materias aun\n",
      "\n",
      "1. Asigna una clase\n",
      "2. Calcula cuantas horas tiene programadas\n",
      "3. Imprime información del profesor\n",
      "4. Calula pago del profesor\n",
      "5. Terminar\n",
      "\n",
      "Da la opcion: 2\n",
      "Ciclo: 1198\n",
      "Tiene 10 programadas\n",
      "\n",
      "1. Asigna una clase\n",
      "2. Calcula cuantas horas tiene programadas\n",
      "3. Imprime información del profesor\n",
      "4. Calula pago del profesor\n",
      "5. Terminar\n",
      "\n",
      "Da la opcion: 3\n",
      "ID:  15\n",
      "Nombre: Bill Gates\n",
      "Grado:  LIC\n",
      "Categoria:  A\n",
      "Area:  ing\n",
      "Sueldo base:  15\n",
      "Materias programadas \n",
      "15,1198,ada,10\n",
      "\n",
      "1. Asigna una clase\n",
      "2. Calcula cuantas horas tiene programadas\n",
      "3. Imprime información del profesor\n",
      "4. Calula pago del profesor\n",
      "5. Terminar\n",
      "\n",
      "Da la opcion: 4\n",
      "Ciclo: 1198\n",
      "Pago total:  1000\n",
      "\n",
      "1. Asigna una clase\n",
      "2. Calcula cuantas horas tiene programadas\n",
      "3. Imprime información del profesor\n",
      "4. Calula pago del profesor\n",
      "5. Terminar\n",
      "\n",
      "Da la opcion: 5\n",
      "Adios\n",
      "¿Quieres dar de alta otro profesor? (s/n): n\n"
     ]
    }
   ],
   "source": [
    "resp='s'\n",
    "#a) ingresa tantos profesores como quiere el usuario y llama al menú de asignatura y de planta\n",
    "while resp=='s':\n",
    "    idP=input(\"ID: \")\n",
    "    nombre=input(\"Nombre: \")\n",
    "    grado=''\n",
    "    while grado!='LIC' and grado!='MAE' and grado!='DOC': #valida el grado\n",
    "        grado=input(\"Grado (LIC/MAE/DOC) : \").upper()  \n",
    "    categoria=''\n",
    "    while categoria!='A' and categoria!='P':  #valida la categoría\n",
    "        categoria=input(\"Categoria (A asignatura P planta): \").upper() \n",
    "    if categoria=='A':  \n",
    "        profAsig=Asignatura(idP,nombre,grado,categoria)\n",
    "        menuAsignatura(profAsig) \n",
    "    else:\n",
    "        profPlanta=Planta(idP,nombre,grado,categoria)\n",
    "        menuPlanta(profPlanta)\n",
    "    resp=input('¿Quieres dar de alta otro profesor? (s/n): ')  "
   ]
  },
  {
   "cell_type": "code",
   "execution_count": 28,
   "metadata": {},
   "outputs": [
    {
     "name": "stdout",
     "output_type": "stream",
     "text": [
      "Pago total:  1000\n"
     ]
    }
   ],
   "source": [
    "#b) Pago de toda la nomina de profesores de asignatura\n",
    "pagoTodos=0\n",
    "try:\n",
    "    with open('pagos.txt') as archpagos:\n",
    "        while True:\n",
    "            linea = archpagos.readline()\n",
    "            if not linea: break\n",
    "            lista=linea.strip().split(sep=',')\n",
    "            pagoTodos=pagoTodos+int(lista[2])\n",
    "except:\n",
    "    print('no hay pagos aun')\n",
    "finally:\n",
    "    print('Pago total: ',pagoTodos)"
   ]
  },
  {
   "cell_type": "code",
   "execution_count": 29,
   "metadata": {},
   "outputs": [
    {
     "name": "stdout",
     "output_type": "stream",
     "text": [
      "1,Uno,lic,A\n",
      "2,Dos,mae,P\n",
      "3,Tres,doc,P\n",
      "4,Cuatro,doc,A\n",
      "5,Cinco,doc,A\n",
      "6,Seis,doc,A\n",
      "7,Siete,mae,A\n",
      "8,ocho,DOC,A\n",
      "8,ocho,DOC,A\n",
      "8,ocho,LIC,A\n",
      "9,nueve,MAE,P\n",
      "9,nueve,LIC,P\n",
      "9,nueve,LIC,P\n",
      "10,diez,MAE,P\n",
      "11,once,DOC,P\n",
      "15,Bill Gates,LIC,A\n",
      "\n"
     ]
    }
   ],
   "source": [
    "#c) imprime los datos de todos los profesores    \n",
    "try:\n",
    "    with open('profesores.txt') as archprofs:   \n",
    "        print(archprofs.read())\n",
    "except:\n",
    "    print('no hay profesores')"
   ]
  },
  {
   "cell_type": "markdown",
   "metadata": {},
   "source": [
    "### Archivos"
   ]
  },
  {
   "cell_type": "markdown",
   "metadata": {},
   "source": [
    "<img src=\"Archivos.png\" style=\"width:800px;height:300px\" />"
   ]
  },
  {
   "cell_type": "code",
   "execution_count": null,
   "metadata": {},
   "outputs": [],
   "source": []
  }
 ],
 "metadata": {
  "kernelspec": {
   "display_name": "Python 3",
   "language": "python",
   "name": "python3"
  },
  "language_info": {
   "codemirror_mode": {
    "name": "ipython",
    "version": 3
   },
   "file_extension": ".py",
   "mimetype": "text/x-python",
   "name": "python",
   "nbconvert_exporter": "python",
   "pygments_lexer": "ipython3",
   "version": "3.7.3"
  }
 },
 "nbformat": 4,
 "nbformat_minor": 2
}
