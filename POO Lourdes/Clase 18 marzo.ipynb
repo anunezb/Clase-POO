{
 "cells": [
  {
   "cell_type": "markdown",
   "metadata": {},
   "source": [
    "##  Clase 18 de marzo"
   ]
  },
  {
   "cell_type": "markdown",
   "metadata": {},
   "source": [
    "1. Revisión de la tarea de archivos\n",
    "2. Tarea Conceptos Orientados a Objetos \n",
    "   -  Concepto de Abstracción\n",
    "   -  Uso de fechas\n",
    "4. Evaluación del segundo parcial"
   ]
  },
  {
   "cell_type": "markdown",
   "metadata": {},
   "source": [
    "## Abstracción"
   ]
  },
  {
   "cell_type": "markdown",
   "metadata": {},
   "source": [
    "-  Se usa una clase abstracta si una clase base quiere obligar a que las clases derivadas implementen un método.\n",
    "-  Se utilizan para establecer un conjunto de características y comportamientos comunes a todas las clases derivadas.\n",
    "-  El método abstract en la base no tiene implementación. Deberá implementarse en la clase derivada\n",
    "-  Si existe un método abstracto en una clase hace que la clase sea abstracta\n",
    "-  Una clase abstracta no puede ser instanciada."
   ]
  },
  {
   "cell_type": "markdown",
   "metadata": {},
   "source": [
    "#### Para diseñar una clase abstracta:"
   ]
  },
  {
   "cell_type": "code",
   "execution_count": null,
   "metadata": {},
   "outputs": [],
   "source": [
    "# 1. Python no soporta clases abstractas de forma nativa.. es necesario importar el módulo abc\n",
    "from abc import ABC,  abstractmethod\n",
    "\n",
    "# 2. Al definir la clase abstracta debe heredar de ABC\n",
    "class AbstractClassExample(ABC):\n",
    "\n",
    "# 3. Por medio del decorador  @abstractmethod definir un método abstracto (que se debe implementar en la subclase)    \n",
    "    @abstractmethod\n",
    "    def hacer_algo(self):\n",
    "        pass\n",
    "#4. Crear una clase derivada que implemente forzosamente el método abstracto anterior   "
   ]
  },
  {
   "cell_type": "markdown",
   "metadata": {},
   "source": [
    "Ejemplo: Crea una clase abstracta Vehiculo con atributos tipo y numreg, un método abstracto despliega y otro método para imprimir su capacidad de acuerdo al tipo"
   ]
  },
  {
   "cell_type": "code",
   "execution_count": null,
   "metadata": {},
   "outputs": [],
   "source": [
    "from abc import ABC,  abstractmethod\n",
    "\n",
    "#clase abstracta Vehiculo\n",
    "class Vehiculo(ABC):\n",
    "    def __init__(self,n):     #inicializador\n",
    "        self.tipo = 'terrestre'\n",
    "        self.numreg = n\n",
    "    \n",
    "    @abstractmethod    \n",
    "    def despliega():  #método abstracto\n",
    "        pass\n",
    "    \n",
    "    def capacidad(self):\n",
    "        if self.tipo=='terrestre':\n",
    "            return 'corre'\n",
    "        elif self.tipo=='aereo':\n",
    "            return 'vuela'\n",
    "        else:\n",
    "            return 'navega'\n",
    "                  \n",
    "\n",
    "#v=Vehiculo(123)  #no se puede instanciar una clase abstracta"
   ]
  },
  {
   "cell_type": "code",
   "execution_count": null,
   "metadata": {},
   "outputs": [],
   "source": [
    "#clase derivada (subclase) de Vehiculo\n",
    "class Coche(Vehiculo): \n",
    "    def __init__(self, n,a, m, p):\n",
    "        super().__init__(n) \n",
    "        self.año = a\n",
    "        self.marca = m\n",
    "        self.placa = p \n",
    "\n",
    "    def tenencia(self):\n",
    "        if self.año < 2010:\n",
    "            return 0\n",
    "        elif self.año < 2016:\n",
    "            return 3000\n",
    "        else:\n",
    "            return 5000\n",
    "    def despliega(sef):\n",
    "        print('Tipo:',self.tipo)\n",
    "        print('Numero de registro:', self.numreg)\n",
    "        print('\\nDatos del auto:  Año:', self.año, '  Marca: ', self.marca, '  Placa: ', self.placa)\n",
    "        print('Tenencia: $',self.tenencia())\n",
    "coche2=Coche(1,2007,'Jeep',2990)\n",
    "coche2.despliega()\n",
    "coche2.capacidad()"
   ]
  },
  {
   "cell_type": "markdown",
   "metadata": {},
   "source": [
    "**Ejercicio:**\n",
    "Escribe una nueva clase para cualquier otro vehículo con atributos y métodos característicos (bicicleta, barco, helicóptero, dron..etc.)\n",
    "\n",
    "Entregar al final de la clase"
   ]
  },
  {
   "cell_type": "markdown",
   "metadata": {},
   "source": [
    "## Uso de Fechas"
   ]
  },
  {
   "cell_type": "code",
   "execution_count": null,
   "metadata": {},
   "outputs": [],
   "source": [
    "# Ver para más detalles de uso de fechas en Python https://docs.python.org/3/library/datetime.html\n",
    "\n",
    "from datetime import date\n",
    "\n",
    "#leer una fecha y convertirla en tipo datetime\n",
    "fecha_str=input('Fecha (aaaa-mm-dd) ')\n",
    "fecha=date.fromisoformat(fecha_str)\n",
    "print(fecha.day)\n",
    "\n",
    "#Incializar una fecha\n",
    "fecha2=date(2009,5,15)\n",
    "print(fecha2.month)\n",
    "\n",
    "fechaHoy=date.today()  #inicia con la fecha de hoy\n",
    "print(fechaHoy)"
   ]
  },
  {
   "cell_type": "code",
   "execution_count": null,
   "metadata": {},
   "outputs": [],
   "source": [
    "from datetime import timedelta\n",
    "from datetime import date\n",
    "\n",
    "fechaHoy=date.today()\n",
    "print(fechaHoy)\n",
    "\n",
    "#Sumar o restar periodos de tiempo\n",
    "fechaDespues=fechaHoy+timedelta(days=15) #una fecha 15 dias después\n",
    "print(fechaDespues)"
   ]
  },
  {
   "cell_type": "markdown",
   "metadata": {},
   "source": [
    "## Práctica Segundo parcial"
   ]
  },
  {
   "cell_type": "markdown",
   "metadata": {},
   "source": [
    "Diseña un problema en el que se ejemplifiquen las características de herencia, polimorfismo, abstracción y/o encapsulamiento. \n",
    "Es necesario utilizar los siguientes elementos:\n",
    "-\tAl menos ejemplifica dos características y una, obligatoriamente, debe ser herencia.\n",
    "-\tCaptura de tantos datos como quiera el usuario de dos diferentes clases\n",
    "-\tCada clase deberá tener al menos un constructor y dos métodos que realicen operaciones no triviales.\n",
    "-\tLa información de los objetos creados de al menos una clase deberá almacenarse en un archivo de texto o csv.\n",
    "-\tDebe ser didáctico y retador.\n",
    "-\tSi tomas ideas o reúsas parte (no todo) de algún ejemplo de otro autor debes darle crédito citando la fuente.\n",
    "\n",
    "Entregables:\n",
    "1.\tRedacta claramente el enunciado del problema\n",
    "2.\tPresenta el código de su solución con comentarios que indiquen en dónde se ejemplifica una característica.\n",
    "\n",
    "Puede realizarse esta práctica en parejas si pueden trabajar a distancia.\n"
   ]
  },
  {
   "cell_type": "code",
   "execution_count": null,
   "metadata": {},
   "outputs": [],
   "source": []
  }
 ],
 "metadata": {
  "kernelspec": {
   "display_name": "Python 3",
   "language": "python",
   "name": "python3"
  },
  "language_info": {
   "codemirror_mode": {
    "name": "ipython",
    "version": 3
   },
   "file_extension": ".py",
   "mimetype": "text/x-python",
   "name": "python",
   "nbconvert_exporter": "python",
   "pygments_lexer": "ipython3",
   "version": "3.7.3"
  }
 },
 "nbformat": 4,
 "nbformat_minor": 2
}
