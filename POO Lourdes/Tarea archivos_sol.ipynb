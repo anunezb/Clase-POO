{
 "cells": [
  {
   "cell_type": "markdown",
   "metadata": {},
   "source": [
    "## Ejercicio 1"
   ]
  },
  {
   "cell_type": "markdown",
   "metadata": {},
   "source": [
    "Escriba un programa que lea de un archivo una lista de palabras y las inserte en una lista. No se deben insertar palabras repetidas sino, junto con la palabra, guardar el número de veces que aparece o se repite. Finalmente despliegue la lista de palabras leídas junto con el número de ocurrencias (repeticiones). "
   ]
  },
  {
   "cell_type": "code",
   "execution_count": 17,
   "metadata": {},
   "outputs": [
    {
     "name": "stdout",
     "output_type": "stream",
     "text": [
      "['manzana', 'platano', 'manzana', 'naranja', 'platano', 'manzana', 'platano', 'manzana', 'naranja', 'platano', 'platano', 'naranja', 'platano', 'platano', 'naranja', 'platano']\n",
      "\n",
      "Lista con frecuencia de aparición\n",
      "['manzana,4', 'naranja,4', 'platano,8']\n"
     ]
    }
   ],
   "source": [
    "lista=[]\n",
    "with open(\"palabras.txt\") as archivo:  #usa un archivo con una palabra en cada linea\n",
    "    for linea in archivo:\n",
    "        lista.append(linea.strip())\n",
    "\n",
    "print(lista)\n",
    "\n",
    "listaFin=[]\n",
    "for palabra in lista:\n",
    "    if palabra not in listaFin:\n",
    "        cuenta=lista.count(palabra)\n",
    "        linea=palabra+','+str(cuenta)\n",
    "        listaFin.append(linea)\n",
    "        aborrar=palabra\n",
    "        while aborrar in lista:\n",
    "            lista.remove(aborrar)\n",
    "\n",
    "print('\\nLista con frecuencia de aparición')\n",
    "print(listaFin)"
   ]
  },
  {
   "cell_type": "markdown",
   "metadata": {},
   "source": [
    "## Ejercicio 2"
   ]
  },
  {
   "cell_type": "markdown",
   "metadata": {},
   "source": [
    "Escriba un programa que guarde una bitácora de actividad en Internet en un archivo de texto con los siguientes datos: \n",
    "Dato Tipo IDTransaccion Int,  Usuario String, Sitio String, Segundos conectado int \n",
    " \n",
    "Elabora una función para cuantos minutos en total se conectó un usuario dado tomando en cuenta todos los sitios a los que ingresó. Tienes que registrar varios usuarios y varios registros de actividad para cada uno. "
   ]
  },
  {
   "cell_type": "code",
   "execution_count": 2,
   "metadata": {},
   "outputs": [
    {
     "name": "stdout",
     "output_type": "stream",
     "text": [
      "Id de la transaccion: 6 \n",
      "Usuario: b\n",
      "Sitio: b\n",
      "Segundos conectados: 90\n",
      "Quieres dar otra transacción (s/n)n\n",
      "Qué usuario quieres buscar?b\n",
      "El usuario b se conecto 2.0833333333333335 minutos\n"
     ]
    }
   ],
   "source": [
    "with open('bitacora.txt','a') as archivo:  #añade al archivo que teníamos\n",
    "    resp='s'\n",
    "    while resp=='s':  #\n",
    "        idT=input(\"Id de la transaccion: \")\n",
    "        usuario=input(\"Usuario: \")\n",
    "        sitio=input(\"Sitio: \")\n",
    "        segs=input(\"Segundos conectados: \")\n",
    "        linea=idT+','+usuario+','+sitio+','+segs+'\\n'\n",
    "        archivo.write(linea)\n",
    "        resp=input(\"Quieres dar otra transacción (s/n)\")\n",
    "\n",
    "abuscar=input(\"Qué usuario quieres buscar?\")\n",
    "suma=0\n",
    "with open('bitacora.txt') as archivo: #abre para lectura\n",
    "    while True:\n",
    "        linea = archivo.readline()\n",
    "        if not linea: break\n",
    "        lista=linea.strip().split(sep=',')\n",
    "        if lista[1]==abuscar:\n",
    "            suma=int(lista[3])+suma\n",
    "\n",
    "print(\"El usuario \"+abuscar+\" se conecto \"+str(suma/60)+\" minutos\")\n",
    "       "
   ]
  },
  {
   "cell_type": "markdown",
   "metadata": {},
   "source": [
    "## Ejercicio 3"
   ]
  },
  {
   "cell_type": "markdown",
   "metadata": {},
   "source": [
    "En un taller de servicio de mantenimiento a autos es necesario registrar en un archivo .csv los datos de los autos que ingresan. Escribe un programa que permita realizar las siguientes funciones: a. Alta del coche b. Búsqueda de un auto en el archivo por placa y desplegar sus datos c. Impresión de todos los autos de una marca dada por el usuario. d. Imprima cuántos servicios hay en cada uno de los estados. \n",
    "Datos del auto: \n",
    "    Placa String, Marca String, Costo del servicio double, Estado Char ( T para terminado, P mantenimiento en proceso,  E en espera de refacciones) "
   ]
  },
  {
   "cell_type": "code",
   "execution_count": 4,
   "metadata": {},
   "outputs": [
    {
     "name": "stdout",
     "output_type": "stream",
     "text": [
      "Placa: 4\n",
      "Marca: maz\n",
      "Costo del servicio: 40\n",
      "Estado (T-terminado;P-en proceso;E-en espera de refacciones): t\n",
      "\n",
      "1. Alta\n",
      "2. Busca por placa\n",
      "3. Imprime de una marca\n",
      "4. Cuenta servicios por estado\n",
      "\n",
      "Da la opcion: 3\n",
      "Qué marca quieres imprimir?vw\n",
      "['1', 'vw', '1', 'T']\n",
      "['2', 'vw', '2', 'P']\n",
      "['4', 'vw', '4', 'P']\n",
      "\n",
      "1. Alta\n",
      "2. Busca por placa\n",
      "3. Imprime de una marca\n",
      "4. Cuenta servicios por estado\n",
      "\n",
      "Da la opcion: 3\n",
      "Qué marca quieres imprimir?maz\n",
      "['3', 'maz', '3', 'E']\n",
      "['4', 'maz', '40', 'T']\n",
      "\n",
      "1. Alta\n",
      "2. Busca por placa\n",
      "3. Imprime de una marca\n",
      "4. Cuenta servicios por estado\n",
      "\n",
      "Da la opcion: 5\n"
     ]
    }
   ],
   "source": [
    "import csv\n",
    "\n",
    "def alta(renglon):\n",
    "    with open('taller.csv','a',newline='') as csvfile:\n",
    "        csv_writer=csv.writer(csvfile) \n",
    "        csv_writer.writerow(renglon)\n",
    "        \n",
    "def busca(placa):\n",
    "    with open('taller.csv') as csvfile:\n",
    "        readCSV = csv.reader(csvfile, delimiter=',')\n",
    "        for row in readCSV:\n",
    "            if row[0]==placa:\n",
    "                print(row)            \n",
    "\n",
    "def xmarca(marca):\n",
    "    with open('taller.csv') as csvfile:\n",
    "        readCSV = csv.reader(csvfile, delimiter=',')\n",
    "        for row in readCSV:\n",
    "            if row[1]==marca:\n",
    "                print(row)\n",
    "    \n",
    "def xestado():\n",
    "    t=p=e=0\n",
    "    with open('taller.csv') as csvfile:\n",
    "        readCSV = csv.reader(csvfile, delimiter=',')\n",
    "        for row in readCSV:\n",
    "            if row[3]=='T':\n",
    "                t=t+1\n",
    "            elif row[3]=='P':\n",
    "                p=p+1\n",
    "            else: \n",
    "                e=e+1 \n",
    "        print('Hay '+str(t)+' servicios terminados')   \n",
    "        print('Hay '+str(p)+' servicios en proceso')   \n",
    "        print('Hay '+str(e)+' servicios en espera de refacciones')\n",
    "        \n",
    "        \n",
    "opcion=1       \n",
    "while opcion!=5:\n",
    "    if opcion==1:\n",
    "        renglon=[]\n",
    "        placa=input(\"Placa: \")\n",
    "        renglon.append(placa)\n",
    "        marca=input(\"Marca: \")\n",
    "        renglon.append(marca)\n",
    "        costo=input(\"Costo del servicio: \")\n",
    "        renglon.append(costo)\n",
    "        estado=input(\"Estado (T-terminado;P-en proceso;E-en espera de refacciones): \").upper()\n",
    "        renglon.append(estado)\n",
    "        alta(renglon)\n",
    "    elif opcion==2:\n",
    "        placa=input(\"Qué placa quieres buscar?\")\n",
    "        busca(placa)\n",
    "    elif opcion==3:  \n",
    "        marca=input(\"Qué marca quieres imprimir?\")\n",
    "        xmarca(marca)\n",
    "    elif opcion==4: \n",
    "        xestado()\n",
    "    elif opcion==5:\n",
    "        print('Adios')\n",
    "    else:\n",
    "        print('Opcion invalida ')\n",
    "        \n",
    "    print('\\n1. Alta\\n2. Busca por placa\\n3. Imprime de una marca\\n4. Cuenta servicios por estado\\n' )\n",
    "    opcion=int(input('Da la opcion: '))"
   ]
  },
  {
   "cell_type": "code",
   "execution_count": 5,
   "metadata": {},
   "outputs": [
    {
     "name": "stdout",
     "output_type": "stream",
     "text": [
      "['1', 'vw', '1', 'T']\n",
      "['2', 'vw', '2', 'P']\n",
      "['3', 'maz', '3', 'E']\n",
      "['4', 'vw', '4', 'P']\n",
      "['4', 'maz', '40', 'T']\n"
     ]
    }
   ],
   "source": [
    "#para ver que tiene el archivo\n",
    "with open('taller.csv') as csvfile:\n",
    "        readCSV = csv.reader(csvfile, delimiter=',')\n",
    "        for row in readCSV:\n",
    "            print(row)"
   ]
  },
  {
   "cell_type": "code",
   "execution_count": null,
   "metadata": {},
   "outputs": [],
   "source": []
  }
 ],
 "metadata": {
  "kernelspec": {
   "display_name": "Python 3",
   "language": "python",
   "name": "python3"
  },
  "language_info": {
   "codemirror_mode": {
    "name": "ipython",
    "version": 3
   },
   "file_extension": ".py",
   "mimetype": "text/x-python",
   "name": "python",
   "nbconvert_exporter": "python",
   "pygments_lexer": "ipython3",
   "version": "3.7.3"
  }
 },
 "nbformat": 4,
 "nbformat_minor": 2
}
