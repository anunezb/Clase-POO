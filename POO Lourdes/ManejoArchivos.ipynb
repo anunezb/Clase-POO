{
 "cells": [
  {
   "cell_type": "markdown",
   "metadata": {},
   "source": [
    "# Manejo de Archivos"
   ]
  },
  {
   "cell_type": "markdown",
   "metadata": {},
   "source": [
    "Los archivos son un conjunto de bytes que se utilizan para almacenar cierto tipo de datos (texto o binario). En la actualidad, los archivos en la mayoría de los sistemas operativos están compuestos de 3 partes:\n",
    "\n",
    "-  **Encabezado:** Metadatos acerca del contenido del archivo (nombre, tamaño, tipo, etc.)\n",
    "-  **Datos:** El contenido del archivo.\n",
    "-  **Fin del archivo (EOF):** Un caracter especial que indica el final del documento."
   ]
  },
  {
   "cell_type": "markdown",
   "metadata": {},
   "source": [
    "Para acceder a un archivo, es necesario conocer la localización compuesta de:\n",
    "\n",
    "1. La ruta\n",
    "2. El nombre del archivo\n",
    "3. La extensión"
   ]
  },
  {
   "cell_type": "markdown",
   "metadata": {},
   "source": [
    "Es posible detrminar si un archivo es de texto o si es binario basandonos únicamente en la extensión del mismo. A continuación se presentan ejemplos de las extensiones más comunes:"
   ]
  },
  {
   "cell_type": "markdown",
   "metadata": {},
   "source": [
    "**Archivos Binarios:**\n",
    "\n",
    "<table>\n",
    "  <tr>\n",
    "    <td>Imágenes</td>\n",
    "    <td>jpg, png, gif, bmp, tiff, psd</td>\n",
    "  </tr>\n",
    "  <tr>\n",
    "    <td>Videos</td>\n",
    "    <td>mp4, mvk, avi, mov, mpg, vob</td>\n",
    "  </tr>\n",
    "  <tr>\n",
    "    <td>Audio</td>\n",
    "    <td>mp3, aac,wav, flac, ogg, mka, wma</td>\n",
    "  </tr>\n",
    "  <tr>\n",
    "    <td>Documentos</td>\n",
    "    <td>pdf, doc, xls, ppt, docx</td>\n",
    "  </tr>\n",
    "  <tr>\n",
    "    <td>Archivo</td>\n",
    "    <td>zip, rar, iso</td>\n",
    "  </tr>\n",
    "  <tr>\n",
    "    <td>Ejecutable</td>\n",
    "    <td>exe, dll</td>\n",
    "  </tr>\n",
    "</table>"
   ]
  },
  {
   "cell_type": "markdown",
   "metadata": {},
   "source": [
    "**Archivos de texto:**\n",
    "\n",
    "<table>\n",
    "  <tr>\n",
    "    <td>Web</td>\n",
    "    <td>html, xml, css, svg, json</td>\n",
    "  </tr>\n",
    "  <tr>\n",
    "    <td>Código fuente</td>\n",
    "    <td>c, cpp, h, cs, js, py, java, rb, pl, php</td>\n",
    "  </tr>\n",
    "  <tr>\n",
    "    <td>Documentos</td>\n",
    "    <td>txt, tex, markdown, asciidoc</td>\n",
    "  </tr>\n",
    "  <tr>\n",
    "    <td>Configuración</td>\n",
    "    <td>ini, cfg, reg</td>\n",
    "  </tr>\n",
    "  <tr>\n",
    "    <td>Tabular</td>\n",
    "    <td>csv, tsv</td>\n",
    "  </tr>\n",
    "</table>"
   ]
  },
  {
   "cell_type": "markdown",
   "metadata": {},
   "source": [
    "Para usar un archivo es necesario: **Abrir el archivo, leer y/o escribir en el archivo, cerrar el archivo**"
   ]
  },
  {
   "cell_type": "markdown",
   "metadata": {},
   "source": [
    "## Archivos de Texto"
   ]
  },
  {
   "cell_type": "markdown",
   "metadata": {},
   "source": [
    "### Abrir el archivo"
   ]
  },
  {
   "cell_type": "markdown",
   "metadata": {},
   "source": [
    "Para abrir un archivo open()\n",
    "\"r\" - Read - Valor por defecto. Abre un archivo para lectura y marca error si no existe el archivo\n",
    "\"a\" - Append - Abre el archivo para añadir, crea el archivo si no existe\n",
    "\"w\" - Write - Abre el archivo para escritura, crea el archivo si no existe\n",
    "\"x\" - Create - Crea el archivo y marca error si el archivo ya existe\n",
    "\n",
    "Además se puede especificar  \n",
    "\"t\" - Text - Valor por defecto.  Texto\n",
    "\"b\" - Binary - Binario\n",
    "\"+\" - Read and Write - Abre para lectura y escritura"
   ]
  },
  {
   "cell_type": "markdown",
   "metadata": {},
   "source": [
    "### Leer todo el archivo completo"
   ]
  },
  {
   "cell_type": "code",
   "execution_count": 4,
   "metadata": {},
   "outputs": [
    {
     "name": "stdout",
     "output_type": "stream",
     "text": [
      "Juan\n",
      "Pedro\n",
      "Maria\n"
     ]
    }
   ],
   "source": [
    "#archivo=open('nombres.txt')\n",
    "archivo=open('nombres.txt','rt')\n",
    "print(archivo.read())  #lee todo el archivo\n",
    "archivo.close()  #cierra el archivo"
   ]
  },
  {
   "cell_type": "code",
   "execution_count": 5,
   "metadata": {},
   "outputs": [],
   "source": [
    "archivo=open('nombres.txt','rt')\n",
    "todo=archivo.read()  #lee todo el archivo\n",
    "archivo.close()"
   ]
  },
  {
   "cell_type": "code",
   "execution_count": 6,
   "metadata": {},
   "outputs": [
    {
     "data": {
      "text/plain": [
       "str"
      ]
     },
     "execution_count": 6,
     "metadata": {},
     "output_type": "execute_result"
    }
   ],
   "source": [
    "type(todo)"
   ]
  },
  {
   "cell_type": "code",
   "execution_count": 7,
   "metadata": {},
   "outputs": [
    {
     "data": {
      "text/plain": [
       "'Juan\\nPedro\\nMaria'"
      ]
     },
     "execution_count": 7,
     "metadata": {},
     "output_type": "execute_result"
    }
   ],
   "source": [
    "todo"
   ]
  },
  {
   "cell_type": "code",
   "execution_count": 13,
   "metadata": {},
   "outputs": [
    {
     "name": "stdout",
     "output_type": "stream",
     "text": [
      "Juan\n",
      "Pedro\n",
      "Maria\n"
     ]
    }
   ],
   "source": [
    "#con una sola instrucción\n",
    "archivo=open('nombres.txt', 'r').read()\n",
    "print(archivo)"
   ]
  },
  {
   "cell_type": "markdown",
   "metadata": {},
   "source": [
    "### Cerrar el archivo"
   ]
  },
  {
   "cell_type": "code",
   "execution_count": null,
   "metadata": {},
   "outputs": [],
   "source": [
    "archivo.close()"
   ]
  },
  {
   "cell_type": "code",
   "execution_count": 31,
   "metadata": {},
   "outputs": [
    {
     "data": {
      "text/plain": [
       "<_io.TextIOWrapper name='nombres.txt' mode='r' encoding='cp1252'>"
      ]
     },
     "execution_count": 31,
     "metadata": {},
     "output_type": "execute_result"
    }
   ],
   "source": [
    "archivo  #sigue existiendo pero está cerrado"
   ]
  },
  {
   "cell_type": "markdown",
   "metadata": {},
   "source": [
    "**with - as** garantiza que el archivo se cierre de forma adecuada, incluso si una excepción llegara a ocurrir. "
   ]
  },
  {
   "cell_type": "code",
   "execution_count": null,
   "metadata": {},
   "outputs": [],
   "source": [
    "with open(\"nombre.txt\", \"a\") as f:\n",
    "    # Operaciones a realizar en el archivo"
   ]
  },
  {
   "cell_type": "markdown",
   "metadata": {},
   "source": [
    "### Leer solo una linea o linea por linea"
   ]
  },
  {
   "cell_type": "code",
   "execution_count": 15,
   "metadata": {},
   "outputs": [
    {
     "name": "stdout",
     "output_type": "stream",
     "text": [
      "Juan\n",
      "\n"
     ]
    }
   ],
   "source": [
    "print(open('nombres.txt').readline())"
   ]
  },
  {
   "cell_type": "code",
   "execution_count": 26,
   "metadata": {},
   "outputs": [
    {
     "name": "stdout",
     "output_type": "stream",
     "text": [
      "Juan\n",
      "Pedro\n",
      "Maria"
     ]
    }
   ],
   "source": [
    "with open('nombres.txt') as archivo:  # es igual que archivo= open('nombres.txt')\n",
    "    for linea in archivo:\n",
    "        print(linea,end='')"
   ]
  },
  {
   "cell_type": "code",
   "execution_count": 46,
   "metadata": {},
   "outputs": [
    {
     "name": "stdout",
     "output_type": "stream",
     "text": [
      "JUAN\n",
      "PEDRO\n",
      "MARIABRENDAERNESTOBRENDAERNESTO\n",
      "ANTONIO"
     ]
    }
   ],
   "source": [
    "archivo=open('nombres.txt')\n",
    "while True:\n",
    "    linea = archivo.readline()\n",
    "    if not linea: break\n",
    "    print(linea.upper(), end='')\n",
    "archivo.close()"
   ]
  },
  {
   "cell_type": "markdown",
   "metadata": {},
   "source": [
    "### Escribir en un archivo"
   ]
  },
  {
   "cell_type": "code",
   "execution_count": 29,
   "metadata": {},
   "outputs": [],
   "source": [
    "with open('nombres.txt','a') as archivo:  #añade al archivo que teníamos\n",
    "    archivo.write('Brenda') #escribe seguido\n",
    "    archivo.write('Ernesto\\n') #incluye salto de linea\n",
    "    archivo.write('Antonio')"
   ]
  },
  {
   "cell_type": "code",
   "execution_count": 30,
   "metadata": {},
   "outputs": [
    {
     "name": "stdout",
     "output_type": "stream",
     "text": [
      "Juan\n",
      "Pedro\n",
      "MariaBrendaErnestoBrendaErnesto\n",
      "Antonio"
     ]
    }
   ],
   "source": [
    "with open('nombres.txt') as archivo:  # es igual que archivo= open('nombres.txt')\n",
    "    for linea in archivo:\n",
    "        print(linea,end='')"
   ]
  },
  {
   "cell_type": "markdown",
   "metadata": {},
   "source": [
    "Preguntas de investigación:\n",
    "    -  ¿Cómo manipular directorios y rutas con librería os?\n",
    "    -  ¿Cómo manejar los errores si no existe el archivo o no lo encuentra en la ruta?"
   ]
  },
  {
   "cell_type": "markdown",
   "metadata": {},
   "source": [
    "Ejercicios\n",
    "1. Escribe un programa que lea frases y las vaya escribiendo en un archivo de texto hasta que quiera el usuario. Lee solo 2 líneas posteriormente.\n",
    "2. Escribe un programa que lea un archivo de texto con campos separados con comas que contiene el nombre, carrera y saldo de personas y posteriormente calcule el promedio de los saldos."
   ]
  },
  {
   "cell_type": "code",
   "execution_count": null,
   "metadata": {},
   "outputs": [],
   "source": []
  }
 ],
 "metadata": {
  "kernelspec": {
   "display_name": "Python 3",
   "language": "python",
   "name": "python3"
  },
  "language_info": {
   "codemirror_mode": {
    "name": "ipython",
    "version": 3
   },
   "file_extension": ".py",
   "mimetype": "text/x-python",
   "name": "python",
   "nbconvert_exporter": "python",
   "pygments_lexer": "ipython3",
   "version": "3.7.3"
  }
 },
 "nbformat": 4,
 "nbformat_minor": 2
}
