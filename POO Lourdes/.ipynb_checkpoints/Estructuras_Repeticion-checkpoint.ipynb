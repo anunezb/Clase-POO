{
 "cells": [
  {
   "cell_type": "markdown",
   "metadata": {},
   "source": [
    "# Estructuras de repetición"
   ]
  },
  {
   "cell_type": "markdown",
   "metadata": {},
   "source": [
    "# while"
   ]
  },
  {
   "cell_type": "raw",
   "metadata": {},
   "source": [
    "while condicion:\n",
    "     instruccion(es)  #se ejecuta si se cumple la condicion"
   ]
  },
  {
   "cell_type": "markdown",
   "metadata": {},
   "source": [
    "Dado un capital inicial, si se paga una tasa de interés del 3% anual despliega cuantos años se tardará en reunir la cantidad necesaria para comprar un coche (dada por el usuario)"
   ]
  },
  {
   "cell_type": "code",
   "execution_count": 3,
   "metadata": {
    "scrolled": true
   },
   "outputs": [
    {
     "name": "stdout",
     "output_type": "stream",
     "text": [
      "cuanto cuesta el coche que quieres comprar? 100\n",
      "Que capital tienes? 80\n",
      "82.4\n",
      "84.87200000000001\n",
      "87.41816000000001\n",
      "90.04070480000001\n",
      "92.74192594400002\n",
      "95.52418372232002\n",
      "98.38990923398963\n",
      "101.34160651100932\n",
      "8\n"
     ]
    }
   ],
   "source": [
    "cantidad=float(input(\"cuanto cuesta el coche que quieres comprar? \"))\n",
    "capital=float(input(\"Que capital tienes? \"))\n",
    "años=0\n",
    "while capital<cantidad:\n",
    "   años+=1       #años=años+1\n",
    "   capital*=1.03  #capital=capital* 1.03\n",
    "   print(capital)\n",
    "print(años)"
   ]
  },
  {
   "cell_type": "code",
   "execution_count": 1,
   "metadata": {},
   "outputs": [
    {
     "name": "stdout",
     "output_type": "stream",
     "text": [
      "The count is: 0\n",
      "The count is: 1\n",
      "The count is: 2\n",
      "The count is: 3\n",
      "The count is: 4\n",
      "The count is: 5\n",
      "The count is: 6\n",
      "The count is: 7\n",
      "The count is: 8\n",
      "Good bye\n"
     ]
    }
   ],
   "source": [
    "# for(i=0, i<9, i++\n",
    "count = 0\n",
    "while (count < 9):\n",
    "    print(\"The count is:\", count)\n",
    "    count = count + 1\n",
    "print(\"Good bye\")"
   ]
  },
  {
   "cell_type": "code",
   "execution_count": 4,
   "metadata": {},
   "outputs": [
    {
     "name": "stdout",
     "output_type": "stream",
     "text": [
      "1\n",
      "0\n"
     ]
    }
   ],
   "source": [
    "#swap\n",
    "a,b=0,1  #asigna simultaneamente a=0 y b=1\n",
    "a,b=b,a  #intercambia\n",
    "print(a)\n",
    "print(b)"
   ]
  },
  {
   "cell_type": "markdown",
   "metadata": {},
   "source": [
    " **Serie de Fibonacci**"
   ]
  },
  {
   "cell_type": "code",
   "execution_count": 6,
   "metadata": {},
   "outputs": [
    {
     "name": "stdout",
     "output_type": "stream",
     "text": [
      "0,1,1,2,3,5,8,"
     ]
    }
   ],
   "source": [
    "a,b=0,1 \n",
    "while a<10:\n",
    "    print(a,end=\",\")\n",
    "    a,b=b,a+b"
   ]
  },
  {
   "cell_type": "raw",
   "metadata": {},
   "source": [
    "while condicion:\n",
    "     instruccion(es)  #se ejecuta si se cumple la condicion\n",
    "else: \n",
    "     instruccion(es)  #se ejecuta una vez que la condicion no es verdadera"
   ]
  },
  {
   "cell_type": "code",
   "execution_count": 14,
   "metadata": {},
   "outputs": [
    {
     "name": "stdout",
     "output_type": "stream",
     "text": [
      "245\n"
     ]
    }
   ],
   "source": [
    "#suma numeros del 20 al 30\n",
    "i,suma=20,0\n",
    "while i<30:\n",
    "    suma+=i\n",
    "    i=i+1\n",
    "else:    \n",
    "    print(suma)"
   ]
  },
  {
   "cell_type": "markdown",
   "metadata": {},
   "source": [
    "**Validaciones**"
   ]
  },
  {
   "cell_type": "markdown",
   "metadata": {},
   "source": [
    "*Ejemplo uso de break*"
   ]
  },
  {
   "cell_type": "code",
   "execution_count": 15,
   "metadata": {},
   "outputs": [
    {
     "name": "stdout",
     "output_type": "stream",
     "text": [
      "Numero: 44\n",
      "numero invalido\n",
      "Numero: -8\n",
      "numero invalido\n",
      "Numero: 3\n",
      "finalmente dio un numero valido\n"
     ]
    }
   ],
   "source": [
    "#validacion de una entrada entre 1 y 10 inclusive\n",
    "while True:\n",
    "    num=int(input(\"Numero: \"))\n",
    "    if num>=1 and num<=10:\n",
    "        break #sale del ciclo\n",
    "    else:\n",
    "        print(\"numero invalido\")\n",
    "print(\"finalmente dio un numero valido\")    "
   ]
  },
  {
   "cell_type": "code",
   "execution_count": 2,
   "metadata": {},
   "outputs": [
    {
     "name": "stdout",
     "output_type": "stream",
     "text": [
      "Numero: -3\n",
      "numero invalido\n",
      "Numero: -2\n",
      "numero invalido\n",
      "Numero: 4\n",
      "finalmente dio un numero valido\n"
     ]
    }
   ],
   "source": [
    "while True:\n",
    "    num=int(input(\"Numero: \"))\n",
    "    if num>0:\n",
    "        break #sale del ciclo\n",
    "    else:\n",
    "        print(\"numero invalido\")\n",
    "print(\"finalmente dio un numero positivo\")   "
   ]
  },
  {
   "cell_type": "code",
   "execution_count": 5,
   "metadata": {},
   "outputs": [
    {
     "name": "stdout",
     "output_type": "stream",
     "text": [
      "Letra y\n",
      "Letra invalido\n",
      "Letra A\n"
     ]
    }
   ],
   "source": [
    "while True:\n",
    "    letra=input(\"Letra \")\n",
    "    if (letra == \"A\" or letra == \"N\" or letra == \"B\"):\n",
    "        break #sale del ciclo\n",
    "    else:\n",
    "        print(\"Letra invalido\")"
   ]
  },
  {
   "cell_type": "code",
   "execution_count": 19,
   "metadata": {},
   "outputs": [
    {
     "name": "stdout",
     "output_type": "stream",
     "text": [
      "Numero: 10\n",
      "Numero: 88\n",
      "Numero: 2\n",
      "Valido  2\n",
      "salio\n"
     ]
    }
   ],
   "source": [
    "r=range(10)\n",
    "inrange=False\n",
    "while not inrange:\n",
    "    num=int(input(\"Numero: \"))\n",
    "    if num in r:\n",
    "        inrange=True\n",
    "else:\n",
    "    print(\"Valido \",num)\n",
    "print(\"salio\")"
   ]
  },
  {
   "cell_type": "markdown",
   "metadata": {},
   "source": [
    "*Ejemplo uso de continue*"
   ]
  },
  {
   "cell_type": "code",
   "execution_count": 22,
   "metadata": {},
   "outputs": [
    {
     "name": "stdout",
     "output_type": "stream",
     "text": [
      "9,8,7,6,4,3,2,1,0,Adios\n"
     ]
    }
   ],
   "source": [
    "var = 10                    \n",
    "while var > 0:              \n",
    "    var = var -1\n",
    "    if var == 5:\n",
    "        continue  \n",
    "    print(var,end=',') \n",
    "print(\"Adios\") "
   ]
  },
  {
   "cell_type": "markdown",
   "metadata": {},
   "source": [
    "Ejercicios\n",
    "1. Escribe un programa que haga raices cuadradas. Valida que el numero no sea negativo\n",
    "2. Leer caracteres hasta que el usuario haya dado cinco asteriscos"
   ]
  },
  {
   "cell_type": "raw",
   "metadata": {},
   "source": [
    "import math\n",
    "raiz=math.sqrt(25)\n",
    "print(raiz)\n",
    "#dir(math)"
   ]
  },
  {
   "cell_type": "markdown",
   "metadata": {},
   "source": [
    "# for"
   ]
  },
  {
   "cell_type": "raw",
   "metadata": {},
   "source": [
    "for variable in secuencia:                    for variable in secuencia:\n",
    "\tinstruccion(es)                                instruccion(es)\n",
    "else:\n",
    "\tinstruccion(es)"
   ]
  },
  {
   "cell_type": "code",
   "execution_count": 11,
   "metadata": {},
   "outputs": [
    {
     "name": "stdout",
     "output_type": "stream",
     "text": [
      "Vuelta  0\n",
      "Vuelta  1\n",
      "Vuelta  2\n"
     ]
    }
   ],
   "source": [
    "for x in range(3):            #prueba range(inicia,termina,cambio)\n",
    "    print(\"Vuelta \", x)"
   ]
  },
  {
   "cell_type": "code",
   "execution_count": 13,
   "metadata": {},
   "outputs": [
    {
     "name": "stdout",
     "output_type": "stream",
     "text": [
      "Letra actual : P\n",
      "Letra actual : y\n",
      "Letra actual : t\n",
      "Letra actual : o\n",
      "Letra actual : n\n"
     ]
    }
   ],
   "source": [
    "for letra in 'Python':     \n",
    "    if letra == 'h':\n",
    "        continue\n",
    "    print('Letra actual :', letra)"
   ]
  },
  {
   "cell_type": "markdown",
   "metadata": {},
   "source": [
    "## Listas  \n",
    "- secuencias, ordenadas, que permiten cambios y duplicados"
   ]
  },
  {
   "cell_type": "code",
   "execution_count": 15,
   "metadata": {},
   "outputs": [
    {
     "name": "stdout",
     "output_type": "stream",
     "text": [
      "numero  2\n",
      "numero  4\n",
      "numero  6\n",
      "numero  8\n"
     ]
    }
   ],
   "source": [
    "lista=[2,4,6,8]\n",
    "for n in lista:           \n",
    "    print(\"numero \", n)"
   ]
  },
  {
   "cell_type": "code",
   "execution_count": 18,
   "metadata": {},
   "outputs": [
    {
     "name": "stdout",
     "output_type": "stream",
     "text": [
      "color rojo\n",
      "color azul\n",
      "color amarillo\n"
     ]
    }
   ],
   "source": [
    "colores=['rojo','azul','amarillo']\n",
    "for c in colores:           \n",
    "    print(\"color\", c)"
   ]
  },
  {
   "cell_type": "code",
   "execution_count": 20,
   "metadata": {},
   "outputs": [
    {
     "name": "stdout",
     "output_type": "stream",
     "text": [
      "['rojo', 'azul', 'amarillo']\n",
      "3\n"
     ]
    }
   ],
   "source": [
    "print(colores)\n",
    "print(len(colores))  #tamaño de la lista"
   ]
  },
  {
   "cell_type": "code",
   "execution_count": 21,
   "metadata": {},
   "outputs": [
    {
     "data": {
      "text/plain": [
       "['rojo', 'azul', 'amarillo', 'verde']"
      ]
     },
     "execution_count": 21,
     "metadata": {},
     "output_type": "execute_result"
    }
   ],
   "source": [
    "#añadir a la lista\n",
    "colores.append('verde')\n",
    "colores"
   ]
  },
  {
   "cell_type": "code",
   "execution_count": 22,
   "metadata": {},
   "outputs": [
    {
     "name": "stdout",
     "output_type": "stream",
     "text": [
      "['rojo', 'azul', 'naranja', 'amarillo', 'verde']\n"
     ]
    }
   ],
   "source": [
    "#insertar en medio \n",
    "colores.insert(2,'naranja')\n",
    "print(colores)"
   ]
  },
  {
   "cell_type": "code",
   "execution_count": 25,
   "metadata": {},
   "outputs": [
    {
     "name": "stdout",
     "output_type": "stream",
     "text": [
      "['amarillo', 'azul', 'naranja', 'rojo', 'verde']\n"
     ]
    }
   ],
   "source": [
    "colores.sort()\n",
    "print(colores)"
   ]
  },
  {
   "cell_type": "code",
   "execution_count": 26,
   "metadata": {},
   "outputs": [
    {
     "name": "stdout",
     "output_type": "stream",
     "text": [
      "azul\n"
     ]
    }
   ],
   "source": [
    "print(colores[1])"
   ]
  },
  {
   "cell_type": "code",
   "execution_count": 17,
   "metadata": {},
   "outputs": [
    {
     "name": "stdout",
     "output_type": "stream",
     "text": [
      "Números: 3\n",
      "Números: 5\n",
      "Números: 9\n",
      "Números: 2\n",
      "Números: 4\n",
      "El promedio global es: 4.6\n",
      "El prmedio de los nones es: 5.666666666666667\n"
     ]
    }
   ],
   "source": [
    "# Dados 20 números sacar el promedio de los nones.\n",
    "suma, cont, suma_non = 0, 0, 0\n",
    "for x in range(5):\n",
    "    num = float(input(\"Números: \"))\n",
    "    suma = suma + num;\n",
    "    if (num%2 == 1):\n",
    "        suma_non = suma_non + num\n",
    "        cont = cont + 1\n",
    "promedio_non = suma_non/cont\n",
    "promedio = suma/5\n",
    "print(\"El promedio global es:\",promedio)\n",
    "print(\"El promedio de los nones es:\",promedio_non)"
   ]
  },
  {
   "cell_type": "markdown",
   "metadata": {},
   "source": [
    " Ejercicios:\n",
    "    1. Investiga que otros métodos se pueden usar con las listas y escribe un ejemplo de dos del uso de dos de ellos\n",
    "    2. En una empresa hay 200 vendedores y es necesario capturar cuanto vendió cada uno en el periodo y calcular el promedio de ventas por vendedor, el total de ventas, cual vendedor vendió más y cuanto es la venta menor.\n",
    "    3. Escribe un programa que imprima las tablas de multiplicar hasta un tope. Así, si se da el tope 3 imprime la tabla del 1, del 2 y del 3. \n",
    "    4. Escribe un programa que lea un mes válido e indique en cuantos días tiene ese mes."
   ]
  },
  {
   "cell_type": "markdown",
   "metadata": {},
   "source": []
  },
  {
   "cell_type": "code",
   "execution_count": null,
   "metadata": {},
   "outputs": [],
   "source": []
  }
 ],
 "metadata": {
  "kernelspec": {
   "display_name": "Python 3",
   "language": "python",
   "name": "python3"
  },
  "language_info": {
   "codemirror_mode": {
    "name": "ipython",
    "version": 3
   },
   "file_extension": ".py",
   "mimetype": "text/x-python",
   "name": "python",
   "nbconvert_exporter": "python",
   "pygments_lexer": "ipython3",
   "version": "3.7.6"
  }
 },
 "nbformat": 4,
 "nbformat_minor": 2
}
