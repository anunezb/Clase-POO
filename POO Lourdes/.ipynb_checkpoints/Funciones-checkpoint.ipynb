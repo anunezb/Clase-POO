{
 "cells": [
  {
   "cell_type": "markdown",
   "metadata": {},
   "source": [
    "# Funciones"
   ]
  },
  {
   "cell_type": "markdown",
   "metadata": {},
   "source": [
    "##### Los problemas se dividen en subproblemas\n",
    "-  Función es un pedazo de código que soluciona un subproblema\n",
    "-  En Python una función es una instrucción (statement)\n"
   ]
  },
  {
   "cell_type": "markdown",
   "metadata": {},
   "source": [
    "<img src=\"img/funcion.png\" width=200>"
   ]
  },
  {
   "cell_type": "markdown",
   "metadata": {},
   "source": [
    "##### ¿Para qué sirven las funciones?\n",
    "-  Para facilidad de asignación de responsabilidades\n",
    "-  Reusar código y minimizar redundancia de código\n",
    "-  Facilitar el mantenimiento de un programa"
   ]
  },
  {
   "cell_type": "markdown",
   "metadata": {},
   "source": [
    "##### ¿Qué se necesita para hacer una función en Python?\n",
    "-  Encabezado y definición de la función\n",
    "-  LLamada de la función"
   ]
  },
  {
   "cell_type": "code",
   "execution_count": 1,
   "metadata": {},
   "outputs": [],
   "source": [
    "def imprime():  #encabezado dice nombre de la función y que parámetros recibe\n",
    "    print('instruccion en la definición de la funcion ')"
   ]
  },
  {
   "cell_type": "code",
   "execution_count": 2,
   "metadata": {},
   "outputs": [
    {
     "name": "stdout",
     "output_type": "stream",
     "text": [
      "instruccion en la definición de la funcion \n"
     ]
    }
   ],
   "source": [
    "#llamada de la función con el nombre y argumentos que manda a la función\n",
    "imprime()"
   ]
  },
  {
   "cell_type": "code",
   "execution_count": 5,
   "metadata": {},
   "outputs": [],
   "source": [
    "#función para averiguar si un número es múltiplo de 5\n",
    "def multiplo(x):\n",
    "    if x%5==0:\n",
    "        return \"es múltiplo\"\n",
    "    else:\n",
    "        return \"no es múltiplo\""
   ]
  },
  {
   "cell_type": "code",
   "execution_count": 7,
   "metadata": {},
   "outputs": [
    {
     "name": "stdout",
     "output_type": "stream",
     "text": [
      "da un numero25\n"
     ]
    },
    {
     "data": {
      "text/plain": [
       "'es múltiplo'"
      ]
     },
     "execution_count": 7,
     "metadata": {},
     "output_type": "execute_result"
    }
   ],
   "source": [
    "n=int(input(\"da un numero\"))  \n",
    "multiplo(n)    # Lo hace por que es la última isntrucción de la celda"
   ]
  },
  {
   "cell_type": "markdown",
   "metadata": {},
   "source": [
    "Ejercicios\n",
    "1.  Escribe una función que evalúe la ecuación de distancia entre dos puntos\n",
    "2.  Escribe una función que cuente y regrese cuantas vocales y cuantas consonantes hay en una palabra \n",
    "3. ¿Qué pasa cuando en el encabezado pides dos parámetros y mandas en la llamada 2 valores?"
   ]
  },
  {
   "cell_type": "markdown",
   "metadata": {},
   "source": [
    "### Paso de parámetros"
   ]
  },
  {
   "cell_type": "code",
   "execution_count": 14,
   "metadata": {},
   "outputs": [
    {
     "name": "stdout",
     "output_type": "stream",
     "text": [
      "1\n"
     ]
    }
   ],
   "source": [
    "#variables inmutables son paso por valor\n",
    "def porValor(x):\n",
    "    x=8\n",
    "    \n",
    "x=1\n",
    "porValor(x)\n",
    "print(x)"
   ]
  },
  {
   "cell_type": "code",
   "execution_count": 16,
   "metadata": {},
   "outputs": [
    {
     "name": "stdout",
     "output_type": "stream",
     "text": [
      "['uno', 2, 'tres', 4, 'nuevo']\n"
     ]
    }
   ],
   "source": [
    "#variables mutables son paso por referencia\n",
    "def porRef(l):\n",
    "    l.append('nuevo')\n",
    "    \n",
    "l=['uno',2,'tres',4]\n",
    "porRef(l)\n",
    "print(l)"
   ]
  },
  {
   "cell_type": "code",
   "execution_count": 17,
   "metadata": {},
   "outputs": [
    {
     "name": "stdout",
     "output_type": "stream",
     "text": [
      "{'id': 1, 'descr': 'laptop', 'precio': 20000}\n"
     ]
    }
   ],
   "source": [
    "def porRef(d):\n",
    "    d['precio']=20000\n",
    "    \n",
    "l={'id':1, 'descr':'laptop'}\n",
    "porRef(l)\n",
    "print(l)"
   ]
  },
  {
   "cell_type": "code",
   "execution_count": 19,
   "metadata": {},
   "outputs": [],
   "source": [
    "def veces(x,y):\n",
    "    return x*y"
   ]
  },
  {
   "cell_type": "code",
   "execution_count": 20,
   "metadata": {},
   "outputs": [
    {
     "data": {
      "text/plain": [
       "8"
      ]
     },
     "execution_count": 20,
     "metadata": {},
     "output_type": "execute_result"
    }
   ],
   "source": [
    "#Polimorfismo-> el comportamiento depende de los tipos  (tipado dinámico)\n",
    "veces(2,4)"
   ]
  },
  {
   "cell_type": "code",
   "execution_count": 21,
   "metadata": {},
   "outputs": [
    {
     "data": {
      "text/plain": [
       "78.19999999999999"
      ]
     },
     "execution_count": 21,
     "metadata": {},
     "output_type": "execute_result"
    }
   ],
   "source": [
    "veces(8.5,9.2)"
   ]
  },
  {
   "cell_type": "code",
   "execution_count": 22,
   "metadata": {},
   "outputs": [
    {
     "data": {
      "text/plain": [
       "'holaholaholaholahola'"
      ]
     },
     "execution_count": 22,
     "metadata": {},
     "output_type": "execute_result"
    }
   ],
   "source": [
    "veces('hola',5)"
   ]
  },
  {
   "cell_type": "markdown",
   "metadata": {},
   "source": [
    "### Argumentos arbitrarios"
   ]
  },
  {
   "cell_type": "code",
   "execution_count": 2,
   "metadata": {},
   "outputs": [
    {
     "name": "stdout",
     "output_type": "stream",
     "text": [
      "2\n",
      "3\n",
      "4\n",
      "5\n",
      "h\n",
      "7\n"
     ]
    }
   ],
   "source": [
    "def funcion(*num): # El asterisco permite que le mandes lo que quieras a la función\n",
    "    for x in num:\n",
    "        print(x)\n",
    "        \n",
    "        \n",
    "funcion(2,3,4,5,\"h\",7)"
   ]
  },
  {
   "cell_type": "code",
   "execution_count": 31,
   "metadata": {},
   "outputs": [],
   "source": [
    "#argumentos arbitrarios\n",
    "def hijos(*niños):\n",
    "    prole=[]\n",
    "    for h in niños:\n",
    "        hijo=[h]\n",
    "        print(h,end=\"\")\n",
    "        edad=int(input(\"Edad\"))\n",
    "        hijo.append(edad)\n",
    "        prole.append(hijo)\n",
    "    return prole"
   ]
  },
  {
   "cell_type": "code",
   "execution_count": 34,
   "metadata": {},
   "outputs": [
    {
     "name": "stdout",
     "output_type": "stream",
     "text": [
      "SofiaEdad11\n",
      "LorenaEdad7\n",
      "AnaEdad2\n",
      "PaulaEdad2\n",
      "[['Sofia', 11], ['Lorena', 7], ['Ana', 2], ['Paula', 2]]\n"
     ]
    }
   ],
   "source": [
    "#p=hijos('Juan','Pablo', 'Jose','Francisco','Ana','Maria')\n",
    "n=hijos('Sofia','Lorena','Ana','Paula')\n",
    "#print(p)\n",
    "print(n)"
   ]
  },
  {
   "cell_type": "markdown",
   "metadata": {},
   "source": [
    "# Ámbito- Variables locales o globales"
   ]
  },
  {
   "cell_type": "code",
   "execution_count": 3,
   "metadata": {},
   "outputs": [
    {
     "name": "stdout",
     "output_type": "stream",
     "text": [
      "None\n"
     ]
    }
   ],
   "source": [
    "def union(nombre, apellido):\n",
    "    completo=\"\"    #variable local solo vive dentro de la funcion\n",
    "    completo=nombre+\" \"+apellido\n",
    "    #return completo \n",
    "    \n",
    "completo=union('Guido','van Rossum') ## Este completo no es el mismo al completo de la fucnión.\n",
    "union('Guido','van Rossum')\n",
    "print(completo)"
   ]
  },
  {
   "cell_type": "code",
   "execution_count": 4,
   "metadata": {},
   "outputs": [
    {
     "name": "stdout",
     "output_type": "stream",
     "text": [
      "Guido van Rossum\n"
     ]
    }
   ],
   "source": [
    "def union(nombre, apellido):\n",
    "    global completo  #variable global se ve fuera de la función\n",
    "    completo=\"\"     \n",
    "    completo=nombre+\" \"+apellido\n",
    "    \n",
    "union('Guido','van Rossum')\n",
    "print(completo)"
   ]
  },
  {
   "cell_type": "code",
   "execution_count": 19,
   "metadata": {},
   "outputs": [
    {
     "name": "stdout",
     "output_type": "stream",
     "text": [
      "Guido van Rossum\n",
      "nuevo\n"
     ]
    }
   ],
   "source": [
    "completo=\"nuevo\"  #variable del módulo \n",
    "def union(nombre, apellido): \n",
    "    completo=nombre+\" \"+apellido # si asigno nuevamente se genera una variable local\n",
    "    print(completo)\n",
    "    \n",
    "union('Guido','van Rossum')\n",
    "print(completo)"
   ]
  },
  {
   "cell_type": "markdown",
   "metadata": {},
   "source": [
    "Averigua y da un ejemplo de uso\n",
    "    -  ¿Cómo mandar argumentos en desorden?\n",
    "    -  ¿Cómo usar un valor del parámetro por defecto?\n",
    "    -  ¿Para qué sirve pass en una función?"
   ]
  },
  {
   "cell_type": "code",
   "execution_count": 6,
   "metadata": {},
   "outputs": [
    {
     "name": "stdout",
     "output_type": "stream",
     "text": [
      "y= 10\n",
      "x= 4\n",
      "en la funcion\n",
      "y= 12\n",
      "x= 5\n"
     ]
    }
   ],
   "source": [
    "#¿Cómo mandar argumentos en desorden?\n",
    "def prueba(y,x):\n",
    "    print('y=',y)\n",
    "    print('x=',x)\n",
    "    x=x+1\n",
    "    y=y+2\n",
    "    return x,y  #return puede devolver dos o más valores\n",
    "\n",
    "x,y=prueba(x=4,y=10) \n",
    "print('En la funcion')\n",
    "print('y=',y)\n",
    "print('x=',x)"
   ]
  },
  {
   "cell_type": "code",
   "execution_count": 6,
   "metadata": {},
   "outputs": [
    {
     "name": "stdout",
     "output_type": "stream",
     "text": [
      "Carrera: der\n",
      "Para la carrera de der el pago es de 1000\n",
      "Para la carrera de ing el pago es de 1200\n"
     ]
    }
   ],
   "source": [
    "#¿Cómo usar un valor del parámetro por defecto?\n",
    "def cobro(carrera='ing'):\n",
    "    pago=1200\n",
    "    if carrera=='der':\n",
    "        pago=1000\n",
    "    elif carrera=='eco':\n",
    "        pago=800\n",
    "    elif carrera=='fil':\n",
    "        pago=950\n",
    "    print('Para la carrera de %s el pago es de %d'% (carrera,pago))\n",
    "    \n",
    "car=input(\"Carrera: \")\n",
    "cobro(car)\n",
    "cobro() #toma el valor por defecto ing"
   ]
  },
  {
   "cell_type": "code",
   "execution_count": null,
   "metadata": {},
   "outputs": [],
   "source": []
  }
 ],
 "metadata": {
  "kernelspec": {
   "display_name": "Python 3",
   "language": "python",
   "name": "python3"
  },
  "language_info": {
   "codemirror_mode": {
    "name": "ipython",
    "version": 3
   },
   "file_extension": ".py",
   "mimetype": "text/x-python",
   "name": "python",
   "nbconvert_exporter": "python",
   "pygments_lexer": "ipython3",
   "version": "3.7.6"
  }
 },
 "nbformat": 4,
 "nbformat_minor": 2
}
