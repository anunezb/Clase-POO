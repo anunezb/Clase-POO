{
 "cells": [
  {
   "cell_type": "markdown",
   "metadata": {},
   "source": [
    "# Conceptos de Programación Orientada a Objetos"
   ]
  },
  {
   "cell_type": "markdown",
   "metadata": {},
   "source": [
    "El paradigma de programación orientada a objetos permite estructurar los programas de tal manera que las propiedades y sus comportamientos están unidos en objetos individuales."
   ]
  },
  {
   "cell_type": "markdown",
   "metadata": {},
   "source": [
    "## Clases"
   ]
  },
  {
   "cell_type": "markdown",
   "metadata": {},
   "source": [
    "Las clases permiten crear estructuras definidas por el usuario que permiten contener información y comportamiento de una entidad. "
   ]
  },
  {
   "cell_type": "markdown",
   "metadata": {},
   "source": [
    "- Sintaxis de una clases"
   ]
  },
  {
   "cell_type": "code",
   "execution_count": null,
   "metadata": {},
   "outputs": [],
   "source": [
    "class Molde:\n",
    "    # Poner atributos y funciones\n",
    "    pass # Sin atributos\n",
    "\n",
    "obj1 = Molde() # Instancias de objetos\n",
    "obj2 = Molde()\n",
    "obj3 = Molde()"
   ]
  },
  {
   "cell_type": "markdown",
   "metadata": {},
   "source": [
    "#### Atributos  \n",
    "Una clase crea un nuevo espacio de nombres local donde se definen todos sus atributos. Los atributos pueden ser datos o métodos."
   ]
  },
  {
   "cell_type": "code",
   "execution_count": 10,
   "metadata": {},
   "outputs": [
    {
     "name": "stdout",
     "output_type": "stream",
     "text": [
      "mi primera clase\n"
     ]
    },
    {
     "data": {
      "text/plain": [
       "'Clase de ejemplo'"
      ]
     },
     "execution_count": 10,
     "metadata": {},
     "output_type": "execute_result"
    }
   ],
   "source": [
    "#class crea un objeto clase y le asign un nombre\n",
    "class Molde:\n",
    "    'Clase de ejemplo'  # Todos los objetos creados con la clase incializan estosc campos. \n",
    "    forma=''               #las asignaciones dentro de la clase crean atributos\n",
    "    tam=0\n",
    "    def imprime(self):\n",
    "        print('mi primera clase')\n",
    "        \n",
    "        \n",
    "objeto=Molde()    # crea una instancia de la clase Molde ... un objeto\n",
    "objeto.imprime()\n",
    "\n",
    "Molde.__doc__  #nos da la cadena de documentación de esa clase"
   ]
  },
  {
   "cell_type": "markdown",
   "metadata": {},
   "source": [
    "## Objetos \n",
    "El objeto es una instancia de una clase. Es una colección de datos (variables) y métodos (funciones) que actúan sobre esos datos. La clase es la plantilla con la que se crea el objeto."
   ]
  },
  {
   "cell_type": "code",
   "execution_count": 5,
   "metadata": {},
   "outputs": [
    {
     "name": "stdout",
     "output_type": "stream",
     "text": [
      "forma  cuadrado\n",
      "tamaño  5\n"
     ]
    }
   ],
   "source": [
    "#class crea un objeto clase y le asign un nombre\n",
    "class Molde:\n",
    "    'Clase de ejemplo'\n",
    "    forma=''\n",
    "    tam=0\n",
    "    def imprime(self):   # self referencía el objeto instancia que está siendo procesado, siempre tendrá self\n",
    "        print('forma ',self.forma)\n",
    "        print('tamaño ',self.tam)\n",
    "    \n",
    "objeto=Molde()\n",
    "objeto.forma='cuadrado'  #los atributos se accesan nombreObjeto.nombreAtributo\n",
    "objeto.tam=5\n",
    "objeto.imprime() # Pasa objeto\n",
    "\n",
    "otro=Molde()\n",
    "otro.forma='rectangulo'  #los atributos se accesan nombreObjeto.nombreAtributo\n",
    "otro.tam=8\n",
    "otro.imprime() # Pasa otro"
   ]
  },
  {
   "cell_type": "markdown",
   "metadata": {},
   "source": [
    "### Inicializador\n",
    "Es una función que es llamada cada vez que un nuevo objeto de una clase es instanciado"
   ]
  },
  {
   "cell_type": "code",
   "execution_count": 1,
   "metadata": {},
   "outputs": [
    {
     "name": "stdout",
     "output_type": "stream",
     "text": [
      "Circulo\n",
      "Perro\n"
     ]
    }
   ],
   "source": [
    "class Molde:\n",
    "    def __init__(self,f):\n",
    "        self.forma = f # Inicializar atributos\n",
    "\n",
    "obj1 = Molde(\"Circulo\")\n",
    "print(obj1.forma)\n",
    "obj2 = Molde(\"Perro\")\n",
    "print(obj2.forma)"
   ]
  },
  {
   "cell_type": "code",
   "execution_count": 1,
   "metadata": {},
   "outputs": [
    {
     "name": "stdout",
     "output_type": "stream",
     "text": [
      "Cuenta de  Juan Perez\n",
      "Impuesto a pagar 3000.0\n"
     ]
    }
   ],
   "source": [
    "class Cuenta:\n",
    "    def __init__(self,s,n):     #inicializador __init__ fución que se corre cada vez que hago una llamda de un objeto\n",
    "        self.saldo = s  # Se llena con cualquier valor\n",
    "        self.nombre = n # Se llena con cualquier valor\n",
    "        self.tipo = 'ahorro' # Siempre se llena con ahorro\n",
    "    def impuesto(self):          \n",
    "        if self.saldo < 5000:\n",
    "            return 0\n",
    "        else:\n",
    "            return self.saldo * .3\n",
    "\n",
    "ctaJuan=Cuenta(10000,'Juan Perez')\n",
    "print('Cuenta de ',ctaJuan.nombre)\n",
    "print(\"Impuesto a pagar\",ctaJuan.impuesto())"
   ]
  },
  {
   "cell_type": "markdown",
   "metadata": {},
   "source": [
    "**Ejercicios:**\n",
    "1. Describe con tus propias palabras que es : \n",
    "    -  Clase: Molde, características que puedes compartir con otros\n",
    "    -  Objeto: Algo que hacemos con la clase.\n",
    "    -  Inicializador (Constructor): __init__ \n",
    "    -  Atributo\n",
    "    -  Método\n",
    "2. Escribe una clase de una entidad de tu preferencia (coche, figura, animal etc.) que contenga campos para tres datos, un constructor para la clase y un método que despliegue la información."
   ]
  },
  {
   "cell_type": "markdown",
   "metadata": {},
   "source": [
    "### Destructor \n",
    "El destructor es una función que es llamada después de terminar el programa o cuando las referencias a un objeto son borradas."
   ]
  },
  {
   "cell_type": "code",
   "execution_count": 2,
   "metadata": {},
   "outputs": [
    {
     "name": "stdout",
     "output_type": "stream",
     "text": [
      "Crea una cuenta\n",
      "Llamo al destructor\n",
      "fin\n"
     ]
    }
   ],
   "source": [
    "class Cuenta:\n",
    "    def __init__(self):\n",
    "        print('Crea una cuenta')\n",
    "        \n",
    "    def __del__(self): #destructor\n",
    "        print('Llamo al destructor')\n",
    "        \n",
    "cta=Cuenta()\n",
    "del cta   #correrlo una vez con esta línea comentada primero\n",
    "print('fin')"
   ]
  },
  {
   "cell_type": "code",
   "execution_count": 3,
   "metadata": {},
   "outputs": [
    {
     "name": "stdout",
     "output_type": "stream",
     "text": [
      "Crea una cuenta\n",
      "Llamo al destructor\n"
     ]
    }
   ],
   "source": [
    "octa = Cuenta()\n",
    "octa = \"Algo diferente\" # corre automáticamente cuando cambia una instancia"
   ]
  },
  {
   "cell_type": "markdown",
   "metadata": {},
   "source": [
    "##  Otros conceptos"
   ]
  },
  {
   "cell_type": "raw",
   "metadata": {},
   "source": [
    "Variables de instancia.- Son únicamente para el objeto en cuestión\n",
    "Variables de clase.- Se refieren a datos compartidos por todas las instancias\n",
    "Métodos regulares.- Requieren \"self\" para operar sobre datos de la instancia\n",
    "Métodos de clase .- implementan constructores alternativos. Necesitan \"cls\" para poder crear instancias de subclases también.\n",
    "Métodos estáticos.- Funciones que están asociados con las clases. No requieren \"self\" y mejoran la capacidad de descubrimiento y requiere contexto para ser especificado."
   ]
  },
  {
   "cell_type": "markdown",
   "metadata": {},
   "source": [
    "### Variable de clase y variable de instancia"
   ]
  },
  {
   "cell_type": "code",
   "execution_count": 3,
   "metadata": {},
   "outputs": [
    {
     "name": "stdout",
     "output_type": "stream",
     "text": [
      "version de la clase  0.2\n",
      "Da el radio en cms: 2\n",
      "Area en cm cuadrados :  12.5664\n",
      "Perimetro en pulgadas:  4.947401574803149\n"
     ]
    }
   ],
   "source": [
    "class Circulo:\n",
    "    #attributo comun a todos las instancias de la clase\n",
    "    version='0.2'\n",
    "    categoria='Figura'  # Variables de clase\n",
    "    \n",
    "    def __init__(self,r,c):\n",
    "        self.radio=r        #atributos de la instancia\n",
    "        self.color=c\n",
    "        \n",
    "    def area(self): # Métodos regulares\n",
    "        return 3.1416*self.radio**2\n",
    "    def perimetro(self): # Métodos regulares\n",
    "        return 2*3.1416*self.radio\n",
    "    \n",
    "    @staticmethod     # Jamás usarlo con una instancia, se usan con la clase    \n",
    "    def cmsaPulgadas(x):\n",
    "        return x/2.54\n",
    "        \n",
    "    \n",
    "print('version de la clase ', Circulo.version) # Llamo a partir de la clase no del objeto\n",
    "r=float(input('Da el radio en cms: '))\n",
    "circulo1=Circulo(r,'rojo')\n",
    "print('Area en cm cuadrados : ', circulo1.area())\n",
    "percms= circulo1.perimetro()\n",
    "print('Perimetro en pulgadas: ', Circulo.cmsaPulgadas(percms))"
   ]
  },
  {
   "cell_type": "code",
   "execution_count": 2,
   "metadata": {},
   "outputs": [
    {
     "data": {
      "text/plain": [
       "2.0"
      ]
     },
     "execution_count": 2,
     "metadata": {},
     "output_type": "execute_result"
    }
   ],
   "source": [
    "circulo1.radio # Llamo desde el objeto"
   ]
  },
  {
   "cell_type": "code",
   "execution_count": 8,
   "metadata": {},
   "outputs": [
    {
     "name": "stdout",
     "output_type": "stream",
     "text": [
      "1 5750.0\n"
     ]
    }
   ],
   "source": [
    "class Factura:\n",
    "    folio=0  # Variables de clase\n",
    "    \n",
    "    def __init__(self,e,s): # inicializador o constructor\n",
    "        self.empresa=e\n",
    "        self.subtotal=s   # Variables de instancia\n",
    "        Factura.folio+=1\n",
    "        \n",
    "    def total(self): # Método regular\n",
    "        self.tot=self.subtotal*1.15\n",
    "        \n",
    "    @staticmethod\n",
    "    def aDolares(pesos):\n",
    "        return pesos/20\n",
    "        \n",
    " \n",
    "\n",
    "up=Factura('Universidad Panamericana',5000)\n",
    "up.total()\n",
    "print(up.folio,up.tot)"
   ]
  },
  {
   "cell_type": "code",
   "execution_count": 9,
   "metadata": {},
   "outputs": [
    {
     "ename": "NameError",
     "evalue": "name 'pesos' is not defined",
     "output_type": "error",
     "traceback": [
      "\u001b[0;31m---------------------------------------------------------------------------\u001b[0m",
      "\u001b[0;31mNameError\u001b[0m                                 Traceback (most recent call last)",
      "\u001b[0;32m<ipython-input-9-758fc34b52db>\u001b[0m in \u001b[0;36m<module>\u001b[0;34m\u001b[0m\n\u001b[1;32m      1\u001b[0m \u001b[0mdolares\u001b[0m \u001b[0;34m=\u001b[0m \u001b[0mup\u001b[0m\u001b[0;34m.\u001b[0m\u001b[0mtotal\u001b[0m\u001b[0;34m(\u001b[0m\u001b[0;34m)\u001b[0m\u001b[0;34m\u001b[0m\u001b[0;34m\u001b[0m\u001b[0m\n\u001b[0;32m----> 2\u001b[0;31m \u001b[0mdolares\u001b[0m \u001b[0;34m=\u001b[0m \u001b[0mFactura\u001b[0m\u001b[0;34m.\u001b[0m\u001b[0maDolares\u001b[0m\u001b[0;34m(\u001b[0m\u001b[0mpesos\u001b[0m\u001b[0;34m)\u001b[0m\u001b[0;34m\u001b[0m\u001b[0;34m\u001b[0m\u001b[0m\n\u001b[0m\u001b[1;32m      3\u001b[0m \u001b[0mdolares\u001b[0m\u001b[0;34m\u001b[0m\u001b[0;34m\u001b[0m\u001b[0m\n",
      "\u001b[0;31mNameError\u001b[0m: name 'pesos' is not defined"
     ]
    }
   ],
   "source": [
    "dolares = up.total()\n",
    "dolares = Factura.aDolares(pesos)\n",
    "dolares"
   ]
  },
  {
   "cell_type": "code",
   "execution_count": 10,
   "metadata": {},
   "outputs": [
    {
     "name": "stdout",
     "output_type": "stream",
     "text": [
      "1 5750.0\n",
      "se han generado: 1 folios\n"
     ]
    }
   ],
   "source": [
    "class Factura:\n",
    "    folio=0\n",
    "    \n",
    "    def __init__(self,e,s):\n",
    "        Factura.folio+=1\n",
    "        self.empresa=e\n",
    "        self.subtotal=s\n",
    "        self.folio=Factura.folio\n",
    "       \n",
    "        \n",
    "    def total(self):\n",
    "        self.tot=self.subtotal*1.15\n",
    "        \n",
    "    def imprimeFolio(): \n",
    "        print('se han generado: '+str(Factura.folio)+' folios')\n",
    " \n",
    "\n",
    "up = Factura('Universidad Panamericana',5000)\n",
    "up.total()\n",
    "print(up.folio,up.tot)\n",
    "Factura.imprimeFolio()"
   ]
  },
  {
   "cell_type": "code",
   "execution_count": 12,
   "metadata": {},
   "outputs": [
    {
     "name": "stdout",
     "output_type": "stream",
     "text": [
      "Empresa: amazon\n",
      "Subtotal facturado: 98765\n",
      "Empresa: apple\n",
      "Subtotal facturado: 83636\n",
      "Empresa: amazon\n",
      "Subtotal facturado: 34567\n",
      "Empresa:  amazon\n",
      "Folio:  5\n",
      "Subtotal:  98765.0\n",
      "Total:  113579.74999999999\n",
      "Empresa:  apple\n",
      "Folio:  6\n",
      "Subtotal:  83636.0\n",
      "Total:  96181.4\n",
      "Empresa:  amazon\n",
      "Folio:  7\n",
      "Subtotal:  34567.0\n",
      "Total:  39752.049999999996\n",
      "[<__main__.Factura object at 0x7fab10d53f50>, <__main__.Factura object at 0x7fab10bab450>, <__main__.Factura object at 0x7fab10babdd0>]\n",
      "se han generado: 7 folios\n"
     ]
    }
   ],
   "source": [
    "facturas=[]\n",
    "for i in range(3):\n",
    "    e=input('Empresa: ')\n",
    "    s=float(input('Subtotal facturado: '))\n",
    "    o=Factura(e,s)\n",
    "    facturas.append(o)\n",
    "\n",
    "for e in facturas:\n",
    "    print('Empresa: ',e.empresa)\n",
    "    print('Folio: ',e.folio)\n",
    "    print('Subtotal: ',e.subtotal)\n",
    "    e.total()\n",
    "    print('Total: ',e.tot)\n",
    "\n",
    "Factura.imprimeFolio()    "
   ]
  },
  {
   "cell_type": "code",
   "execution_count": 3,
   "metadata": {},
   "outputs": [
    {
     "data": {
      "text/plain": [
       "4"
      ]
     },
     "execution_count": 3,
     "metadata": {},
     "output_type": "execute_result"
    }
   ],
   "source": [
    "Factura.folio"
   ]
  },
  {
   "cell_type": "code",
   "execution_count": 4,
   "metadata": {},
   "outputs": [
    {
     "name": "stdout",
     "output_type": "stream",
     "text": [
      "Adam's age is: 20\n",
      "John's age is: 36\n"
     ]
    }
   ],
   "source": [
    "# Metodo de clase\n",
    "#https://www.programiz.com/python-programming/methods/built-in/classmethod\n",
    "from datetime import date\n",
    "\n",
    "class Person:\n",
    "    def __init__(self, name, age):\n",
    "        self.name = name\n",
    "        self.age = age\n",
    "\n",
    "    @classmethod # Decorador\n",
    "    def fromBirthYear(cls, name, birthYear):\n",
    "        return cls(name, date.today().year - birthYear)\n",
    "\n",
    "    def display(self):\n",
    "        print(self.name + \"'s age is: \" + str(self.age))\n",
    "\n",
    "person = Person('Adam', 20)\n",
    "person.display()\n",
    "\n",
    "person1 = Person.fromBirthYear('John',  1985)\n",
    "person1.display()"
   ]
  },
  {
   "cell_type": "code",
   "execution_count": null,
   "metadata": {},
   "outputs": [],
   "source": []
  }
 ],
 "metadata": {
  "kernelspec": {
   "display_name": "Python 3",
   "language": "python",
   "name": "python3"
  },
  "language_info": {
   "codemirror_mode": {
    "name": "ipython",
    "version": 3
   },
   "file_extension": ".py",
   "mimetype": "text/x-python",
   "name": "python",
   "nbconvert_exporter": "python",
   "pygments_lexer": "ipython3",
   "version": "3.7.6"
  }
 },
 "nbformat": 4,
 "nbformat_minor": 2
}
