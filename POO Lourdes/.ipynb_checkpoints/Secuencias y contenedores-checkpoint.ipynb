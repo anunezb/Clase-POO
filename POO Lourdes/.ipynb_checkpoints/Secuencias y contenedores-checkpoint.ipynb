{
 "cells": [
  {
   "cell_type": "markdown",
   "metadata": {},
   "source": [
    "# Tipos de datos secuenciales y contenedores"
   ]
  },
  {
   "cell_type": "markdown",
   "metadata": {},
   "source": [
    "Además de las cadenas (strings) las secuencias más usadas son listas y tuplas.\n",
    "\n",
    "-  Lista es una colección de elementos ordenados, heterogéneos, es mutable y acepta duplicados -se pone entre []\n",
    "-  Tupla es una colección de elementos ordenados, heterogéneos, es inmutable y acepta duplicados -se pone entre ()\n",
    "-  Diccionario es una colección no ordenadas que almacenan pares de (llave,valor) mutable -se ponen entre {}\n"
   ]
  },
  {
   "cell_type": "markdown",
   "metadata": {},
   "source": [
    "### Listas \n",
    "Las listas son equivalentes a los arreglos pero su tamaño puede cambiar y puede contener elementos de diferentes tipos\n",
    "\n",
    "Los elementos de una lista pueden accederse mediante su índice"
   ]
  },
  {
   "cell_type": "code",
   "execution_count": 1,
   "metadata": {},
   "outputs": [
    {
     "name": "stdout",
     "output_type": "stream",
     "text": [
      "pan\n",
      "30.5\n",
      "2\n",
      "bimbo\n"
     ]
    }
   ],
   "source": [
    "coleccion=['pan',30.5, 2,'bimbo']  #puede tener elementos de tipos de diferentes \n",
    "for i in coleccion:\n",
    "    print(i)"
   ]
  },
  {
   "cell_type": "code",
   "execution_count": 3,
   "metadata": {},
   "outputs": [
    {
     "name": "stdout",
     "output_type": "stream",
     "text": [
      "primero-> pan\n",
      "ultimo-> 2\n"
     ]
    }
   ],
   "source": [
    "print(\"primero->\",coleccion[0])\n",
    "print(\"ultimo->\",coleccion[-2]) # Leer al reves, al reves inicia en -1 "
   ]
  },
  {
   "cell_type": "markdown",
   "metadata": {},
   "source": [
    "Algunas funciones útiles :\n",
    "    append()\n",
    "    count()\n",
    "    extend()\n",
    "    insert()\n",
    "    reverse()\n",
    "    pop()\n",
    "    remove()"
   ]
  },
  {
   "cell_type": "raw",
   "metadata": {},
   "source": [
    "x = [1, 2, 3]\n",
    "x.append([4, 5])\n",
    "print (\"con append\",x) #añade un elemento al final\n",
    "\n",
    "x = [1, 2, 3]\n",
    "x.extend([4, 5])   # añade elementos extendiento la lista uno por uno\n",
    "print(\"con extend\",x)"
   ]
  },
  {
   "cell_type": "code",
   "execution_count": 4,
   "metadata": {},
   "outputs": [
    {
     "name": "stdout",
     "output_type": "stream",
     "text": [
      "con extend [1, 2, 3, 4, 5]\n"
     ]
    }
   ],
   "source": [
    "x = [1, 2, 3]\n",
    "x.extend([4,5]) # Añade elementos extendiendo la lista uno por uno\n",
    "print(\"con extend\", x)"
   ]
  },
  {
   "cell_type": "code",
   "execution_count": 5,
   "metadata": {},
   "outputs": [
    {
     "name": "stdout",
     "output_type": "stream",
     "text": [
      "con append [1, 2, 3, [4, 5]]\n"
     ]
    }
   ],
   "source": [
    "x= [1,2,3]\n",
    "x.append([4,5]) # Añade un elemento al final.\n",
    "print(\"con append\",x)"
   ]
  },
  {
   "cell_type": "code",
   "execution_count": 4,
   "metadata": {},
   "outputs": [
    {
     "name": "stdout",
     "output_type": "stream",
     "text": [
      "['Mexico', 'Alemania', 'Australia', 'Canada', 'Francia']\n"
     ]
    }
   ],
   "source": [
    "#insert  inserta el elemento x en la lista, en el índice i.\n",
    "paises=[\"Mexico\",\"Alemania\",\"Canada\",\"Francia\"]\n",
    "paises.insert(2,\"Australia\")\n",
    "print(paises)"
   ]
  },
  {
   "cell_type": "code",
   "execution_count": 6,
   "metadata": {},
   "outputs": [
    {
     "data": {
      "text/plain": [
       "['Mexico', 'Francia', 'Canada', 'Australia', 'Alemania']"
      ]
     },
     "execution_count": 6,
     "metadata": {},
     "output_type": "execute_result"
    }
   ],
   "source": [
    "paises.sort()\n",
    "paises.reverse()\n",
    "paises"
   ]
  },
  {
   "cell_type": "markdown",
   "metadata": {},
   "source": [
    "INVESTIGA: ¿Qué diferencia hay entre los métodos pop y remove en un lista?"
   ]
  },
  {
   "cell_type": "markdown",
   "metadata": {},
   "source": [
    "- Pop: pop () se utiliza para eliminar un elemento de la lista (por defecto el último elemento), y devuelve el valor de dicho elemento. Sintaxis: list.pop(obj=list[-1])\n"
   ]
  },
  {
   "cell_type": "code",
   "execution_count": 10,
   "metadata": {
    "scrolled": true
   },
   "outputs": [
    {
     "name": "stdout",
     "output_type": "stream",
     "text": [
      "[1, 2]\n"
     ]
    }
   ],
   "source": [
    "lista = [1,2,3]\n",
    "lista.pop() # Elimina por defecto el último elemento\n",
    "print(lista)"
   ]
  },
  {
   "cell_type": "code",
   "execution_count": 11,
   "metadata": {
    "scrolled": true
   },
   "outputs": [
    {
     "name": "stdout",
     "output_type": "stream",
     "text": [
      "[2, 3]\n"
     ]
    }
   ],
   "source": [
    "lista = [1,2,3]\n",
    "lista.pop(0) # Elimina el elemento del índice que se indica\n",
    "print(lista)"
   ]
  },
  {
   "cell_type": "markdown",
   "metadata": {},
   "source": [
    "- Remove: El método remove () elimina la primera aparición del elemento con el valor especificado."
   ]
  },
  {
   "cell_type": "code",
   "execution_count": 8,
   "metadata": {},
   "outputs": [
    {
     "name": "stdout",
     "output_type": "stream",
     "text": [
      "['adios', 'buenos dias']\n"
     ]
    }
   ],
   "source": [
    "saludos = [\"hola\", \"adios\", \"buenos dias\"]\n",
    "saludos.remove(\"hola\")\n",
    "print(saludos)"
   ]
  },
  {
   "cell_type": "markdown",
   "metadata": {},
   "source": [
    "- La diferencia entre Pop y remove es que en el caso de Pop tu eliminas un elemento de una lista haciendo uso del índice, por otro lado para remove puedes escribir tal cual el elemento que quieres eliminar. "
   ]
  },
  {
   "cell_type": "raw",
   "metadata": {},
   "source": [
    "Slice es la representación de una parte de una secuencia\n",
    "a[inicio:fin]  # elementos desde inicio hasta fin-1\n",
    "a[inicio:]     # elementos desde inicio hasta el final de la secuencia\n",
    "a[:fin]        # elementos desde el principio hasta fin-1\n",
    "a[:]           # una copia de todo la secuencia"
   ]
  },
  {
   "cell_type": "code",
   "execution_count": 7,
   "metadata": {},
   "outputs": [
    {
     "data": {
      "text/plain": [
       "['Francia', 'Canada']"
      ]
     },
     "execution_count": 7,
     "metadata": {},
     "output_type": "execute_result"
    }
   ],
   "source": [
    "paises[1:3]  #prueba varios rangos para hacer extraer parte de una lista"
   ]
  },
  {
   "cell_type": "code",
   "execution_count": 16,
   "metadata": {},
   "outputs": [
    {
     "name": "stdout",
     "output_type": "stream",
     "text": [
      "Alemania\n",
      "['Australia', 'Alemania']\n",
      "['Mexico', 'Francia']\n"
     ]
    }
   ],
   "source": [
    "print(paises[-1])    # último\n",
    "print(paises[-2:])  # los dos últimos\n",
    "print(paises[:-3])  #todo menos los dos últimos"
   ]
  },
  {
   "cell_type": "code",
   "execution_count": 19,
   "metadata": {},
   "outputs": [
    {
     "name": "stdout",
     "output_type": "stream",
     "text": [
      "['Alemania', 'Berlín']\n",
      "['Brasil', 'Brasilia']\n",
      "['Francia', 'Paris']\n"
     ]
    }
   ],
   "source": [
    "#listas anidadas\n",
    "pais_capital=[['Alemania', 'Berlín'], ['Brasil','Brasilia'], ['Francia','Paris']]\n",
    "for p in pais_capital:\n",
    "    print(p)"
   ]
  },
  {
   "cell_type": "code",
   "execution_count": 21,
   "metadata": {},
   "outputs": [
    {
     "name": "stdout",
     "output_type": "stream",
     "text": [
      "Alemania\n",
      "Berlín\n",
      "Brasil\n",
      "Brasilia\n",
      "Francia\n",
      "Paris\n"
     ]
    }
   ],
   "source": [
    "for p in pais_capital:\n",
    "    for c in p:\n",
    "        print(c)"
   ]
  },
  {
   "cell_type": "code",
   "execution_count": 30,
   "metadata": {},
   "outputs": [
    {
     "name": "stdout",
     "output_type": "stream",
     "text": [
      "15\n"
     ]
    }
   ],
   "source": [
    "#otras funciones\n",
    "n=[1,2,3,4,5]\n",
    "print(sum(n))"
   ]
  },
  {
   "cell_type": "markdown",
   "metadata": {},
   "source": [
    "### Tupla  (Tuple)"
   ]
  },
  {
   "cell_type": "code",
   "execution_count": 29,
   "metadata": {},
   "outputs": [
    {
     "data": {
      "text/plain": [
       "('jugar', 'correr', 'nadar', 'programar')"
      ]
     },
     "execution_count": 29,
     "metadata": {},
     "output_type": "execute_result"
    }
   ],
   "source": [
    "verbos=('jugar','correr','nadar','programar')\n",
    "#verbos[2] = 'nuevo'  # marca error por que no se puede cambiar (son inmutables)\n",
    "#dir(verbos)\n",
    "verbos"
   ]
  },
  {
   "cell_type": "code",
   "execution_count": 9,
   "metadata": {},
   "outputs": [],
   "source": [
    "#ejemplos de tupla\n",
    "genero=(\"m\",\"f\")\n",
    "punto_cardinal=(\"E\", \"O\", \"N\", \"S\")\n",
    "colores_primarios=(\"azul\", \"rojo\", \"verde\")\n",
    "meses=(\"ene\",\"feb\",\"mar\",\"dic\")"
   ]
  },
  {
   "cell_type": "markdown",
   "metadata": {},
   "source": [
    "Ejercicio:\n",
    "    Con base a las tuplas de meses y genero crea una listaAño que contenga de manera anidada listas para cada mes con el conteo de las personas de cada género que acudieron al cine cada mes. Ejemplo: [[1, 2], [3, 4], [5, 6], [7, 8]]"
   ]
  },
  {
   "cell_type": "code",
   "execution_count": 32,
   "metadata": {},
   "outputs": [
    {
     "name": "stdout",
     "output_type": "stream",
     "text": [
      "H?Cuantas personas: 1\n",
      "M?Cuantas personas: 2\n",
      "H?Cuantas personas: 3\n",
      "M?Cuantas personas: 4\n",
      "H?Cuantas personas: 5\n",
      "M?Cuantas personas: 6\n",
      "H?Cuantas personas: 7\n",
      "M?Cuantas personas: 8\n",
      "[[1, 2], [3, 4], [5, 6], [7, 8]]\n"
     ]
    }
   ],
   "source": [
    "#Solución \n",
    "meses=(\"ene\",\"feb\",\"mar\",\"dic\")\n",
    "genero=(\"H\",\"M\")\n",
    "listaAño=[]\n",
    "for m in meses:\n",
    "    listaMes=[]\n",
    "    for g in genero:\n",
    "        print(g,end=\"?\")\n",
    "        elemento=int(input(\"Cuantas personas: \"))\n",
    "        listaMes.append(elemento)\n",
    "    listaAño.append(listaMes)\n",
    "print(listaAño)"
   ]
  },
  {
   "cell_type": "code",
   "execution_count": 8,
   "metadata": {},
   "outputs": [
    {
     "name": "stdout",
     "output_type": "stream",
     "text": [
      "Cuantas personas: 5\n",
      "Cuantas personas: 5\n",
      "Cuantas personas: 5\n",
      "Cuantas personas: 5\n",
      "Cuantas personas: 5\n",
      "Cuantas personas: 5\n",
      "Cuantas personas: 5\n",
      "Cuantas personas: 5\n",
      "Cuantas personas: 5\n",
      "Cuantas personas: 5\n",
      "Cuantas personas: 5\n",
      "Cuantas personas: 5\n",
      "Cuantas personas: 5\n",
      "Cuantas personas: 5\n",
      "Cuantas personas: 5\n",
      "Cuantas personas: 5\n",
      "Cuantas personas: 5\n",
      "Cuantas personas: 5\n",
      "Cuantas personas: 5\n",
      "Cuantas personas: 5\n",
      "Cuantas personas: 5\n",
      "Cuantas personas: 5\n",
      "Cuantas personas: 5\n",
      "Cuantas personas: 58\n",
      "[[5, 5], [5, 5], [5, 5], [5, 5], [5, 5], [5, 5], [5, 5], [5, 5], [5, 5], [5, 5], [5, 5], [5, 58]]\n"
     ]
    }
   ],
   "source": [
    "#otra solución sin tuplas que genera una matriz\n",
    "listaAño=[]\n",
    "for m in range(12):\n",
    "    listaMes=[]\n",
    "    for g in range(2):\n",
    "        elemento=int(input(\"Cuantas personas: \"))\n",
    "        listaMes.append(elemento)\n",
    "    else:    \n",
    "        listaAño.append(listaMes)\n",
    "print(listaAño)  "
   ]
  },
  {
   "cell_type": "markdown",
   "metadata": {},
   "source": [
    "# Asocia las listas por índice"
   ]
  },
  {
   "cell_type": "code",
   "execution_count": 1,
   "metadata": {},
   "outputs": [
    {
     "name": "stdout",
     "output_type": "stream",
     "text": [
      "Juan 25000 gerente\n",
      "Maria 35000 director\n",
      "Ana 30000 analista\n"
     ]
    }
   ],
   "source": [
    "#Asocia las listas por índice\n",
    "nombre = ['Juan', 'Maria', 'Ana']\n",
    "sueldo = [25000, 35000, 30000]\n",
    "puesto=['gerente','director','analista']\n",
    "for n, s,p in zip(nombre, sueldo,puesto):\n",
    "    print(n, s,p)"
   ]
  },
  {
   "cell_type": "markdown",
   "metadata": {},
   "source": [
    "### Diccionarios (Dictionary)"
   ]
  },
  {
   "cell_type": "code",
   "execution_count": 1,
   "metadata": {},
   "outputs": [],
   "source": [
    "# diccionario vacío\n",
    "dicc = {}\n",
    "# diccionario con llaves enteras\n",
    "articulos = {1: 'pluma', 2: 'goma',3:'lapiz'}\n",
    "# diccionario con llaves mixtas\n",
    "reg = {'nombre': 'Pedro', 5: [2, 4, 3]}"
   ]
  },
  {
   "cell_type": "code",
   "execution_count": 5,
   "metadata": {},
   "outputs": [
    {
     "name": "stdout",
     "output_type": "stream",
     "text": [
      "pluma\n",
      "Pedro\n",
      "[2, 4, 3]\n"
     ]
    }
   ],
   "source": [
    "print(articulos[1])\n",
    "print(reg['nombre'])\n",
    "print(reg[5])"
   ]
  },
  {
   "cell_type": "code",
   "execution_count": 8,
   "metadata": {},
   "outputs": [
    {
     "data": {
      "text/plain": [
       "'Ana'"
      ]
     },
     "execution_count": 8,
     "metadata": {},
     "output_type": "execute_result"
    }
   ],
   "source": [
    "reg['nombre']='Ana'    #cambia el valor\n",
    "reg['nombre']"
   ]
  },
  {
   "cell_type": "code",
   "execution_count": 7,
   "metadata": {},
   "outputs": [
    {
     "name": "stdout",
     "output_type": "stream",
     "text": [
      "{'nombre': 'Ana', 5: [2, 4, 3], 'talla': 1.7}\n"
     ]
    }
   ],
   "source": [
    "reg['talla']=1.70   #añade un par llave:valor\n",
    "print(reg)"
   ]
  },
  {
   "cell_type": "code",
   "execution_count": 17,
   "metadata": {},
   "outputs": [
    {
     "data": {
      "text/plain": [
       "216"
      ]
     },
     "execution_count": 17,
     "metadata": {},
     "output_type": "execute_result"
    }
   ],
   "source": [
    "reg.__sizeof__()"
   ]
  },
  {
   "cell_type": "code",
   "execution_count": 30,
   "metadata": {},
   "outputs": [],
   "source": [
    "llaves=reg.keys()  #devuelve las llaves"
   ]
  },
  {
   "cell_type": "code",
   "execution_count": 31,
   "metadata": {},
   "outputs": [
    {
     "name": "stdout",
     "output_type": "stream",
     "text": [
      "dict_keys(['nombre', 5, 'talla'])\n"
     ]
    }
   ],
   "source": [
    "print(llaves)"
   ]
  },
  {
   "cell_type": "code",
   "execution_count": 32,
   "metadata": {},
   "outputs": [
    {
     "name": "stdout",
     "output_type": "stream",
     "text": [
      "1.7\n",
      "{'nombre': 'Ana', 5: [2, 4, 3]}\n"
     ]
    }
   ],
   "source": [
    "#para eliminar elementos\n",
    "valor=reg.pop('talla')\n",
    "print(valor)\n",
    "print(reg)"
   ]
  },
  {
   "cell_type": "code",
   "execution_count": 33,
   "metadata": {},
   "outputs": [
    {
     "name": "stdout",
     "output_type": "stream",
     "text": [
      "(5, [2, 4, 3])\n",
      "{'nombre': 'Ana'}\n"
     ]
    }
   ],
   "source": [
    "par=reg.popitem() #borra el ultimo insertado y devuelve key:value\n",
    "print(par)\n",
    "print(reg)"
   ]
  },
  {
   "cell_type": "code",
   "execution_count": null,
   "metadata": {},
   "outputs": [],
   "source": [
    "#duplicados\n"
   ]
  },
  {
   "cell_type": "markdown",
   "metadata": {},
   "source": [
    "**Ejercicio:**\n",
    "    Escribe el enunciado de un problema que se pueda resolver con cada contenedor visto y presenta también la solución"
   ]
  },
  {
   "cell_type": "markdown",
   "metadata": {},
   "source": [
    "### Conjuntos (Sets)\n",
    "Colección desordenada, no indizada y no acepta duplicados, no permite cambios pero si adiciones."
   ]
  },
  {
   "cell_type": "code",
   "execution_count": 39,
   "metadata": {},
   "outputs": [
    {
     "name": "stdout",
     "output_type": "stream",
     "text": [
      "{2, 'euro', 'peso', 'dolar'}\n"
     ]
    }
   ],
   "source": [
    "monedas = {\"peso\", 2, \"euro\"}\n",
    "monedas.add(\"dolar\")\n",
    "print(monedas)"
   ]
  },
  {
   "cell_type": "code",
   "execution_count": 40,
   "metadata": {},
   "outputs": [
    {
     "data": {
      "text/plain": [
       "False"
      ]
     },
     "execution_count": 40,
     "metadata": {},
     "output_type": "execute_result"
    }
   ],
   "source": [
    "'pera' in monedas"
   ]
  },
  {
   "cell_type": "code",
   "execution_count": 41,
   "metadata": {},
   "outputs": [],
   "source": [
    "monedas.update([\"yen\", \"libra\", \"cad\"])"
   ]
  },
  {
   "cell_type": "code",
   "execution_count": 44,
   "metadata": {},
   "outputs": [
    {
     "name": "stdout",
     "output_type": "stream",
     "text": [
      "{2, 'euro', 'dolar', 'peso', 'libra', 'cad', 'yen'}\n"
     ]
    }
   ],
   "source": [
    "print(monedas)"
   ]
  },
  {
   "cell_type": "code",
   "execution_count": 46,
   "metadata": {},
   "outputs": [],
   "source": [
    "monedas.add('peso')"
   ]
  },
  {
   "cell_type": "code",
   "execution_count": 45,
   "metadata": {},
   "outputs": [
    {
     "name": "stdout",
     "output_type": "stream",
     "text": [
      "{2, 'euro', 'dolar', 'peso', 'libra', 'cad', 'yen'}\n"
     ]
    }
   ],
   "source": [
    "print(monedas)"
   ]
  },
  {
   "cell_type": "code",
   "execution_count": 47,
   "metadata": {},
   "outputs": [],
   "source": [
    "#remove y discard eliminan un elemento pruébalo y encuentra la diferencia\n",
    "monedas.remove('cad')"
   ]
  },
  {
   "cell_type": "code",
   "execution_count": null,
   "metadata": {},
   "outputs": [],
   "source": []
  }
 ],
 "metadata": {
  "kernelspec": {
   "display_name": "Python 3",
   "language": "python",
   "name": "python3"
  },
  "language_info": {
   "codemirror_mode": {
    "name": "ipython",
    "version": 3
   },
   "file_extension": ".py",
   "mimetype": "text/x-python",
   "name": "python",
   "nbconvert_exporter": "python",
   "pygments_lexer": "ipython3",
   "version": "3.7.6"
  }
 },
 "nbformat": 4,
 "nbformat_minor": 2
}
