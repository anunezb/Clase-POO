{
 "cells": [
  {
   "cell_type": "markdown",
   "metadata": {},
   "source": [
    "# Funciones recursivas "
   ]
  },
  {
   "cell_type": "markdown",
   "metadata": {},
   "source": [
    "Una función recursiva es una función definida en términos de sí misma usando una expresión que se referencíe a si misma."
   ]
  },
  {
   "cell_type": "markdown",
   "metadata": {},
   "source": [
    "Ventajas de la recursión:\n",
    "-  Las funciones recursivas hacen el código más limpio y elegante\n",
    "-  Las tareas complejas se pueden dividir en más simples sub-programas usando recursión\n",
    "-  La generación de secuencias es más simple que de manera iterativa"
   ]
  },
  {
   "cell_type": "markdown",
   "metadata": {},
   "source": [
    "Desventajas de la recursión:\n",
    "-  A veces es difícil seguir la lógica detrás de la recursión\n",
    "-  Las llamadas recusrivas son más costosas computacionalmente hablando por usar más memoria.\n",
    "-  Es difícil depurar las funciones recursivas."
   ]
  },
  {
   "cell_type": "code",
   "execution_count": 6,
   "metadata": {},
   "outputs": [],
   "source": [
    "#Función recursiva del factorial    https://realpython.com/python-thinking-recursively/\n",
    "\n",
    "def factorial_recursivo(n):\n",
    "# Caso base  1!=1\n",
    "    if n==1:\n",
    "        print(\"entra caso base con \",n)\n",
    "        return 1\n",
    "    #caso recursivo n!=n*(n-1)\n",
    "    else:\n",
    "        print(\"entra recursion con \",n)\n",
    "        return n*factorial_recursivo(n-1)"
   ]
  },
  {
   "cell_type": "code",
   "execution_count": 7,
   "metadata": {},
   "outputs": [
    {
     "name": "stdout",
     "output_type": "stream",
     "text": [
      "entra recursion con  6\n",
      "entra recursion con  5\n",
      "entra recursion con  4\n",
      "entra recursion con  3\n",
      "entra recursion con  2\n",
      "entra caso base con  1\n"
     ]
    },
    {
     "data": {
      "text/plain": [
       "720"
      ]
     },
     "execution_count": 7,
     "metadata": {},
     "output_type": "execute_result"
    }
   ],
   "source": [
    "factorial_recursivo(6)"
   ]
  },
  {
   "cell_type": "code",
   "execution_count": 10,
   "metadata": {},
   "outputs": [],
   "source": [
    "#Función recursiva para sumar los número del 1 al 10\n",
    "\n",
    "def suma_recursiva(num,suma):\n",
    "    # Caso base  regresa la suma\n",
    "    if num>10:\n",
    "        print(\"entra caso base con \",num)\n",
    "        return suma\n",
    "    #caso recursivo \n",
    "    else:\n",
    "        print(\"entra recursion con \",num, \"y \",suma)\n",
    "        return suma_recursiva(num+1,suma+num)"
   ]
  },
  {
   "cell_type": "code",
   "execution_count": 11,
   "metadata": {},
   "outputs": [
    {
     "name": "stdout",
     "output_type": "stream",
     "text": [
      "entra recursion con  1 y  0\n",
      "entra recursion con  2 y  1\n",
      "entra recursion con  3 y  3\n",
      "entra recursion con  4 y  6\n",
      "entra recursion con  5 y  10\n",
      "entra recursion con  6 y  15\n",
      "entra recursion con  7 y  21\n",
      "entra recursion con  8 y  28\n",
      "entra recursion con  9 y  36\n",
      "entra recursion con  10 y  45\n",
      "entra caso base con  11\n"
     ]
    },
    {
     "data": {
      "text/plain": [
       "55"
      ]
     },
     "execution_count": 11,
     "metadata": {},
     "output_type": "execute_result"
    }
   ],
   "source": [
    "suma_recursiva(1,0)"
   ]
  },
  {
   "cell_type": "code",
   "execution_count": 15,
   "metadata": {},
   "outputs": [],
   "source": [
    "def suma_recursiva2(num,suma):\n",
    "    # Caso base  regresa la suma\n",
    "    if num<1:\n",
    "        print(\"entra caso base con \",num)\n",
    "        return suma\n",
    "    #caso recursivo n!=n*(n-1)\n",
    "    else:\n",
    "        print(\"entra recursion con \",num, \"y \",suma)\n",
    "        return suma_recursiva2(num-1,suma+num)"
   ]
  },
  {
   "cell_type": "code",
   "execution_count": 17,
   "metadata": {},
   "outputs": [
    {
     "name": "stdout",
     "output_type": "stream",
     "text": [
      "Dame un numero N: 5\n",
      "entra recursion con  5 y  0\n",
      "entra recursion con  4 y  5\n",
      "entra recursion con  3 y  9\n",
      "entra recursion con  2 y  12\n",
      "entra recursion con  1 y  14\n",
      "entra caso base con  0\n"
     ]
    },
    {
     "data": {
      "text/plain": [
       "15"
      ]
     },
     "execution_count": 17,
     "metadata": {},
     "output_type": "execute_result"
    }
   ],
   "source": [
    "n=int(input(\"Dame un numero N: \"))\n",
    "suma_recursiva2(n,0)"
   ]
  },
  {
   "cell_type": "code",
   "execution_count": 12,
   "metadata": {},
   "outputs": [],
   "source": [
    "def suma_lista(L):\n",
    "    print(L)\n",
    "    if not L:\n",
    "       return 0\n",
    "    else:\n",
    "       return L[0]+suma_lista(L[1:])\n",
    "    \n",
    "print(suma_lista([1,2,3,4,5,6,7])) "
   ]
  },
  {
   "cell_type": "code",
   "execution_count": 14,
   "metadata": {},
   "outputs": [
    {
     "name": "stdout",
     "output_type": "stream",
     "text": [
      "['ver', 'oscar', '3', 'mejor', '5,6,7']\n",
      "['oscar', '3', 'mejor', '5,6,7']\n",
      "['3', 'mejor', '5,6,7']\n",
      "['mejor', '5,6,7']\n",
      "['5,6,7']\n",
      "veroscar3mejor5,6,7\n"
     ]
    }
   ],
   "source": [
    "def suma_lista(L):\n",
    "    print(L)\n",
    "    if len(L)==1:\n",
    "       return L[0]\n",
    "    else:\n",
    "       return L[0]+suma_lista(L[1:])\n",
    "    \n",
    "a=suma_lista(['ver','oscar','3','mejor','5,6,7']) \n",
    "print(a)"
   ]
  },
  {
   "cell_type": "code",
   "execution_count": 10,
   "metadata": {},
   "outputs": [
    {
     "data": {
      "text/plain": [
       "[1]"
      ]
     },
     "execution_count": 10,
     "metadata": {},
     "output_type": "execute_result"
    }
   ],
   "source": [
    "l=[1]\n",
    "l"
   ]
  },
  {
   "cell_type": "code",
   "execution_count": 11,
   "metadata": {},
   "outputs": [
    {
     "data": {
      "text/plain": [
       "False"
      ]
     },
     "execution_count": 11,
     "metadata": {},
     "output_type": "execute_result"
    }
   ],
   "source": [
    "not l"
   ]
  },
  {
   "cell_type": "code",
   "execution_count": null,
   "metadata": {},
   "outputs": [],
   "source": []
  }
 ],
 "metadata": {
  "kernelspec": {
   "display_name": "Python 3",
   "language": "python",
   "name": "python3"
  },
  "language_info": {
   "codemirror_mode": {
    "name": "ipython",
    "version": 3
   },
   "file_extension": ".py",
   "mimetype": "text/x-python",
   "name": "python",
   "nbconvert_exporter": "python",
   "pygments_lexer": "ipython3",
   "version": "3.7.6"
  }
 },
 "nbformat": 4,
 "nbformat_minor": 2
}
